{
  "nbformat": 4,
  "nbformat_minor": 0,
  "metadata": {
    "colab": {
      "provenance": [],
      "authorship_tag": "ABX9TyNweVCD7wveJo9Uy9XXtEY8",
      "include_colab_link": true
    },
    "kernelspec": {
      "name": "python3",
      "display_name": "Python 3"
    },
    "language_info": {
      "name": "python"
    }
  },
  "cells": [
    {
      "cell_type": "markdown",
      "metadata": {
        "id": "view-in-github",
        "colab_type": "text"
      },
      "source": [
        "<a href=\"https://colab.research.google.com/github/brandonthimmesch/IMSE541/blob/main/MSDA_Control_Charts.ipynb\" target=\"_parent\"><img src=\"https://colab.research.google.com/assets/colab-badge.svg\" alt=\"Open In Colab\"/></a>"
      ]
    },
    {
      "cell_type": "code",
      "execution_count": null,
      "metadata": {
        "id": "5_Vq98KX5kq_"
      },
      "outputs": [],
      "source": [
        "# Import required libraries\n",
        "import numpy as np\n",
        "import pandas as pd\n",
        "import matplotlib.pyplot as plt\n",
        "import statistics"
      ]
    },
    {
      "cell_type": "code",
      "source": [
        "# mount google drive\n",
        "from google.colab import drive\n",
        "drive.mount('/content/drive')"
      ],
      "metadata": {
        "colab": {
          "base_uri": "https://localhost:8080/"
        },
        "id": "4bmdE3WR571L",
        "outputId": "788fa975-dcdb-447b-b0bc-5b4405ad4dee"
      },
      "execution_count": null,
      "outputs": [
        {
          "output_type": "stream",
          "name": "stdout",
          "text": [
            "Mounted at /content/drive\n"
          ]
        }
      ]
    },
    {
      "cell_type": "markdown",
      "source": [
        "#  C Control Chart for Alpha Product Defects"
      ],
      "metadata": {
        "id": "6t18-UenVger"
      }
    },
    {
      "cell_type": "code",
      "source": [
        "# retrive data for alpha defects\n",
        "a_defects = pd.read_csv('drive/My Drive/Colab Notebooks/MSDA/alpha_defects.csv', sep=',', na_values=\".\")\n",
        "a_defects"
      ],
      "metadata": {
        "colab": {
          "base_uri": "https://localhost:8080/",
          "height": 206
        },
        "id": "hK4rOl6o6La_",
        "outputId": "73d62867-a324-4102-b028-771a73b664b5"
      },
      "execution_count": null,
      "outputs": [
        {
          "output_type": "execute_result",
          "data": {
            "text/plain": [
              "   defects  group_size     p\n",
              "0        4          20  0.20\n",
              "1        7          20  0.35\n",
              "2        5          20  0.25\n",
              "3        4          20  0.20\n",
              "4        8          20  0.40"
            ],
            "text/html": [
              "\n",
              "  <div id=\"df-52a1c875-3fa3-4a83-930a-97e5210005e9\">\n",
              "    <div class=\"colab-df-container\">\n",
              "      <div>\n",
              "<style scoped>\n",
              "    .dataframe tbody tr th:only-of-type {\n",
              "        vertical-align: middle;\n",
              "    }\n",
              "\n",
              "    .dataframe tbody tr th {\n",
              "        vertical-align: top;\n",
              "    }\n",
              "\n",
              "    .dataframe thead th {\n",
              "        text-align: right;\n",
              "    }\n",
              "</style>\n",
              "<table border=\"1\" class=\"dataframe\">\n",
              "  <thead>\n",
              "    <tr style=\"text-align: right;\">\n",
              "      <th></th>\n",
              "      <th>defects</th>\n",
              "      <th>group_size</th>\n",
              "      <th>p</th>\n",
              "    </tr>\n",
              "  </thead>\n",
              "  <tbody>\n",
              "    <tr>\n",
              "      <th>0</th>\n",
              "      <td>4</td>\n",
              "      <td>20</td>\n",
              "      <td>0.20</td>\n",
              "    </tr>\n",
              "    <tr>\n",
              "      <th>1</th>\n",
              "      <td>7</td>\n",
              "      <td>20</td>\n",
              "      <td>0.35</td>\n",
              "    </tr>\n",
              "    <tr>\n",
              "      <th>2</th>\n",
              "      <td>5</td>\n",
              "      <td>20</td>\n",
              "      <td>0.25</td>\n",
              "    </tr>\n",
              "    <tr>\n",
              "      <th>3</th>\n",
              "      <td>4</td>\n",
              "      <td>20</td>\n",
              "      <td>0.20</td>\n",
              "    </tr>\n",
              "    <tr>\n",
              "      <th>4</th>\n",
              "      <td>8</td>\n",
              "      <td>20</td>\n",
              "      <td>0.40</td>\n",
              "    </tr>\n",
              "  </tbody>\n",
              "</table>\n",
              "</div>\n",
              "      <button class=\"colab-df-convert\" onclick=\"convertToInteractive('df-52a1c875-3fa3-4a83-930a-97e5210005e9')\"\n",
              "              title=\"Convert this dataframe to an interactive table.\"\n",
              "              style=\"display:none;\">\n",
              "        \n",
              "  <svg xmlns=\"http://www.w3.org/2000/svg\" height=\"24px\"viewBox=\"0 0 24 24\"\n",
              "       width=\"24px\">\n",
              "    <path d=\"M0 0h24v24H0V0z\" fill=\"none\"/>\n",
              "    <path d=\"M18.56 5.44l.94 2.06.94-2.06 2.06-.94-2.06-.94-.94-2.06-.94 2.06-2.06.94zm-11 1L8.5 8.5l.94-2.06 2.06-.94-2.06-.94L8.5 2.5l-.94 2.06-2.06.94zm10 10l.94 2.06.94-2.06 2.06-.94-2.06-.94-.94-2.06-.94 2.06-2.06.94z\"/><path d=\"M17.41 7.96l-1.37-1.37c-.4-.4-.92-.59-1.43-.59-.52 0-1.04.2-1.43.59L10.3 9.45l-7.72 7.72c-.78.78-.78 2.05 0 2.83L4 21.41c.39.39.9.59 1.41.59.51 0 1.02-.2 1.41-.59l7.78-7.78 2.81-2.81c.8-.78.8-2.07 0-2.86zM5.41 20L4 18.59l7.72-7.72 1.47 1.35L5.41 20z\"/>\n",
              "  </svg>\n",
              "      </button>\n",
              "      \n",
              "  <style>\n",
              "    .colab-df-container {\n",
              "      display:flex;\n",
              "      flex-wrap:wrap;\n",
              "      gap: 12px;\n",
              "    }\n",
              "\n",
              "    .colab-df-convert {\n",
              "      background-color: #E8F0FE;\n",
              "      border: none;\n",
              "      border-radius: 50%;\n",
              "      cursor: pointer;\n",
              "      display: none;\n",
              "      fill: #1967D2;\n",
              "      height: 32px;\n",
              "      padding: 0 0 0 0;\n",
              "      width: 32px;\n",
              "    }\n",
              "\n",
              "    .colab-df-convert:hover {\n",
              "      background-color: #E2EBFA;\n",
              "      box-shadow: 0px 1px 2px rgba(60, 64, 67, 0.3), 0px 1px 3px 1px rgba(60, 64, 67, 0.15);\n",
              "      fill: #174EA6;\n",
              "    }\n",
              "\n",
              "    [theme=dark] .colab-df-convert {\n",
              "      background-color: #3B4455;\n",
              "      fill: #D2E3FC;\n",
              "    }\n",
              "\n",
              "    [theme=dark] .colab-df-convert:hover {\n",
              "      background-color: #434B5C;\n",
              "      box-shadow: 0px 1px 3px 1px rgba(0, 0, 0, 0.15);\n",
              "      filter: drop-shadow(0px 1px 2px rgba(0, 0, 0, 0.3));\n",
              "      fill: #FFFFFF;\n",
              "    }\n",
              "  </style>\n",
              "\n",
              "      <script>\n",
              "        const buttonEl =\n",
              "          document.querySelector('#df-52a1c875-3fa3-4a83-930a-97e5210005e9 button.colab-df-convert');\n",
              "        buttonEl.style.display =\n",
              "          google.colab.kernel.accessAllowed ? 'block' : 'none';\n",
              "\n",
              "        async function convertToInteractive(key) {\n",
              "          const element = document.querySelector('#df-52a1c875-3fa3-4a83-930a-97e5210005e9');\n",
              "          const dataTable =\n",
              "            await google.colab.kernel.invokeFunction('convertToInteractive',\n",
              "                                                     [key], {});\n",
              "          if (!dataTable) return;\n",
              "\n",
              "          const docLinkHtml = 'Like what you see? Visit the ' +\n",
              "            '<a target=\"_blank\" href=https://colab.research.google.com/notebooks/data_table.ipynb>data table notebook</a>'\n",
              "            + ' to learn more about interactive tables.';\n",
              "          element.innerHTML = '';\n",
              "          dataTable['output_type'] = 'display_data';\n",
              "          await google.colab.output.renderOutput(dataTable, element);\n",
              "          const docLink = document.createElement('div');\n",
              "          docLink.innerHTML = docLinkHtml;\n",
              "          element.appendChild(docLink);\n",
              "        }\n",
              "      </script>\n",
              "    </div>\n",
              "  </div>\n",
              "  "
            ]
          },
          "metadata": {},
          "execution_count": 5
        }
      ]
    },
    {
      "cell_type": "code",
      "source": [
        "# Plot c-chart\n",
        "plt.figure(figsize=(15,7.5))\n",
        "plt.plot(a_defects['defects'], linestyle='-', marker='o', color='black')\n",
        "plt.axhline(statistics.mean(a_defects['defects'])+3*np.sqrt(statistics.mean(a_defects['defects'])), color='red', linestyle='dashed')\n",
        "plt.axhline(statistics.mean(a_defects['defects'])-3*np.sqrt(statistics.mean(a_defects['defects'])), color='red', linestyle='dashed')\n",
        "plt.axhline(statistics.mean(a_defects['defects']), color='blue')\n",
        "plt.ylim(bottom=0)\n",
        "plt.title('C Chart for Alpha Product Defects', fontsize = 22)\n",
        "plt.xlabel('Process', fontsize = 18)\n",
        "plt.ylabel('Defect Count', fontsize = 18)\n",
        "\n",
        "bars = ('Rabbet and Dado Cuts','Torching Base','Branding','Staining','Finishing')\n",
        "y_pos = np.arange(len(bars))\n",
        "plt.xticks(y_pos, bars, fontsize = 16)\n",
        "\n",
        "# Validate points out of control limits\n",
        "i = 0\n",
        "control = True\n",
        "for group in a_defects['defects']:\n",
        "    if group > statistics.mean(a_defects['defects'])+3*np.sqrt(statistics.mean(a_defects['defects'])) or group < statistics.mean(a_defects['defects'])-3*np.sqrt(statistics.mean(a_defects['defects'])):\n",
        "        print('Group', i, 'out of defects cotrol limits!')\n",
        "        control = False\n",
        "    i += 1\n",
        "if control == True:\n",
        "    print('All points within control limits.')"
      ],
      "metadata": {
        "id": "nTvx-ePeUzsu",
        "colab": {
          "base_uri": "https://localhost:8080/",
          "height": 522
        },
        "outputId": "39493f63-137b-4dca-f484-b4517c8f4752"
      },
      "execution_count": null,
      "outputs": [
        {
          "output_type": "stream",
          "name": "stdout",
          "text": [
            "All points within control limits.\n"
          ]
        },
        {
          "output_type": "display_data",
          "data": {
            "text/plain": [
              "<Figure size 1080x540 with 1 Axes>"
            ],
            "image/png": "[encoded data removed]"
          },
          "metadata": {
            "needs_background": "light"
          }
        }
      ]
    },
    {
      "cell_type": "markdown",
      "source": [
        "# C Control Chart for Beta Product Defects"
      ],
      "metadata": {
        "id": "tzHdyKZmVt3B"
      }
    },
    {
      "cell_type": "code",
      "source": [
        "# retrive data for beta defects\n",
        "b_defects = pd.read_csv('drive/My Drive/Colab Notebooks/MSDA/beta_defects.csv', sep=',', na_values=\".\")\n",
        "b_defects"
      ],
      "metadata": {
        "colab": {
          "base_uri": "https://localhost:8080/",
          "height": 206
        },
        "id": "UpHB2W9K_GEF",
        "outputId": "136cc2fe-d8eb-4085-806d-ffb3cde1e499"
      },
      "execution_count": null,
      "outputs": [
        {
          "output_type": "execute_result",
          "data": {
            "text/plain": [
              "   defects  group_size     p\n",
              "0        6          20  0.30\n",
              "1        3          20  0.15\n",
              "2       10          20  0.50\n",
              "3        2          20  0.10\n",
              "4        8          20  0.40"
            ],
            "text/html": [
              "\n",
              "  <div id=\"df-5f29ecfb-de35-4189-9d7f-ce8edf96e1be\">\n",
              "    <div class=\"colab-df-container\">\n",
              "      <div>\n",
              "<style scoped>\n",
              "    .dataframe tbody tr th:only-of-type {\n",
              "        vertical-align: middle;\n",
              "    }\n",
              "\n",
              "    .dataframe tbody tr th {\n",
              "        vertical-align: top;\n",
              "    }\n",
              "\n",
              "    .dataframe thead th {\n",
              "        text-align: right;\n",
              "    }\n",
              "</style>\n",
              "<table border=\"1\" class=\"dataframe\">\n",
              "  <thead>\n",
              "    <tr style=\"text-align: right;\">\n",
              "      <th></th>\n",
              "      <th>defects</th>\n",
              "      <th>group_size</th>\n",
              "      <th>p</th>\n",
              "    </tr>\n",
              "  </thead>\n",
              "  <tbody>\n",
              "    <tr>\n",
              "      <th>0</th>\n",
              "      <td>6</td>\n",
              "      <td>20</td>\n",
              "      <td>0.30</td>\n",
              "    </tr>\n",
              "    <tr>\n",
              "      <th>1</th>\n",
              "      <td>3</td>\n",
              "      <td>20</td>\n",
              "      <td>0.15</td>\n",
              "    </tr>\n",
              "    <tr>\n",
              "      <th>2</th>\n",
              "      <td>10</td>\n",
              "      <td>20</td>\n",
              "      <td>0.50</td>\n",
              "    </tr>\n",
              "    <tr>\n",
              "      <th>3</th>\n",
              "      <td>2</td>\n",
              "      <td>20</td>\n",
              "      <td>0.10</td>\n",
              "    </tr>\n",
              "    <tr>\n",
              "      <th>4</th>\n",
              "      <td>8</td>\n",
              "      <td>20</td>\n",
              "      <td>0.40</td>\n",
              "    </tr>\n",
              "  </tbody>\n",
              "</table>\n",
              "</div>\n",
              "      <button class=\"colab-df-convert\" onclick=\"convertToInteractive('df-5f29ecfb-de35-4189-9d7f-ce8edf96e1be')\"\n",
              "              title=\"Convert this dataframe to an interactive table.\"\n",
              "              style=\"display:none;\">\n",
              "        \n",
              "  <svg xmlns=\"http://www.w3.org/2000/svg\" height=\"24px\"viewBox=\"0 0 24 24\"\n",
              "       width=\"24px\">\n",
              "    <path d=\"M0 0h24v24H0V0z\" fill=\"none\"/>\n",
              "    <path d=\"M18.56 5.44l.94 2.06.94-2.06 2.06-.94-2.06-.94-.94-2.06-.94 2.06-2.06.94zm-11 1L8.5 8.5l.94-2.06 2.06-.94-2.06-.94L8.5 2.5l-.94 2.06-2.06.94zm10 10l.94 2.06.94-2.06 2.06-.94-2.06-.94-.94-2.06-.94 2.06-2.06.94z\"/><path d=\"M17.41 7.96l-1.37-1.37c-.4-.4-.92-.59-1.43-.59-.52 0-1.04.2-1.43.59L10.3 9.45l-7.72 7.72c-.78.78-.78 2.05 0 2.83L4 21.41c.39.39.9.59 1.41.59.51 0 1.02-.2 1.41-.59l7.78-7.78 2.81-2.81c.8-.78.8-2.07 0-2.86zM5.41 20L4 18.59l7.72-7.72 1.47 1.35L5.41 20z\"/>\n",
              "  </svg>\n",
              "      </button>\n",
              "      \n",
              "  <style>\n",
              "    .colab-df-container {\n",
              "      display:flex;\n",
              "      flex-wrap:wrap;\n",
              "      gap: 12px;\n",
              "    }\n",
              "\n",
              "    .colab-df-convert {\n",
              "      background-color: #E8F0FE;\n",
              "      border: none;\n",
              "      border-radius: 50%;\n",
              "      cursor: pointer;\n",
              "      display: none;\n",
              "      fill: #1967D2;\n",
              "      height: 32px;\n",
              "      padding: 0 0 0 0;\n",
              "      width: 32px;\n",
              "    }\n",
              "\n",
              "    .colab-df-convert:hover {\n",
              "      background-color: #E2EBFA;\n",
              "      box-shadow: 0px 1px 2px rgba(60, 64, 67, 0.3), 0px 1px 3px 1px rgba(60, 64, 67, 0.15);\n",
              "      fill: #174EA6;\n",
              "    }\n",
              "\n",
              "    [theme=dark] .colab-df-convert {\n",
              "      background-color: #3B4455;\n",
              "      fill: #D2E3FC;\n",
              "    }\n",
              "\n",
              "    [theme=dark] .colab-df-convert:hover {\n",
              "      background-color: #434B5C;\n",
              "      box-shadow: 0px 1px 3px 1px rgba(0, 0, 0, 0.15);\n",
              "      filter: drop-shadow(0px 1px 2px rgba(0, 0, 0, 0.3));\n",
              "      fill: #FFFFFF;\n",
              "    }\n",
              "  </style>\n",
              "\n",
              "      <script>\n",
              "        const buttonEl =\n",
              "          document.querySelector('#df-5f29ecfb-de35-4189-9d7f-ce8edf96e1be button.colab-df-convert');\n",
              "        buttonEl.style.display =\n",
              "          google.colab.kernel.accessAllowed ? 'block' : 'none';\n",
              "\n",
              "        async function convertToInteractive(key) {\n",
              "          const element = document.querySelector('#df-5f29ecfb-de35-4189-9d7f-ce8edf96e1be');\n",
              "          const dataTable =\n",
              "            await google.colab.kernel.invokeFunction('convertToInteractive',\n",
              "                                                     [key], {});\n",
              "          if (!dataTable) return;\n",
              "\n",
              "          const docLinkHtml = 'Like what you see? Visit the ' +\n",
              "            '<a target=\"_blank\" href=https://colab.research.google.com/notebooks/data_table.ipynb>data table notebook</a>'\n",
              "            + ' to learn more about interactive tables.';\n",
              "          element.innerHTML = '';\n",
              "          dataTable['output_type'] = 'display_data';\n",
              "          await google.colab.output.renderOutput(dataTable, element);\n",
              "          const docLink = document.createElement('div');\n",
              "          docLink.innerHTML = docLinkHtml;\n",
              "          element.appendChild(docLink);\n",
              "        }\n",
              "      </script>\n",
              "    </div>\n",
              "  </div>\n",
              "  "
            ]
          },
          "metadata": {},
          "execution_count": 9
        }
      ]
    },
    {
      "cell_type": "code",
      "source": [
        "# Plot c-chart\n",
        "plt.figure(figsize=(15,7.5))\n",
        "plt.plot(b_defects['defects'], linestyle='-', marker='o', color='black')\n",
        "plt.axhline(statistics.mean(b_defects['defects'])+3*np.sqrt(statistics.mean(b_defects['defects'])), color='red', linestyle='dashed')\n",
        "plt.axhline(statistics.mean(b_defects['defects'])-3*np.sqrt(statistics.mean(b_defects['defects'])), color='red', linestyle='dashed')\n",
        "plt.axhline(statistics.mean(b_defects['defects']), color='blue')\n",
        "plt.ylim(bottom=0)\n",
        "plt.title('C Chart for Beta Product Defects', fontsize = 22)\n",
        "plt.xlabel('Process', fontsize = 18)\n",
        "plt.ylabel('Defect Count', fontsize = 18)\n",
        "\n",
        "bars = ('Gluing','CNC Router','Miter Saw','Laser Engraving','Finishing')\n",
        "y_pos = np.arange(len(bars))\n",
        "plt.xticks(y_pos, bars, fontsize = 16)\n",
        "\n",
        "# Validate points out of control limits\n",
        "i = 0\n",
        "control = True\n",
        "for group in a_defects['defects']:\n",
        "    if group > statistics.mean(b_defects['defects'])+3*np.sqrt(statistics.mean(b_defects['defects'])) or group < statistics.mean(b_defects['defects'])-3*np.sqrt(statistics.mean(b_defects['defects'])):\n",
        "        print('Group', i, 'out of defects cotrol limits!')\n",
        "        control = False\n",
        "    i += 1\n",
        "if control == True:\n",
        "    print('All points within control limits.')"
      ],
      "metadata": {
        "colab": {
          "base_uri": "https://localhost:8080/",
          "height": 522
        },
        "id": "2Ot9F4tKa1bX",
        "outputId": "2d44f6ba-a0d2-4faf-eff7-e5fcf35551a7"
      },
      "execution_count": null,
      "outputs": [
        {
          "output_type": "stream",
          "name": "stdout",
          "text": [
            "All points within control limits.\n"
          ]
        },
        {
          "output_type": "display_data",
          "data": {
            "text/plain": [
              "<Figure size 1080x540 with 1 Axes>"
            ],
            "image/png": "[encoded data removed]"
          },
          "metadata": {
            "needs_background": "light"
          }
        }
      ]
    },
    {
      "cell_type": "code",
      "source": [],
      "metadata": {
        "id": "w4l59ZRJFc0y"
      },
      "execution_count": null,
      "outputs": []
    },
    {
      "cell_type": "markdown",
      "source": [
        "# X bar and R Control Charts for Beta Product Thickness"
      ],
      "metadata": {
        "id": "_YiVyeoxVysY"
      }
    },
    {
      "cell_type": "code",
      "source": [
        "# retrive data for beta thick\n",
        "b_thick = pd.read_csv('drive/My Drive/Colab Notebooks/MSDA/beta_thickness.csv', sep=',', na_values=\".\")\n",
        "b_thick['Sample'] = b_thick.index+1\n",
        "b_thick.tail()"
      ],
      "metadata": {
        "colab": {
          "base_uri": "https://localhost:8080/",
          "height": 206
        },
        "id": "M3qjf5Ak_Mbt",
        "outputId": "b89d5a01-23e6-44f2-c891-24197dec9eaf"
      },
      "execution_count": null,
      "outputs": [
        {
          "output_type": "execute_result",
          "data": {
            "text/plain": [
              "   shift_1  shift_2  shift_3  shift_4  shift_5  Sample\n",
              "5    0.369    0.389    0.358    0.301    0.378       6\n",
              "6    0.387    0.391    0.316    0.389    0.390       7\n",
              "7    0.374    0.353    0.356    0.339    0.356       8\n",
              "8    0.302    0.371    0.393    0.361    0.377       9\n",
              "9    0.378    0.349    0.299    0.369    0.302      10"
            ],
            "text/html": [
              "\n",
              "  <div id=\"df-8b2d66ed-26c4-402c-b023-8ee54654dbd4\">\n",
              "    <div class=\"colab-df-container\">\n",
              "      <div>\n",
              "<style scoped>\n",
              "    .dataframe tbody tr th:only-of-type {\n",
              "        vertical-align: middle;\n",
              "    }\n",
              "\n",
              "    .dataframe tbody tr th {\n",
              "        vertical-align: top;\n",
              "    }\n",
              "\n",
              "    .dataframe thead th {\n",
              "        text-align: right;\n",
              "    }\n",
              "</style>\n",
              "<table border=\"1\" class=\"dataframe\">\n",
              "  <thead>\n",
              "    <tr style=\"text-align: right;\">\n",
              "      <th></th>\n",
              "      <th>shift_1</th>\n",
              "      <th>shift_2</th>\n",
              "      <th>shift_3</th>\n",
              "      <th>shift_4</th>\n",
              "      <th>shift_5</th>\n",
              "      <th>Sample</th>\n",
              "    </tr>\n",
              "  </thead>\n",
              "  <tbody>\n",
              "    <tr>\n",
              "      <th>5</th>\n",
              "      <td>0.369</td>\n",
              "      <td>0.389</td>\n",
              "      <td>0.358</td>\n",
              "      <td>0.301</td>\n",
              "      <td>0.378</td>\n",
              "      <td>6</td>\n",
              "    </tr>\n",
              "    <tr>\n",
              "      <th>6</th>\n",
              "      <td>0.387</td>\n",
              "      <td>0.391</td>\n",
              "      <td>0.316</td>\n",
              "      <td>0.389</td>\n",
              "      <td>0.390</td>\n",
              "      <td>7</td>\n",
              "    </tr>\n",
              "    <tr>\n",
              "      <th>7</th>\n",
              "      <td>0.374</td>\n",
              "      <td>0.353</td>\n",
              "      <td>0.356</td>\n",
              "      <td>0.339</td>\n",
              "      <td>0.356</td>\n",
              "      <td>8</td>\n",
              "    </tr>\n",
              "    <tr>\n",
              "      <th>8</th>\n",
              "      <td>0.302</td>\n",
              "      <td>0.371</td>\n",
              "      <td>0.393</td>\n",
              "      <td>0.361</td>\n",
              "      <td>0.377</td>\n",
              "      <td>9</td>\n",
              "    </tr>\n",
              "    <tr>\n",
              "      <th>9</th>\n",
              "      <td>0.378</td>\n",
              "      <td>0.349</td>\n",
              "      <td>0.299</td>\n",
              "      <td>0.369</td>\n",
              "      <td>0.302</td>\n",
              "      <td>10</td>\n",
              "    </tr>\n",
              "  </tbody>\n",
              "</table>\n",
              "</div>\n",
              "      <button class=\"colab-df-convert\" onclick=\"convertToInteractive('df-8b2d66ed-26c4-402c-b023-8ee54654dbd4')\"\n",
              "              title=\"Convert this dataframe to an interactive table.\"\n",
              "              style=\"display:none;\">\n",
              "        \n",
              "  <svg xmlns=\"http://www.w3.org/2000/svg\" height=\"24px\"viewBox=\"0 0 24 24\"\n",
              "       width=\"24px\">\n",
              "    <path d=\"M0 0h24v24H0V0z\" fill=\"none\"/>\n",
              "    <path d=\"M18.56 5.44l.94 2.06.94-2.06 2.06-.94-2.06-.94-.94-2.06-.94 2.06-2.06.94zm-11 1L8.5 8.5l.94-2.06 2.06-.94-2.06-.94L8.5 2.5l-.94 2.06-2.06.94zm10 10l.94 2.06.94-2.06 2.06-.94-2.06-.94-.94-2.06-.94 2.06-2.06.94z\"/><path d=\"M17.41 7.96l-1.37-1.37c-.4-.4-.92-.59-1.43-.59-.52 0-1.04.2-1.43.59L10.3 9.45l-7.72 7.72c-.78.78-.78 2.05 0 2.83L4 21.41c.39.39.9.59 1.41.59.51 0 1.02-.2 1.41-.59l7.78-7.78 2.81-2.81c.8-.78.8-2.07 0-2.86zM5.41 20L4 18.59l7.72-7.72 1.47 1.35L5.41 20z\"/>\n",
              "  </svg>\n",
              "      </button>\n",
              "      \n",
              "  <style>\n",
              "    .colab-df-container {\n",
              "      display:flex;\n",
              "      flex-wrap:wrap;\n",
              "      gap: 12px;\n",
              "    }\n",
              "\n",
              "    .colab-df-convert {\n",
              "      background-color: #E8F0FE;\n",
              "      border: none;\n",
              "      border-radius: 50%;\n",
              "      cursor: pointer;\n",
              "      display: none;\n",
              "      fill: #1967D2;\n",
              "      height: 32px;\n",
              "      padding: 0 0 0 0;\n",
              "      width: 32px;\n",
              "    }\n",
              "\n",
              "    .colab-df-convert:hover {\n",
              "      background-color: #E2EBFA;\n",
              "      box-shadow: 0px 1px 2px rgba(60, 64, 67, 0.3), 0px 1px 3px 1px rgba(60, 64, 67, 0.15);\n",
              "      fill: #174EA6;\n",
              "    }\n",
              "\n",
              "    [theme=dark] .colab-df-convert {\n",
              "      background-color: #3B4455;\n",
              "      fill: #D2E3FC;\n",
              "    }\n",
              "\n",
              "    [theme=dark] .colab-df-convert:hover {\n",
              "      background-color: #434B5C;\n",
              "      box-shadow: 0px 1px 3px 1px rgba(0, 0, 0, 0.15);\n",
              "      filter: drop-shadow(0px 1px 2px rgba(0, 0, 0, 0.3));\n",
              "      fill: #FFFFFF;\n",
              "    }\n",
              "  </style>\n",
              "\n",
              "      <script>\n",
              "        const buttonEl =\n",
              "          document.querySelector('#df-8b2d66ed-26c4-402c-b023-8ee54654dbd4 button.colab-df-convert');\n",
              "        buttonEl.style.display =\n",
              "          google.colab.kernel.accessAllowed ? 'block' : 'none';\n",
              "\n",
              "        async function convertToInteractive(key) {\n",
              "          const element = document.querySelector('#df-8b2d66ed-26c4-402c-b023-8ee54654dbd4');\n",
              "          const dataTable =\n",
              "            await google.colab.kernel.invokeFunction('convertToInteractive',\n",
              "                                                     [key], {});\n",
              "          if (!dataTable) return;\n",
              "\n",
              "          const docLinkHtml = 'Like what you see? Visit the ' +\n",
              "            '<a target=\"_blank\" href=https://colab.research.google.com/notebooks/data_table.ipynb>data table notebook</a>'\n",
              "            + ' to learn more about interactive tables.';\n",
              "          element.innerHTML = '';\n",
              "          dataTable['output_type'] = 'display_data';\n",
              "          await google.colab.output.renderOutput(dataTable, element);\n",
              "          const docLink = document.createElement('div');\n",
              "          docLink.innerHTML = docLinkHtml;\n",
              "          element.appendChild(docLink);\n",
              "        }\n",
              "      </script>\n",
              "    </div>\n",
              "  </div>\n",
              "  "
            ]
          },
          "metadata": {},
          "execution_count": 11
        }
      ]
    },
    {
      "cell_type": "code",
      "source": [
        "#generate the Phase I data using filter\n",
        "#use the first 30 observations to setup the control charts\n",
        "b_thick_dataI= [b_thick[['shift_1', 'shift_2', 'shift_3', 'shift_4','shift_5']][b_thick['Sample'] < 31]]\n",
        "\n",
        "#retrieve the Phase II data\n",
        "b_thick_dataII= [b_thick[['shift_1', 'shift_2', 'shift_3', 'shift_4','shift_5']][b_thick['Sample'] >= 31]]\n",
        "         \n",
        "#all data points; the data type is a list\n",
        "b_thick_dataAll = [b_thick[['shift_1', 'shift_2', 'shift_3', 'shift_4','shift_5']]]\n",
        "\n",
        "b_thick_dataAll"
      ],
      "metadata": {
        "colab": {
          "base_uri": "https://localhost:8080/"
        },
        "id": "IvtjdDmAdVd2",
        "outputId": "3f984208-a6d5-47de-f5a8-9e9ab77706e6"
      },
      "execution_count": null,
      "outputs": [
        {
          "output_type": "execute_result",
          "data": {
            "text/plain": [
              "[   shift_1  shift_2  shift_3  shift_4  shift_5\n",
              " 0    0.374    0.303    0.373    0.315    0.367\n",
              " 1    0.369    0.371    0.362    0.371    0.303\n",
              " 2    0.371    0.381    0.305    0.298    0.354\n",
              " 3    0.384    0.351    0.352    0.317    0.378\n",
              " 4    0.369    0.334    0.363    0.315    0.300\n",
              " 5    0.369    0.389    0.358    0.301    0.378\n",
              " 6    0.387    0.391    0.316    0.389    0.390\n",
              " 7    0.374    0.353    0.356    0.339    0.356\n",
              " 8    0.302    0.371    0.393    0.361    0.377\n",
              " 9    0.378    0.349    0.299    0.369    0.302]"
            ]
          },
          "metadata": {},
          "execution_count": 12
        }
      ]
    },
    {
      "cell_type": "code",
      "source": [
        "# this np.reshape convert the list dataI into the proper subgroup and m=10\n",
        "x=np.reshape(b_thick_dataI, (10,5))\n",
        "x"
      ],
      "metadata": {
        "colab": {
          "base_uri": "https://localhost:8080/"
        },
        "id": "lePQhXMseirp",
        "outputId": "05b44759-b5ce-431a-8b69-171d0555ad38"
      },
      "execution_count": null,
      "outputs": [
        {
          "output_type": "execute_result",
          "data": {
            "text/plain": [
              "array([[0.374, 0.303, 0.373, 0.315, 0.367],\n",
              "       [0.369, 0.371, 0.362, 0.371, 0.303],\n",
              "       [0.371, 0.381, 0.305, 0.298, 0.354],\n",
              "       [0.384, 0.351, 0.352, 0.317, 0.378],\n",
              "       [0.369, 0.334, 0.363, 0.315, 0.3  ],\n",
              "       [0.369, 0.389, 0.358, 0.301, 0.378],\n",
              "       [0.387, 0.391, 0.316, 0.389, 0.39 ],\n",
              "       [0.374, 0.353, 0.356, 0.339, 0.356],\n",
              "       [0.302, 0.371, 0.393, 0.361, 0.377],\n",
              "       [0.378, 0.349, 0.299, 0.369, 0.302]])"
            ]
          },
          "metadata": {},
          "execution_count": 13
        }
      ]
    },
    {
      "cell_type": "code",
      "source": [
        "# Define list variable for groups means\n",
        "b_thick_x_bar = []\n",
        "\n",
        "# Define list variable for groups ranges\n",
        "b_thick_r = []\n",
        "\n",
        "# Define list variable for groups standard deviation\n",
        "b_thick_s = []"
      ],
      "metadata": {
        "id": "5SI8bGxeerOQ"
      },
      "execution_count": null,
      "outputs": []
    },
    {
      "cell_type": "code",
      "source": [
        "# Get and append groups means and ranges\n",
        "# if you run this cell multiple times, then the data series will be repeated\n",
        "for group in x:\n",
        "    b_thick_x_bar.append(group.mean())\n",
        "    b_thick_r.append(group.max() - group.min())\n",
        "    b_thick_s.append(np.std(group))\n",
        "#print(x_bar)\n",
        "#print(r)\n",
        "m=len(b_thick_x_bar)\n",
        "print('points in x, ', m)"
      ],
      "metadata": {
        "colab": {
          "base_uri": "https://localhost:8080/"
        },
        "id": "u2sAhCibewjA",
        "outputId": "4e256a1f-5234-4886-9cb8-88623b242adc"
      },
      "execution_count": null,
      "outputs": [
        {
          "output_type": "stream",
          "name": "stdout",
          "text": [
            "points in x,  10\n"
          ]
        }
      ]
    },
    {
      "cell_type": "code",
      "source": [
        "# Plot x-bar and R charts\n",
        "fig, axs = plt.subplots(2, figsize=(15,15), sharex='all')\n",
        "\n",
        "# x-bar chart\n",
        "# Chart parameters A2=0.577, D3, and D4 \n",
        "A2=0.577 #n=5\n",
        "D3=0     #n=5\n",
        "D4=2.144 #n=5\n",
        "\n",
        "axs[0].plot(b_thick_x_bar, linestyle='-', marker='o', color='black')\n",
        "axs[0].axhline((statistics.mean(b_thick_x_bar)+A2*statistics.mean(b_thick_r)), color='red', linestyle='dashed')\n",
        "axs[0].axhline((statistics.mean(b_thick_x_bar)-A2*statistics.mean(b_thick_r)), color='red', linestyle='dashed')\n",
        "axs[0].axhline((statistics.mean(b_thick_x_bar)), color='blue')\n",
        "axs[0].set_title('X-bar Chart for Beta Product Thickness',fontsize=22)\n",
        "axs[0].set( ylabel='Mean')\n",
        "axs[0].yaxis.get_label().set_fontsize(18)\n",
        "\n",
        "\n",
        "bars = ('1','2','3','4','5','6','7','8','9','10')\n",
        "y_pos = np.arange(len(bars))\n",
        "plt.xticks(y_pos, bars)\n",
        "\n",
        "# R chart\n",
        "axs[1].plot(b_thick_r, linestyle='-', marker='o', color='black')\n",
        "axs[1].axhline((D4*statistics.mean(b_thick_r)), color='red', linestyle='dashed')\n",
        "axs[1].axhline((D3*statistics.mean(b_thick_r)), color='red', linestyle='dashed')\n",
        "axs[1].axhline((statistics.mean(b_thick_r)), color='blue')\n",
        "axs[1].set_ylim(bottom=0)\n",
        "axs[1].set_title('R Chart for Beta Product Thickness',fontsize=22)\n",
        "axs[1].set(xlabel='Sample Group', ylabel='Range')\n",
        "axs[1].xaxis.get_label().set_fontsize(18)\n",
        "axs[1].yaxis.get_label().set_fontsize(18)\n",
        "\n",
        "bars = ('1','2','3','4','5','6','7','8','9','10')\n",
        "y_pos = np.arange(len(bars))\n",
        "plt.xticks(y_pos, bars)\n",
        "\n"
      ],
      "metadata": {
        "colab": {
          "base_uri": "https://localhost:8080/",
          "height": 1000
        },
        "id": "7XjT86Hbe9Nf",
        "outputId": "8b18f4e4-2028-4d13-b52f-b6e7c933f085"
      },
      "execution_count": null,
      "outputs": [
        {
          "output_type": "execute_result",
          "data": {
            "text/plain": [
              "([<matplotlib.axis.XTick at 0x7fcf3ac021f0>,\n",
              "  <matplotlib.axis.XTick at 0x7fcf3ac02370>,\n",
              "  <matplotlib.axis.XTick at 0x7fcf3abd6c40>,\n",
              "  <matplotlib.axis.XTick at 0x7fcf3abb9550>,\n",
              "  <matplotlib.axis.XTick at 0x7fcf3abb9a60>,\n",
              "  <matplotlib.axis.XTick at 0x7fcf3abb9f70>,\n",
              "  <matplotlib.axis.XTick at 0x7fcf3abb91f0>,\n",
              "  <matplotlib.axis.XTick at 0x7fcf3abbd4c0>,\n",
              "  <matplotlib.axis.XTick at 0x7fcf3abbd9d0>,\n",
              "  <matplotlib.axis.XTick at 0x7fcf3abbdee0>],\n",
              " [Text(0, 0, '1'),\n",
              "  Text(0, 0, '2'),\n",
              "  Text(0, 0, '3'),\n",
              "  Text(0, 0, '4'),\n",
              "  Text(0, 0, '5'),\n",
              "  Text(0, 0, '6'),\n",
              "  Text(0, 0, '7'),\n",
              "  Text(0, 0, '8'),\n",
              "  Text(0, 0, '9'),\n",
              "  Text(0, 0, '10')])"
            ]
          },
          "metadata": {},
          "execution_count": 58
        },
        {
          "output_type": "display_data",
          "data": {
            "text/plain": [
              "<Figure size 1080x1080 with 2 Axes>"
            ],
            "image/png": "[encoded data removed]"
          },
          "metadata": {
            "needs_background": "light"
          }
        }
      ]
    },
    {
      "cell_type": "markdown",
      "source": [
        "# X bar and R Control Charts for Beta Product Width"
      ],
      "metadata": {
        "id": "uIIH4KsVVzPw"
      }
    },
    {
      "cell_type": "code",
      "source": [
        "# retrive data for beta width\n",
        "b_width = pd.read_csv('drive/My Drive/Colab Notebooks/MSDA/beta_width.csv', sep=',', na_values=\".\")\n",
        "b_width.tail()"
      ],
      "metadata": {
        "colab": {
          "base_uri": "https://localhost:8080/",
          "height": 206
        },
        "id": "UTgcBK4a_SdX",
        "outputId": "0781b928-ccc5-48f9-a16d-4e2b1ea15b6c"
      },
      "execution_count": null,
      "outputs": [
        {
          "output_type": "execute_result",
          "data": {
            "text/plain": [
              "   shift_1  shift_2  shift_3  shift_4  shift_5\n",
              "5    5.118    5.037    5.114    4.883    4.989\n",
              "6    5.089    5.114    5.033    4.712    5.255\n",
              "7    5.255    5.055    5.036    5.050    4.873\n",
              "8    5.030    4.941    4.985    5.036    4.982\n",
              "9    5.104    5.033    4.479    4.989    5.037"
            ],
            "text/html": [
              "\n",
              "  <div id=\"df-4331734b-8571-46ae-9ca8-14f7d62ad81e\">\n",
              "    <div class=\"colab-df-container\">\n",
              "      <div>\n",
              "<style scoped>\n",
              "    .dataframe tbody tr th:only-of-type {\n",
              "        vertical-align: middle;\n",
              "    }\n",
              "\n",
              "    .dataframe tbody tr th {\n",
              "        vertical-align: top;\n",
              "    }\n",
              "\n",
              "    .dataframe thead th {\n",
              "        text-align: right;\n",
              "    }\n",
              "</style>\n",
              "<table border=\"1\" class=\"dataframe\">\n",
              "  <thead>\n",
              "    <tr style=\"text-align: right;\">\n",
              "      <th></th>\n",
              "      <th>shift_1</th>\n",
              "      <th>shift_2</th>\n",
              "      <th>shift_3</th>\n",
              "      <th>shift_4</th>\n",
              "      <th>shift_5</th>\n",
              "    </tr>\n",
              "  </thead>\n",
              "  <tbody>\n",
              "    <tr>\n",
              "      <th>5</th>\n",
              "      <td>5.118</td>\n",
              "      <td>5.037</td>\n",
              "      <td>5.114</td>\n",
              "      <td>4.883</td>\n",
              "      <td>4.989</td>\n",
              "    </tr>\n",
              "    <tr>\n",
              "      <th>6</th>\n",
              "      <td>5.089</td>\n",
              "      <td>5.114</td>\n",
              "      <td>5.033</td>\n",
              "      <td>4.712</td>\n",
              "      <td>5.255</td>\n",
              "    </tr>\n",
              "    <tr>\n",
              "      <th>7</th>\n",
              "      <td>5.255</td>\n",
              "      <td>5.055</td>\n",
              "      <td>5.036</td>\n",
              "      <td>5.050</td>\n",
              "      <td>4.873</td>\n",
              "    </tr>\n",
              "    <tr>\n",
              "      <th>8</th>\n",
              "      <td>5.030</td>\n",
              "      <td>4.941</td>\n",
              "      <td>4.985</td>\n",
              "      <td>5.036</td>\n",
              "      <td>4.982</td>\n",
              "    </tr>\n",
              "    <tr>\n",
              "      <th>9</th>\n",
              "      <td>5.104</td>\n",
              "      <td>5.033</td>\n",
              "      <td>4.479</td>\n",
              "      <td>4.989</td>\n",
              "      <td>5.037</td>\n",
              "    </tr>\n",
              "  </tbody>\n",
              "</table>\n",
              "</div>\n",
              "      <button class=\"colab-df-convert\" onclick=\"convertToInteractive('df-4331734b-8571-46ae-9ca8-14f7d62ad81e')\"\n",
              "              title=\"Convert this dataframe to an interactive table.\"\n",
              "              style=\"display:none;\">\n",
              "        \n",
              "  <svg xmlns=\"http://www.w3.org/2000/svg\" height=\"24px\"viewBox=\"0 0 24 24\"\n",
              "       width=\"24px\">\n",
              "    <path d=\"M0 0h24v24H0V0z\" fill=\"none\"/>\n",
              "    <path d=\"M18.56 5.44l.94 2.06.94-2.06 2.06-.94-2.06-.94-.94-2.06-.94 2.06-2.06.94zm-11 1L8.5 8.5l.94-2.06 2.06-.94-2.06-.94L8.5 2.5l-.94 2.06-2.06.94zm10 10l.94 2.06.94-2.06 2.06-.94-2.06-.94-.94-2.06-.94 2.06-2.06.94z\"/><path d=\"M17.41 7.96l-1.37-1.37c-.4-.4-.92-.59-1.43-.59-.52 0-1.04.2-1.43.59L10.3 9.45l-7.72 7.72c-.78.78-.78 2.05 0 2.83L4 21.41c.39.39.9.59 1.41.59.51 0 1.02-.2 1.41-.59l7.78-7.78 2.81-2.81c.8-.78.8-2.07 0-2.86zM5.41 20L4 18.59l7.72-7.72 1.47 1.35L5.41 20z\"/>\n",
              "  </svg>\n",
              "      </button>\n",
              "      \n",
              "  <style>\n",
              "    .colab-df-container {\n",
              "      display:flex;\n",
              "      flex-wrap:wrap;\n",
              "      gap: 12px;\n",
              "    }\n",
              "\n",
              "    .colab-df-convert {\n",
              "      background-color: #E8F0FE;\n",
              "      border: none;\n",
              "      border-radius: 50%;\n",
              "      cursor: pointer;\n",
              "      display: none;\n",
              "      fill: #1967D2;\n",
              "      height: 32px;\n",
              "      padding: 0 0 0 0;\n",
              "      width: 32px;\n",
              "    }\n",
              "\n",
              "    .colab-df-convert:hover {\n",
              "      background-color: #E2EBFA;\n",
              "      box-shadow: 0px 1px 2px rgba(60, 64, 67, 0.3), 0px 1px 3px 1px rgba(60, 64, 67, 0.15);\n",
              "      fill: #174EA6;\n",
              "    }\n",
              "\n",
              "    [theme=dark] .colab-df-convert {\n",
              "      background-color: #3B4455;\n",
              "      fill: #D2E3FC;\n",
              "    }\n",
              "\n",
              "    [theme=dark] .colab-df-convert:hover {\n",
              "      background-color: #434B5C;\n",
              "      box-shadow: 0px 1px 3px 1px rgba(0, 0, 0, 0.15);\n",
              "      filter: drop-shadow(0px 1px 2px rgba(0, 0, 0, 0.3));\n",
              "      fill: #FFFFFF;\n",
              "    }\n",
              "  </style>\n",
              "\n",
              "      <script>\n",
              "        const buttonEl =\n",
              "          document.querySelector('#df-4331734b-8571-46ae-9ca8-14f7d62ad81e button.colab-df-convert');\n",
              "        buttonEl.style.display =\n",
              "          google.colab.kernel.accessAllowed ? 'block' : 'none';\n",
              "\n",
              "        async function convertToInteractive(key) {\n",
              "          const element = document.querySelector('#df-4331734b-8571-46ae-9ca8-14f7d62ad81e');\n",
              "          const dataTable =\n",
              "            await google.colab.kernel.invokeFunction('convertToInteractive',\n",
              "                                                     [key], {});\n",
              "          if (!dataTable) return;\n",
              "\n",
              "          const docLinkHtml = 'Like what you see? Visit the ' +\n",
              "            '<a target=\"_blank\" href=https://colab.research.google.com/notebooks/data_table.ipynb>data table notebook</a>'\n",
              "            + ' to learn more about interactive tables.';\n",
              "          element.innerHTML = '';\n",
              "          dataTable['output_type'] = 'display_data';\n",
              "          await google.colab.output.renderOutput(dataTable, element);\n",
              "          const docLink = document.createElement('div');\n",
              "          docLink.innerHTML = docLinkHtml;\n",
              "          element.appendChild(docLink);\n",
              "        }\n",
              "      </script>\n",
              "    </div>\n",
              "  </div>\n",
              "  "
            ]
          },
          "metadata": {},
          "execution_count": 65
        }
      ]
    },
    {
      "cell_type": "code",
      "source": [
        "#generate the Phase I data using filter\n",
        "#use the first 30 observations to setup the control charts\n",
        "b_width_dataI= [b_width[['shift_1', 'shift_2', 'shift_3', 'shift_4','shift_5']][b_thick['Sample'] < 31]]\n",
        "\n",
        "#retrieve the Phase II data\n",
        "b_width_dataII= [b_width[['shift_1', 'shift_2', 'shift_3', 'shift_4','shift_5']][b_thick['Sample'] >= 31]]\n",
        "         \n",
        "#all data points; the data type is a list\n",
        "b_width_dataAll = [b_width[['shift_1', 'shift_2', 'shift_3', 'shift_4','shift_5']]]\n",
        "\n",
        "b_width_dataAll"
      ],
      "metadata": {
        "id": "CsL0G8Rd_bSx",
        "colab": {
          "base_uri": "https://localhost:8080/"
        },
        "outputId": "1e949b27-0bb8-4a4d-95aa-0e271faab4c9"
      },
      "execution_count": null,
      "outputs": [
        {
          "output_type": "execute_result",
          "data": {
            "text/plain": [
              "[   shift_1  shift_2  shift_3  shift_4  shift_5\n",
              " 0    5.044    5.032    5.072    5.034    5.031\n",
              " 1    5.046    5.039    5.048    5.028    5.043\n",
              " 2    5.048    5.036    5.037    5.032    5.038\n",
              " 3    4.960    5.038    5.039    4.981    5.039\n",
              " 4    5.115    5.034    5.009    5.103    5.034\n",
              " 5    5.118    5.037    5.114    4.883    4.989\n",
              " 6    5.089    5.114    5.033    4.712    5.255\n",
              " 7    5.255    5.055    5.036    5.050    4.873\n",
              " 8    5.030    4.941    4.985    5.036    4.982\n",
              " 9    5.104    5.033    4.479    4.989    5.037]"
            ]
          },
          "metadata": {},
          "execution_count": 66
        }
      ]
    },
    {
      "cell_type": "code",
      "source": [
        "# this np.reshape convert the list dataI into the proper subgroup and m=10\n",
        "x=np.reshape(b_width_dataI, (10,5))\n",
        "x"
      ],
      "metadata": {
        "colab": {
          "base_uri": "https://localhost:8080/"
        },
        "id": "cNKjrBm4fva8",
        "outputId": "f17a8ac9-ebeb-4009-fb8a-4a5408238e99"
      },
      "execution_count": null,
      "outputs": [
        {
          "output_type": "execute_result",
          "data": {
            "text/plain": [
              "array([[5.044, 5.032, 5.072, 5.034, 5.031],\n",
              "       [5.046, 5.039, 5.048, 5.028, 5.043],\n",
              "       [5.048, 5.036, 5.037, 5.032, 5.038],\n",
              "       [4.96 , 5.038, 5.039, 4.981, 5.039],\n",
              "       [5.115, 5.034, 5.009, 5.103, 5.034],\n",
              "       [5.118, 5.037, 5.114, 4.883, 4.989],\n",
              "       [5.089, 5.114, 5.033, 4.712, 5.255],\n",
              "       [5.255, 5.055, 5.036, 5.05 , 4.873],\n",
              "       [5.03 , 4.941, 4.985, 5.036, 4.982],\n",
              "       [5.104, 5.033, 4.479, 4.989, 5.037]])"
            ]
          },
          "metadata": {},
          "execution_count": 67
        }
      ]
    },
    {
      "cell_type": "code",
      "source": [
        "# Define list variable for groups means\n",
        "b_width_x_bar = []\n",
        "\n",
        "# Define list variable for groups ranges\n",
        "b_width_r = []\n",
        "\n",
        "# Define list variable for groups standard deviation\n",
        "b_width_s = []"
      ],
      "metadata": {
        "id": "IhDrcV7wfz-i"
      },
      "execution_count": null,
      "outputs": []
    },
    {
      "cell_type": "code",
      "source": [
        "# Get and append groups means and ranges\n",
        "# if you run this cell multiple times, then the data series will be repeated\n",
        "for group in x:\n",
        "    b_width_x_bar.append(group.mean())\n",
        "    b_width_r.append(group.max() - group.min())\n",
        "    b_width_s.append(np.std(group))\n",
        "#print(x_bar)\n",
        "#print(r)\n",
        "m=len(b_width_x_bar)\n",
        "print('points in x, ', m)"
      ],
      "metadata": {
        "colab": {
          "base_uri": "https://localhost:8080/"
        },
        "id": "6VM3Wmv6f6z0",
        "outputId": "94b91687-7f79-4ecf-fcc3-c681b66e4caf"
      },
      "execution_count": null,
      "outputs": [
        {
          "output_type": "stream",
          "name": "stdout",
          "text": [
            "points in x,  10\n"
          ]
        }
      ]
    },
    {
      "cell_type": "code",
      "source": [
        "# Plot x-bar and R charts\n",
        "fig, axs = plt.subplots(2, figsize=(15,15), sharex = 'all')\n",
        "\n",
        "# x-bar chart\n",
        "# Chart parameters A2=0.577, D3, and D4 \n",
        "A2=0.577 #n=5\n",
        "D3=0     #n=5\n",
        "D4=2.144 #n=5\n",
        "\n",
        "axs[0].plot(b_width_x_bar, linestyle='-', marker='o', color='black')\n",
        "axs[0].axhline((statistics.mean(b_width_x_bar)+A2*statistics.mean(b_width_r)), color='red', linestyle='dashed')\n",
        "axs[0].axhline((statistics.mean(b_width_x_bar)-A2*statistics.mean(b_width_r)), color='red', linestyle='dashed')\n",
        "axs[0].axhline((statistics.mean(b_width_x_bar)), color='blue')\n",
        "axs[0].set_title('X-bar Chart for Beta Product Width',fontsize = 22)\n",
        "axs[0].set(ylabel='Mean')\n",
        "axs[0].yaxis.get_label().set_fontsize(18)\n",
        "\n",
        "bars = ('1','2','3','4','5','6','7','8','9','10')\n",
        "y_pos = np.arange(len(bars))\n",
        "plt.xticks(y_pos, bars)\n",
        "\n",
        "# R chart\n",
        "axs[1].plot(b_width_r, linestyle='-', marker='o', color='black')\n",
        "axs[1].axhline((D4*statistics.mean(b_width_r)), color='red', linestyle='dashed')\n",
        "axs[1].axhline((D3*statistics.mean(b_width_r)), color='red', linestyle='dashed')\n",
        "axs[1].axhline((statistics.mean(b_width_r)), color='blue')\n",
        "axs[1].set_ylim(bottom=0)\n",
        "axs[1].set_title('R Chart for Beta Product Width',fontsize = 22)\n",
        "axs[1].set(xlabel='Sample Group', ylabel='Range')\n",
        "axs[1].xaxis.get_label().set_fontsize(18)\n",
        "axs[1].yaxis.get_label().set_fontsize(18)"
      ],
      "metadata": {
        "colab": {
          "base_uri": "https://localhost:8080/",
          "height": 907
        },
        "id": "ZrVadn4PgCFS",
        "outputId": "2123137c-e5aa-43f7-8b85-d1154f3a22cb"
      },
      "execution_count": null,
      "outputs": [
        {
          "output_type": "display_data",
          "data": {
            "text/plain": [
              "<Figure size 1080x1080 with 2 Axes>"
            ],
            "image/png": "[encoded data removed]"
          },
          "metadata": {
            "needs_background": "light"
          }
        }
      ]
    },
    {
      "cell_type": "code",
      "source": [
        "# Validate points out of control limits for x-bar chart\n",
        "i = 0\n",
        "control = True\n",
        "for group in b_width_x_bar:\n",
        "    if group > statistics.mean(b_width_x_bar)+A2*statistics.mean(b_width_r) or group < statistics.mean(b_width_x_bar)-A2*statistics.mean(b_width_r):\n",
        "        print('Group', i, 'out of mean control limits!')\n",
        "        control = False\n",
        "    i += 1\n",
        "if control == True:\n",
        "    print('All points within control limits.')"
      ],
      "metadata": {
        "colab": {
          "base_uri": "https://localhost:8080/"
        },
        "id": "yla3QEYKgNA4",
        "outputId": "8d540716-104d-4711-e91b-2f35c4bd3ab5"
      },
      "execution_count": null,
      "outputs": [
        {
          "output_type": "stream",
          "name": "stdout",
          "text": [
            "All points within control limits.\n"
          ]
        }
      ]
    },
    {
      "cell_type": "code",
      "source": [
        "# Validate points out of control limits for R chart\n",
        "i = 0\n",
        "control = True\n",
        "for group in b_width_r:\n",
        "    if group > D4*statistics.mean(b_width_r):\n",
        "        print('Group', i, 'out of range cotrol limits!')\n",
        "        control = False\n",
        "    i += 1\n",
        "if control == True:\n",
        "    print('All points within control limits.')"
      ],
      "metadata": {
        "colab": {
          "base_uri": "https://localhost:8080/"
        },
        "id": "uDbmqIbggc_q",
        "outputId": "9b063ce5-8d82-46ac-e011-38b953b0fd6d"
      },
      "execution_count": null,
      "outputs": [
        {
          "output_type": "stream",
          "name": "stdout",
          "text": [
            "Group 6 out of range cotrol limits!\n",
            "Group 9 out of range cotrol limits!\n"
          ]
        }
      ]
    }
  ]
}