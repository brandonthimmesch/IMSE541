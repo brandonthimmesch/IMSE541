{
  "nbformat": 4,
  "nbformat_minor": 0,
  "metadata": {
    "colab": {
      "provenance": [],
      "collapsed_sections": [],
      "authorship_tag": "ABX9TyO4+E1TkxAzxq51WXy7NtF9",
      "include_colab_link": true
    },
    "kernelspec": {
      "name": "python3",
      "display_name": "Python 3"
    },
    "language_info": {
      "name": "python"
    }
  },
  "cells": [
    {
      "cell_type": "markdown",
      "metadata": {
        "id": "view-in-github",
        "colab_type": "text"
      },
      "source": [
        "<a href=\"https://colab.research.google.com/github/brandonthimmesch/IMSE541/blob/main/SQC_Chap_6_HW.ipynb\" target=\"_parent\"><img src=\"https://colab.research.google.com/assets/colab-badge.svg\" alt=\"Open In Colab\"/></a>"
      ]
    },
    {
      "cell_type": "markdown",
      "source": [
        "Brandon Thimmesch\n",
        "\n",
        "IMSE 541 - Chap 6 HW\n",
        "\n",
        "13 November 2022"
      ],
      "metadata": {
        "id": "F_wnD81R_G4T"
      }
    },
    {
      "cell_type": "code",
      "execution_count": 13,
      "metadata": {
        "id": "J3HM6VXV-0JP"
      },
      "outputs": [],
      "source": [
        "# importing libraries\n",
        "import numpy as np\n",
        "import pandas as pd\n",
        "import matplotlib.pyplot as plt\n",
        "import statistics\n",
        "import scipy.stats\n",
        "from scipy import stats"
      ]
    },
    {
      "cell_type": "code",
      "source": [
        "# mounting google drive\n",
        "from google.colab import drive\n",
        "drive.mount('/content/drive')"
      ],
      "metadata": {
        "colab": {
          "base_uri": "https://localhost:8080/"
        },
        "id": "pSRALxasN-7I",
        "outputId": "501e21dd-4148-4f79-b616-19e5a81049a0"
      },
      "execution_count": 2,
      "outputs": [
        {
          "output_type": "stream",
          "name": "stdout",
          "text": [
            "Drive already mounted at /content/drive; to attempt to forcibly remount, call drive.mount(\"/content/drive\", force_remount=True).\n"
          ]
        }
      ]
    },
    {
      "cell_type": "markdown",
      "source": [
        "# Ex 6.8\n",
        "A high-voltage power supply should have a nominal\n",
        "output voltage of 350 V. A sample of four units is\n",
        "selected each day and tested for process-control purposes. The data shown in Table 6E.3 give the difference between the observed reading on each unit and\n",
        "the nominal voltage times ten; that is,\n",
        "xi = 10*(observed voltage on unit i - 350)\n",
        "\n",
        "(a) Set up x bar and R charts on this process. Is the\n",
        "process in statistical control?\n",
        "\n",
        "(b) If specifications are at 350 V ± 5 V, what can you\n",
        "say about process capability?\n",
        "\n",
        "(c) Is there evidence to support the claim that voltage is normally distributed?"
      ],
      "metadata": {
        "id": "21A53h0aAz63"
      }
    },
    {
      "cell_type": "code",
      "source": [
        "# Ex 6.8 - reading in data\n",
        "data68 = pd.read_csv('drive/My Drive/Colab Notebooks/SQC/SQC_Chap6HW_Ex_6.8_data.csv', sep=',', na_values=\".\")\n",
        "data68"
      ],
      "metadata": {
        "colab": {
          "base_uri": "https://localhost:8080/",
          "height": 677
        },
        "id": "oDMZDKwb_EyI",
        "outputId": "afabbb88-5d09-422f-a2d8-9a04bca9870e"
      },
      "execution_count": 3,
      "outputs": [
        {
          "output_type": "execute_result",
          "data": {
            "text/plain": [
              "    Sample number  x1  x2  x3  x4\n",
              "0               1   6   9  10  15\n",
              "1               2  10   4   6  11\n",
              "2               3   7   8  10   5\n",
              "3               4   8   9   6  13\n",
              "4               5   9  10   7  13\n",
              "5               6  12  11  10  10\n",
              "6               7  16  10   8   9\n",
              "7               8   7   5  10   4\n",
              "8               9   9   7   8  12\n",
              "9              10  15  16  10  13\n",
              "10             11   8  12  14  16\n",
              "11             12   6  13   9  11\n",
              "12             13  16   9  13  15\n",
              "13             14   7  13  10  12\n",
              "14             15  11   7  10  16\n",
              "15             16  15  10  11  14\n",
              "16             17   9   8  12  10\n",
              "17             18  15   7  10  11\n",
              "18             19   8   6   9  12\n",
              "19             20  13  14  11  15"
            ],
            "text/html": [
              "\n",
              "  <div id=\"df-2b1e2cc2-e750-4595-a941-bcda0ff82a21\">\n",
              "    <div class=\"colab-df-container\">\n",
              "      <div>\n",
              "<style scoped>\n",
              "    .dataframe tbody tr th:only-of-type {\n",
              "        vertical-align: middle;\n",
              "    }\n",
              "\n",
              "    .dataframe tbody tr th {\n",
              "        vertical-align: top;\n",
              "    }\n",
              "\n",
              "    .dataframe thead th {\n",
              "        text-align: right;\n",
              "    }\n",
              "</style>\n",
              "<table border=\"1\" class=\"dataframe\">\n",
              "  <thead>\n",
              "    <tr style=\"text-align: right;\">\n",
              "      <th></th>\n",
              "      <th>Sample number</th>\n",
              "      <th>x1</th>\n",
              "      <th>x2</th>\n",
              "      <th>x3</th>\n",
              "      <th>x4</th>\n",
              "    </tr>\n",
              "  </thead>\n",
              "  <tbody>\n",
              "    <tr>\n",
              "      <th>0</th>\n",
              "      <td>1</td>\n",
              "      <td>6</td>\n",
              "      <td>9</td>\n",
              "      <td>10</td>\n",
              "      <td>15</td>\n",
              "    </tr>\n",
              "    <tr>\n",
              "      <th>1</th>\n",
              "      <td>2</td>\n",
              "      <td>10</td>\n",
              "      <td>4</td>\n",
              "      <td>6</td>\n",
              "      <td>11</td>\n",
              "    </tr>\n",
              "    <tr>\n",
              "      <th>2</th>\n",
              "      <td>3</td>\n",
              "      <td>7</td>\n",
              "      <td>8</td>\n",
              "      <td>10</td>\n",
              "      <td>5</td>\n",
              "    </tr>\n",
              "    <tr>\n",
              "      <th>3</th>\n",
              "      <td>4</td>\n",
              "      <td>8</td>\n",
              "      <td>9</td>\n",
              "      <td>6</td>\n",
              "      <td>13</td>\n",
              "    </tr>\n",
              "    <tr>\n",
              "      <th>4</th>\n",
              "      <td>5</td>\n",
              "      <td>9</td>\n",
              "      <td>10</td>\n",
              "      <td>7</td>\n",
              "      <td>13</td>\n",
              "    </tr>\n",
              "    <tr>\n",
              "      <th>5</th>\n",
              "      <td>6</td>\n",
              "      <td>12</td>\n",
              "      <td>11</td>\n",
              "      <td>10</td>\n",
              "      <td>10</td>\n",
              "    </tr>\n",
              "    <tr>\n",
              "      <th>6</th>\n",
              "      <td>7</td>\n",
              "      <td>16</td>\n",
              "      <td>10</td>\n",
              "      <td>8</td>\n",
              "      <td>9</td>\n",
              "    </tr>\n",
              "    <tr>\n",
              "      <th>7</th>\n",
              "      <td>8</td>\n",
              "      <td>7</td>\n",
              "      <td>5</td>\n",
              "      <td>10</td>\n",
              "      <td>4</td>\n",
              "    </tr>\n",
              "    <tr>\n",
              "      <th>8</th>\n",
              "      <td>9</td>\n",
              "      <td>9</td>\n",
              "      <td>7</td>\n",
              "      <td>8</td>\n",
              "      <td>12</td>\n",
              "    </tr>\n",
              "    <tr>\n",
              "      <th>9</th>\n",
              "      <td>10</td>\n",
              "      <td>15</td>\n",
              "      <td>16</td>\n",
              "      <td>10</td>\n",
              "      <td>13</td>\n",
              "    </tr>\n",
              "    <tr>\n",
              "      <th>10</th>\n",
              "      <td>11</td>\n",
              "      <td>8</td>\n",
              "      <td>12</td>\n",
              "      <td>14</td>\n",
              "      <td>16</td>\n",
              "    </tr>\n",
              "    <tr>\n",
              "      <th>11</th>\n",
              "      <td>12</td>\n",
              "      <td>6</td>\n",
              "      <td>13</td>\n",
              "      <td>9</td>\n",
              "      <td>11</td>\n",
              "    </tr>\n",
              "    <tr>\n",
              "      <th>12</th>\n",
              "      <td>13</td>\n",
              "      <td>16</td>\n",
              "      <td>9</td>\n",
              "      <td>13</td>\n",
              "      <td>15</td>\n",
              "    </tr>\n",
              "    <tr>\n",
              "      <th>13</th>\n",
              "      <td>14</td>\n",
              "      <td>7</td>\n",
              "      <td>13</td>\n",
              "      <td>10</td>\n",
              "      <td>12</td>\n",
              "    </tr>\n",
              "    <tr>\n",
              "      <th>14</th>\n",
              "      <td>15</td>\n",
              "      <td>11</td>\n",
              "      <td>7</td>\n",
              "      <td>10</td>\n",
              "      <td>16</td>\n",
              "    </tr>\n",
              "    <tr>\n",
              "      <th>15</th>\n",
              "      <td>16</td>\n",
              "      <td>15</td>\n",
              "      <td>10</td>\n",
              "      <td>11</td>\n",
              "      <td>14</td>\n",
              "    </tr>\n",
              "    <tr>\n",
              "      <th>16</th>\n",
              "      <td>17</td>\n",
              "      <td>9</td>\n",
              "      <td>8</td>\n",
              "      <td>12</td>\n",
              "      <td>10</td>\n",
              "    </tr>\n",
              "    <tr>\n",
              "      <th>17</th>\n",
              "      <td>18</td>\n",
              "      <td>15</td>\n",
              "      <td>7</td>\n",
              "      <td>10</td>\n",
              "      <td>11</td>\n",
              "    </tr>\n",
              "    <tr>\n",
              "      <th>18</th>\n",
              "      <td>19</td>\n",
              "      <td>8</td>\n",
              "      <td>6</td>\n",
              "      <td>9</td>\n",
              "      <td>12</td>\n",
              "    </tr>\n",
              "    <tr>\n",
              "      <th>19</th>\n",
              "      <td>20</td>\n",
              "      <td>13</td>\n",
              "      <td>14</td>\n",
              "      <td>11</td>\n",
              "      <td>15</td>\n",
              "    </tr>\n",
              "  </tbody>\n",
              "</table>\n",
              "</div>\n",
              "      <button class=\"colab-df-convert\" onclick=\"convertToInteractive('df-2b1e2cc2-e750-4595-a941-bcda0ff82a21')\"\n",
              "              title=\"Convert this dataframe to an interactive table.\"\n",
              "              style=\"display:none;\">\n",
              "        \n",
              "  <svg xmlns=\"http://www.w3.org/2000/svg\" height=\"24px\"viewBox=\"0 0 24 24\"\n",
              "       width=\"24px\">\n",
              "    <path d=\"M0 0h24v24H0V0z\" fill=\"none\"/>\n",
              "    <path d=\"M18.56 5.44l.94 2.06.94-2.06 2.06-.94-2.06-.94-.94-2.06-.94 2.06-2.06.94zm-11 1L8.5 8.5l.94-2.06 2.06-.94-2.06-.94L8.5 2.5l-.94 2.06-2.06.94zm10 10l.94 2.06.94-2.06 2.06-.94-2.06-.94-.94-2.06-.94 2.06-2.06.94z\"/><path d=\"M17.41 7.96l-1.37-1.37c-.4-.4-.92-.59-1.43-.59-.52 0-1.04.2-1.43.59L10.3 9.45l-7.72 7.72c-.78.78-.78 2.05 0 2.83L4 21.41c.39.39.9.59 1.41.59.51 0 1.02-.2 1.41-.59l7.78-7.78 2.81-2.81c.8-.78.8-2.07 0-2.86zM5.41 20L4 18.59l7.72-7.72 1.47 1.35L5.41 20z\"/>\n",
              "  </svg>\n",
              "      </button>\n",
              "      \n",
              "  <style>\n",
              "    .colab-df-container {\n",
              "      display:flex;\n",
              "      flex-wrap:wrap;\n",
              "      gap: 12px;\n",
              "    }\n",
              "\n",
              "    .colab-df-convert {\n",
              "      background-color: #E8F0FE;\n",
              "      border: none;\n",
              "      border-radius: 50%;\n",
              "      cursor: pointer;\n",
              "      display: none;\n",
              "      fill: #1967D2;\n",
              "      height: 32px;\n",
              "      padding: 0 0 0 0;\n",
              "      width: 32px;\n",
              "    }\n",
              "\n",
              "    .colab-df-convert:hover {\n",
              "      background-color: #E2EBFA;\n",
              "      box-shadow: 0px 1px 2px rgba(60, 64, 67, 0.3), 0px 1px 3px 1px rgba(60, 64, 67, 0.15);\n",
              "      fill: #174EA6;\n",
              "    }\n",
              "\n",
              "    [theme=dark] .colab-df-convert {\n",
              "      background-color: #3B4455;\n",
              "      fill: #D2E3FC;\n",
              "    }\n",
              "\n",
              "    [theme=dark] .colab-df-convert:hover {\n",
              "      background-color: #434B5C;\n",
              "      box-shadow: 0px 1px 3px 1px rgba(0, 0, 0, 0.15);\n",
              "      filter: drop-shadow(0px 1px 2px rgba(0, 0, 0, 0.3));\n",
              "      fill: #FFFFFF;\n",
              "    }\n",
              "  </style>\n",
              "\n",
              "      <script>\n",
              "        const buttonEl =\n",
              "          document.querySelector('#df-2b1e2cc2-e750-4595-a941-bcda0ff82a21 button.colab-df-convert');\n",
              "        buttonEl.style.display =\n",
              "          google.colab.kernel.accessAllowed ? 'block' : 'none';\n",
              "\n",
              "        async function convertToInteractive(key) {\n",
              "          const element = document.querySelector('#df-2b1e2cc2-e750-4595-a941-bcda0ff82a21');\n",
              "          const dataTable =\n",
              "            await google.colab.kernel.invokeFunction('convertToInteractive',\n",
              "                                                     [key], {});\n",
              "          if (!dataTable) return;\n",
              "\n",
              "          const docLinkHtml = 'Like what you see? Visit the ' +\n",
              "            '<a target=\"_blank\" href=https://colab.research.google.com/notebooks/data_table.ipynb>data table notebook</a>'\n",
              "            + ' to learn more about interactive tables.';\n",
              "          element.innerHTML = '';\n",
              "          dataTable['output_type'] = 'display_data';\n",
              "          await google.colab.output.renderOutput(dataTable, element);\n",
              "          const docLink = document.createElement('div');\n",
              "          docLink.innerHTML = docLinkHtml;\n",
              "          element.appendChild(docLink);\n",
              "        }\n",
              "      </script>\n",
              "    </div>\n",
              "  </div>\n",
              "  "
            ]
          },
          "metadata": {},
          "execution_count": 3
        }
      ]
    },
    {
      "cell_type": "code",
      "source": [
        "df1 = [data68[['x1','x2','x3','x4']]]\n",
        "df1"
      ],
      "metadata": {
        "colab": {
          "base_uri": "https://localhost:8080/"
        },
        "id": "RM4ZwEPHAN_T",
        "outputId": "45fb2057-00db-4664-dd15-b673ba75af8a"
      },
      "execution_count": 4,
      "outputs": [
        {
          "output_type": "execute_result",
          "data": {
            "text/plain": [
              "[    x1  x2  x3  x4\n",
              " 0    6   9  10  15\n",
              " 1   10   4   6  11\n",
              " 2    7   8  10   5\n",
              " 3    8   9   6  13\n",
              " 4    9  10   7  13\n",
              " 5   12  11  10  10\n",
              " 6   16  10   8   9\n",
              " 7    7   5  10   4\n",
              " 8    9   7   8  12\n",
              " 9   15  16  10  13\n",
              " 10   8  12  14  16\n",
              " 11   6  13   9  11\n",
              " 12  16   9  13  15\n",
              " 13   7  13  10  12\n",
              " 14  11   7  10  16\n",
              " 15  15  10  11  14\n",
              " 16   9   8  12  10\n",
              " 17  15   7  10  11\n",
              " 18   8   6   9  12\n",
              " 19  13  14  11  15]"
            ]
          },
          "metadata": {},
          "execution_count": 4
        }
      ]
    },
    {
      "cell_type": "code",
      "source": [
        "# this np.reshape convert the list dataI into the proper subgroup and m=20\n",
        "x=np.reshape(df1, (20,4))\n",
        "x"
      ],
      "metadata": {
        "colab": {
          "base_uri": "https://localhost:8080/"
        },
        "id": "tV8FRjby_wkl",
        "outputId": "c5727c4a-1780-4b17-d1b4-25b08ed495e2"
      },
      "execution_count": 5,
      "outputs": [
        {
          "output_type": "execute_result",
          "data": {
            "text/plain": [
              "array([[ 6,  9, 10, 15],\n",
              "       [10,  4,  6, 11],\n",
              "       [ 7,  8, 10,  5],\n",
              "       [ 8,  9,  6, 13],\n",
              "       [ 9, 10,  7, 13],\n",
              "       [12, 11, 10, 10],\n",
              "       [16, 10,  8,  9],\n",
              "       [ 7,  5, 10,  4],\n",
              "       [ 9,  7,  8, 12],\n",
              "       [15, 16, 10, 13],\n",
              "       [ 8, 12, 14, 16],\n",
              "       [ 6, 13,  9, 11],\n",
              "       [16,  9, 13, 15],\n",
              "       [ 7, 13, 10, 12],\n",
              "       [11,  7, 10, 16],\n",
              "       [15, 10, 11, 14],\n",
              "       [ 9,  8, 12, 10],\n",
              "       [15,  7, 10, 11],\n",
              "       [ 8,  6,  9, 12],\n",
              "       [13, 14, 11, 15]])"
            ]
          },
          "metadata": {},
          "execution_count": 5
        }
      ]
    },
    {
      "cell_type": "code",
      "source": [
        "# Define list variable for groups means\n",
        "x_bar = []\n",
        "\n",
        "# Define list variable for groups ranges\n",
        "r = [] "
      ],
      "metadata": {
        "id": "ZsQ8AUXbAkSh"
      },
      "execution_count": 6,
      "outputs": []
    },
    {
      "cell_type": "code",
      "source": [
        "# Get and append groups means and ranges\n",
        "# if you run this cell multiple times, then the data series will be repeated\n",
        "for group in x:\n",
        "    x_bar.append(group.mean())\n",
        "    r.append(group.max() - group.min())\n",
        "#print(x_bar)\n",
        "#print(r)\n",
        "m=len(x_bar)\n",
        "print('points in x, ', m)"
      ],
      "metadata": {
        "colab": {
          "base_uri": "https://localhost:8080/"
        },
        "id": "5QWQmxZxAovM",
        "outputId": "de145e10-54e3-4a7e-a809-9c058ebaf180"
      },
      "execution_count": 7,
      "outputs": [
        {
          "output_type": "stream",
          "name": "stdout",
          "text": [
            "points in x,  20\n"
          ]
        }
      ]
    },
    {
      "cell_type": "markdown",
      "source": [
        "# Ex 6.8 (a)"
      ],
      "metadata": {
        "id": "W43-EbqZEDEs"
      }
    },
    {
      "cell_type": "code",
      "source": [
        "# Plot x-bar and R charts\n",
        "fig, axs = plt.subplots(2, figsize=(15,15))\n",
        "\n",
        "# x-bar chart\n",
        "# Chart parameters A2, D3, and D4 see the ref for other sample size\n",
        "A2=0.729 #n=4\n",
        "D3=0     #n=4\n",
        "D4=2.282 #n=4\n",
        "\n",
        "axs[0].plot(x_bar, linestyle='-', marker='o', color='black')\n",
        "axs[0].axhline((statistics.mean(x_bar)+A2*statistics.mean(r)), color='red', linestyle='dashed')\n",
        "axs[0].axhline((statistics.mean(x_bar)-A2*statistics.mean(r)), color='red', linestyle='dashed')\n",
        "axs[0].axhline((statistics.mean(x_bar)), color='blue')\n",
        "axs[0].set_title('x-bar Chart')\n",
        "axs[0].set(xlabel='Group', ylabel='Mean')\n",
        "\n",
        "# R chart\n",
        "axs[1].plot(r, linestyle='-', marker='o', color='black')\n",
        "axs[1].axhline((D4*statistics.mean(r)), color='red', linestyle='dashed')\n",
        "axs[1].axhline((D3*statistics.mean(r)), color='red', linestyle='dashed')\n",
        "axs[1].axhline((statistics.mean(r)), color='blue')\n",
        "axs[1].set_ylim(bottom=0)\n",
        "axs[1].set_title('R Chart')\n",
        "axs[1].set(xlabel='Group', ylabel='Range')"
      ],
      "metadata": {
        "id": "6EDS9Kf0PXVq",
        "colab": {
          "base_uri": "https://localhost:8080/",
          "height": 910
        },
        "outputId": "cdce6dea-fbba-4a05-eae9-dca7c586f588"
      },
      "execution_count": 8,
      "outputs": [
        {
          "output_type": "execute_result",
          "data": {
            "text/plain": [
              "[Text(0, 0.5, 'Range'), Text(0.5, 0, 'Group')]"
            ]
          },
          "metadata": {},
          "execution_count": 8
        },
        {
          "output_type": "display_data",
          "data": {
            "text/plain": [
              "<Figure size 1080x1080 with 2 Axes>"
            ],
            "image/png": "[encoded data removed]"
          },
          "metadata": {
            "needs_background": "light"
          }
        }
      ]
    },
    {
      "cell_type": "markdown",
      "source": [
        "All points are within control limits which means that the process is within statistical control."
      ],
      "metadata": {
        "id": "iVJXDlRoEJQa"
      }
    },
    {
      "cell_type": "markdown",
      "source": [
        "# Ex 6.8 (b)"
      ],
      "metadata": {
        "id": "_ra6-RJ7EeTR"
      }
    },
    {
      "cell_type": "code",
      "source": [
        "# Validate points out of control limits for x-bar chart\n",
        "i = 0\n",
        "control = True\n",
        "for group in x_bar:\n",
        "    if group > statistics.mean(x_bar)+A2*statistics.mean(r) or group < statistics.mean(x_bar)-A2*statistics.mean(r):\n",
        "        print('Group', i, 'out of mean control limits!')\n",
        "        control = False\n",
        "    i += 1\n",
        "if control == True:\n",
        "    print('All points within control limits.')"
      ],
      "metadata": {
        "colab": {
          "base_uri": "https://localhost:8080/"
        },
        "id": "fCPC5djWAwnm",
        "outputId": "538bc834-efc2-42b1-fe68-ed2ea39c7198"
      },
      "execution_count": 9,
      "outputs": [
        {
          "output_type": "stream",
          "name": "stdout",
          "text": [
            "All points within control limits.\n"
          ]
        }
      ]
    },
    {
      "cell_type": "code",
      "source": [
        "# Validate points out of control limits for R chart\n",
        "i = 0\n",
        "control = True\n",
        "for group in r:\n",
        "    if group > D4*statistics.mean(r):\n",
        "        print('Group', i, 'out of range cotrol limits!')\n",
        "        control = False\n",
        "    i += 1\n",
        "if control == True:\n",
        "    print('All points within control limits.')"
      ],
      "metadata": {
        "colab": {
          "base_uri": "https://localhost:8080/"
        },
        "id": "LLQTcxCDDtSX",
        "outputId": "b6a330f9-edf3-4a63-891c-cf3a74635932"
      },
      "execution_count": 10,
      "outputs": [
        {
          "output_type": "stream",
          "name": "stdout",
          "text": [
            "All points within control limits.\n"
          ]
        }
      ]
    },
    {
      "cell_type": "markdown",
      "source": [
        "Since all observed samples are within control limits, the process is capable of producing quality products that meet specifications within tolerance."
      ],
      "metadata": {
        "id": "sLXXzTydEkhN"
      }
    },
    {
      "cell_type": "markdown",
      "source": [
        "# Ex 6.8 (c)"
      ],
      "metadata": {
        "id": "YJtRYPTHE3Hm"
      }
    },
    {
      "cell_type": "code",
      "source": [
        "# normal check\n",
        "\n",
        "fig = plt.figure(figsize= (10, 10))\n",
        "ax = fig.add_subplot(111)\n",
        "\n",
        "normality_plot, stat = stats.probplot(x_bar, plot= plt, rvalue= True)\n",
        "ax.set_title(\"Probability plot of group means\", fontsize= 20)\n",
        "ax.set\n",
        "\n",
        "plt.show()"
      ],
      "metadata": {
        "colab": {
          "base_uri": "https://localhost:8080/",
          "height": 627
        },
        "id": "EKaiP-ujGHs2",
        "outputId": "afe28949-a1fb-4650-f4b1-7ad7f91883f2"
      },
      "execution_count": 19,
      "outputs": [
        {
          "output_type": "display_data",
          "data": {
            "text/plain": [
              "<Figure size 720x720 with 1 Axes>"
            ],
            "image/png": "[encoded data removed]"
          },
          "metadata": {
            "needs_background": "light"
          }
        }
      ]
    },
    {
      "cell_type": "markdown",
      "source": [
        "All observed samples are within control limits. Also the above probability plot passes the fat pencil test, meaning that normality can be assumed. There is no evidence to indicate that voltage is not normallly distributed."
      ],
      "metadata": {
        "id": "bX1mYiHOE3MY"
      }
    }
  ]
}