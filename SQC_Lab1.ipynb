{
  "cells": [
    {
      "cell_type": "markdown",
      "source": [
        "Brandon Thimmesch\n",
        "\n",
        "IMSE 541 - Lab 1\n",
        "\n",
        "2 September 2022"
      ],
      "metadata": {
        "id": "aEZ8A7o-eCZ5"
      }
    },
    {
      "cell_type": "code",
      "execution_count": null,
      "metadata": {
        "id": "COL3AoHiUl-K"
      },
      "outputs": [],
      "source": [
        "import statistics\n",
        "import seaborn as sns\n",
        "import numpy as np\n",
        "import pandas as pd\n",
        "import matplotlib.pyplot as plt\n",
        "\n",
        "# from google.colab import drive\n",
        "# drive.mount('/content/drive')"
      ]
    },
    {
      "cell_type": "code",
      "execution_count": null,
      "metadata": {
        "colab": {
          "base_uri": "https://localhost:8080/",
          "height": 206
        },
        "id": "PfkWQmnQVzCO",
        "outputId": "949806e7-231b-443c-a0cf-aa19b43c9fc3"
      },
      "outputs": [
        {
          "output_type": "execute_result",
          "data": {
            "text/plain": [
              "   EX 3-2  EX 3-8  EX 3-8.1\n",
              "0  50.001   127.0       142\n",
              "1  50.002   125.0       123\n",
              "2  49.998   131.0       121\n",
              "3  50.006   124.0       136\n",
              "4  50.005   129.0       140"
            ],
            "text/html": [
              "\n",
              "  <div id=\"df-fe5b3b47-abbd-423b-901d-0df5c70fbf30\">\n",
              "    <div class=\"colab-df-container\">\n",
              "      <div>\n",
              "<style scoped>\n",
              "    .dataframe tbody tr th:only-of-type {\n",
              "        vertical-align: middle;\n",
              "    }\n",
              "\n",
              "    .dataframe tbody tr th {\n",
              "        vertical-align: top;\n",
              "    }\n",
              "\n",
              "    .dataframe thead th {\n",
              "        text-align: right;\n",
              "    }\n",
              "</style>\n",
              "<table border=\"1\" class=\"dataframe\">\n",
              "  <thead>\n",
              "    <tr style=\"text-align: right;\">\n",
              "      <th></th>\n",
              "      <th>EX 3-2</th>\n",
              "      <th>EX 3-8</th>\n",
              "      <th>EX 3-8.1</th>\n",
              "    </tr>\n",
              "  </thead>\n",
              "  <tbody>\n",
              "    <tr>\n",
              "      <th>0</th>\n",
              "      <td>50.001</td>\n",
              "      <td>127.0</td>\n",
              "      <td>142</td>\n",
              "    </tr>\n",
              "    <tr>\n",
              "      <th>1</th>\n",
              "      <td>50.002</td>\n",
              "      <td>125.0</td>\n",
              "      <td>123</td>\n",
              "    </tr>\n",
              "    <tr>\n",
              "      <th>2</th>\n",
              "      <td>49.998</td>\n",
              "      <td>131.0</td>\n",
              "      <td>121</td>\n",
              "    </tr>\n",
              "    <tr>\n",
              "      <th>3</th>\n",
              "      <td>50.006</td>\n",
              "      <td>124.0</td>\n",
              "      <td>136</td>\n",
              "    </tr>\n",
              "    <tr>\n",
              "      <th>4</th>\n",
              "      <td>50.005</td>\n",
              "      <td>129.0</td>\n",
              "      <td>140</td>\n",
              "    </tr>\n",
              "  </tbody>\n",
              "</table>\n",
              "</div>\n",
              "      <button class=\"colab-df-convert\" onclick=\"convertToInteractive('df-fe5b3b47-abbd-423b-901d-0df5c70fbf30')\"\n",
              "              title=\"Convert this dataframe to an interactive table.\"\n",
              "              style=\"display:none;\">\n",
              "        \n",
              "  <svg xmlns=\"http://www.w3.org/2000/svg\" height=\"24px\"viewBox=\"0 0 24 24\"\n",
              "       width=\"24px\">\n",
              "    <path d=\"M0 0h24v24H0V0z\" fill=\"none\"/>\n",
              "    <path d=\"M18.56 5.44l.94 2.06.94-2.06 2.06-.94-2.06-.94-.94-2.06-.94 2.06-2.06.94zm-11 1L8.5 8.5l.94-2.06 2.06-.94-2.06-.94L8.5 2.5l-.94 2.06-2.06.94zm10 10l.94 2.06.94-2.06 2.06-.94-2.06-.94-.94-2.06-.94 2.06-2.06.94z\"/><path d=\"M17.41 7.96l-1.37-1.37c-.4-.4-.92-.59-1.43-.59-.52 0-1.04.2-1.43.59L10.3 9.45l-7.72 7.72c-.78.78-.78 2.05 0 2.83L4 21.41c.39.39.9.59 1.41.59.51 0 1.02-.2 1.41-.59l7.78-7.78 2.81-2.81c.8-.78.8-2.07 0-2.86zM5.41 20L4 18.59l7.72-7.72 1.47 1.35L5.41 20z\"/>\n",
              "  </svg>\n",
              "      </button>\n",
              "      \n",
              "  <style>\n",
              "    .colab-df-container {\n",
              "      display:flex;\n",
              "      flex-wrap:wrap;\n",
              "      gap: 12px;\n",
              "    }\n",
              "\n",
              "    .colab-df-convert {\n",
              "      background-color: #E8F0FE;\n",
              "      border: none;\n",
              "      border-radius: 50%;\n",
              "      cursor: pointer;\n",
              "      display: none;\n",
              "      fill: #1967D2;\n",
              "      height: 32px;\n",
              "      padding: 0 0 0 0;\n",
              "      width: 32px;\n",
              "    }\n",
              "\n",
              "    .colab-df-convert:hover {\n",
              "      background-color: #E2EBFA;\n",
              "      box-shadow: 0px 1px 2px rgba(60, 64, 67, 0.3), 0px 1px 3px 1px rgba(60, 64, 67, 0.15);\n",
              "      fill: #174EA6;\n",
              "    }\n",
              "\n",
              "    [theme=dark] .colab-df-convert {\n",
              "      background-color: #3B4455;\n",
              "      fill: #D2E3FC;\n",
              "    }\n",
              "\n",
              "    [theme=dark] .colab-df-convert:hover {\n",
              "      background-color: #434B5C;\n",
              "      box-shadow: 0px 1px 3px 1px rgba(0, 0, 0, 0.15);\n",
              "      filter: drop-shadow(0px 1px 2px rgba(0, 0, 0, 0.3));\n",
              "      fill: #FFFFFF;\n",
              "    }\n",
              "  </style>\n",
              "\n",
              "      <script>\n",
              "        const buttonEl =\n",
              "          document.querySelector('#df-fe5b3b47-abbd-423b-901d-0df5c70fbf30 button.colab-df-convert');\n",
              "        buttonEl.style.display =\n",
              "          google.colab.kernel.accessAllowed ? 'block' : 'none';\n",
              "\n",
              "        async function convertToInteractive(key) {\n",
              "          const element = document.querySelector('#df-fe5b3b47-abbd-423b-901d-0df5c70fbf30');\n",
              "          const dataTable =\n",
              "            await google.colab.kernel.invokeFunction('convertToInteractive',\n",
              "                                                     [key], {});\n",
              "          if (!dataTable) return;\n",
              "\n",
              "          const docLinkHtml = 'Like what you see? Visit the ' +\n",
              "            '<a target=\"_blank\" href=https://colab.research.google.com/notebooks/data_table.ipynb>data table notebook</a>'\n",
              "            + ' to learn more about interactive tables.';\n",
              "          element.innerHTML = '';\n",
              "          dataTable['output_type'] = 'display_data';\n",
              "          await google.colab.output.renderOutput(dataTable, element);\n",
              "          const docLink = document.createElement('div');\n",
              "          docLink.innerHTML = docLinkHtml;\n",
              "          element.appendChild(docLink);\n",
              "        }\n",
              "      </script>\n",
              "    </div>\n",
              "  </div>\n",
              "  "
            ]
          },
          "metadata": {},
          "execution_count": 2
        }
      ],
      "source": [
        "DF = pd.read_csv('drive/My Drive/Colab Notebooks/SQC/SQC_Lab1_Data.csv', sep=',', na_values=\".\")\n",
        "DF.head()"
      ]
    },
    {
      "cell_type": "markdown",
      "source": [
        "(10 points) Chapter 3 Montgomery 7th Edition – Exercise 3.2 (using HC, SS, CL). Report screenshots w/ functions in SS.\n",
        "\n",
        "Ex 3.2 The bore diameters of eight randomly selected bearings are shown here in the data set below. (a) Calculate the sample average, (b) Calculate the sample standard deviation."
      ],
      "metadata": {
        "id": "ofGDpY3awd56"
      }
    },
    {
      "cell_type": "code",
      "source": [
        "DF3_2 = DF['EX 3-2'].dropna()\n",
        "DF3_2"
      ],
      "metadata": {
        "colab": {
          "base_uri": "https://localhost:8080/"
        },
        "id": "RJu16_ZesM0I",
        "outputId": "ef6fbad2-c3bf-4dbd-ecd4-07445daeda07"
      },
      "execution_count": null,
      "outputs": [
        {
          "output_type": "execute_result",
          "data": {
            "text/plain": [
              "0    50.001\n",
              "1    50.002\n",
              "2    49.998\n",
              "3    50.006\n",
              "4    50.005\n",
              "5    49.996\n",
              "6    50.003\n",
              "7    50.004\n",
              "Name: EX 3-2, dtype: float64"
            ]
          },
          "metadata": {},
          "execution_count": 3
        }
      ]
    },
    {
      "cell_type": "code",
      "source": [
        "# EX 3-2 Parts A and B\n",
        "print(\"For the sample given in exercise 3-2, the average is\", statistics.mean(DF3_2), \"and the standard deviation is\", DF3_2.std())"
      ],
      "metadata": {
        "colab": {
          "base_uri": "https://localhost:8080/"
        },
        "id": "A-dml91Cx1Zo",
        "outputId": "87161028-9a65-4752-ce52-04a41b809a2d"
      },
      "execution_count": null,
      "outputs": [
        {
          "output_type": "stream",
          "name": "stdout",
          "text": [
            "For the sample given in exercise 3-2, the average is 50.001875 and the standard deviation is 0.0034408263127171375\n"
          ]
        }
      ]
    },
    {
      "cell_type": "markdown",
      "source": [
        "(10 points) Chapter 3 Montgomery 7th Edition – Exercise 3.8 (CL). Report the codes used in CL for all tasks in the Colab notebook. Provide a sharable link to this notebook and report it in the Canvas submission text box.\n",
        "\n",
        "Ex 3.8 The time to failure in hours of an electronic component subjected to an accelated life test is shown below. (a) Calculate the sample average & calculate the sample standard deviation, (b) Construct a histogram, (c) Stem-and-leaf plot (or bar chart), and (d) Find the sample median and the lower (25%) and upper (75%) quartiles."
      ],
      "metadata": {
        "id": "KZRh7OzpwgnR"
      }
    },
    {
      "cell_type": "code",
      "source": [
        "df2 = DF['EX 3-8']\n",
        "df3 = DF['EX 3-8.1']"
      ],
      "metadata": {
        "id": "xym8yZK2sT30"
      },
      "execution_count": null,
      "outputs": []
    },
    {
      "cell_type": "code",
      "source": [
        "DF3_8 = df3.append(df2)\n",
        "DF3_8 = DF3_8.dropna()\n",
        "DF3_8 = DF3_8.reset_index()\n",
        "DF3_8 = DF3_8.drop('index', axis=1)\n",
        "DF3_8.columns = ['Hours']\n",
        "\n",
        "DF3_8.tail()"
      ],
      "metadata": {
        "id": "AdD8pE5sth2e",
        "colab": {
          "base_uri": "https://localhost:8080/",
          "height": 206
        },
        "outputId": "67c0cb7b-2cb8-4a6e-dd8c-37f405277fda"
      },
      "execution_count": null,
      "outputs": [
        {
          "output_type": "execute_result",
          "data": {
            "text/plain": [
              "    Hours\n",
              "36  128.0\n",
              "37  133.0\n",
              "38  137.0\n",
              "39  124.0\n",
              "40  142.0"
            ],
            "text/html": [
              "\n",
              "  <div id=\"df-a5487163-c22c-4050-a09b-54252800c036\">\n",
              "    <div class=\"colab-df-container\">\n",
              "      <div>\n",
              "<style scoped>\n",
              "    .dataframe tbody tr th:only-of-type {\n",
              "        vertical-align: middle;\n",
              "    }\n",
              "\n",
              "    .dataframe tbody tr th {\n",
              "        vertical-align: top;\n",
              "    }\n",
              "\n",
              "    .dataframe thead th {\n",
              "        text-align: right;\n",
              "    }\n",
              "</style>\n",
              "<table border=\"1\" class=\"dataframe\">\n",
              "  <thead>\n",
              "    <tr style=\"text-align: right;\">\n",
              "      <th></th>\n",
              "      <th>Hours</th>\n",
              "    </tr>\n",
              "  </thead>\n",
              "  <tbody>\n",
              "    <tr>\n",
              "      <th>36</th>\n",
              "      <td>128.0</td>\n",
              "    </tr>\n",
              "    <tr>\n",
              "      <th>37</th>\n",
              "      <td>133.0</td>\n",
              "    </tr>\n",
              "    <tr>\n",
              "      <th>38</th>\n",
              "      <td>137.0</td>\n",
              "    </tr>\n",
              "    <tr>\n",
              "      <th>39</th>\n",
              "      <td>124.0</td>\n",
              "    </tr>\n",
              "    <tr>\n",
              "      <th>40</th>\n",
              "      <td>142.0</td>\n",
              "    </tr>\n",
              "  </tbody>\n",
              "</table>\n",
              "</div>\n",
              "      <button class=\"colab-df-convert\" onclick=\"convertToInteractive('df-a5487163-c22c-4050-a09b-54252800c036')\"\n",
              "              title=\"Convert this dataframe to an interactive table.\"\n",
              "              style=\"display:none;\">\n",
              "        \n",
              "  <svg xmlns=\"http://www.w3.org/2000/svg\" height=\"24px\"viewBox=\"0 0 24 24\"\n",
              "       width=\"24px\">\n",
              "    <path d=\"M0 0h24v24H0V0z\" fill=\"none\"/>\n",
              "    <path d=\"M18.56 5.44l.94 2.06.94-2.06 2.06-.94-2.06-.94-.94-2.06-.94 2.06-2.06.94zm-11 1L8.5 8.5l.94-2.06 2.06-.94-2.06-.94L8.5 2.5l-.94 2.06-2.06.94zm10 10l.94 2.06.94-2.06 2.06-.94-2.06-.94-.94-2.06-.94 2.06-2.06.94z\"/><path d=\"M17.41 7.96l-1.37-1.37c-.4-.4-.92-.59-1.43-.59-.52 0-1.04.2-1.43.59L10.3 9.45l-7.72 7.72c-.78.78-.78 2.05 0 2.83L4 21.41c.39.39.9.59 1.41.59.51 0 1.02-.2 1.41-.59l7.78-7.78 2.81-2.81c.8-.78.8-2.07 0-2.86zM5.41 20L4 18.59l7.72-7.72 1.47 1.35L5.41 20z\"/>\n",
              "  </svg>\n",
              "      </button>\n",
              "      \n",
              "  <style>\n",
              "    .colab-df-container {\n",
              "      display:flex;\n",
              "      flex-wrap:wrap;\n",
              "      gap: 12px;\n",
              "    }\n",
              "\n",
              "    .colab-df-convert {\n",
              "      background-color: #E8F0FE;\n",
              "      border: none;\n",
              "      border-radius: 50%;\n",
              "      cursor: pointer;\n",
              "      display: none;\n",
              "      fill: #1967D2;\n",
              "      height: 32px;\n",
              "      padding: 0 0 0 0;\n",
              "      width: 32px;\n",
              "    }\n",
              "\n",
              "    .colab-df-convert:hover {\n",
              "      background-color: #E2EBFA;\n",
              "      box-shadow: 0px 1px 2px rgba(60, 64, 67, 0.3), 0px 1px 3px 1px rgba(60, 64, 67, 0.15);\n",
              "      fill: #174EA6;\n",
              "    }\n",
              "\n",
              "    [theme=dark] .colab-df-convert {\n",
              "      background-color: #3B4455;\n",
              "      fill: #D2E3FC;\n",
              "    }\n",
              "\n",
              "    [theme=dark] .colab-df-convert:hover {\n",
              "      background-color: #434B5C;\n",
              "      box-shadow: 0px 1px 3px 1px rgba(0, 0, 0, 0.15);\n",
              "      filter: drop-shadow(0px 1px 2px rgba(0, 0, 0, 0.3));\n",
              "      fill: #FFFFFF;\n",
              "    }\n",
              "  </style>\n",
              "\n",
              "      <script>\n",
              "        const buttonEl =\n",
              "          document.querySelector('#df-a5487163-c22c-4050-a09b-54252800c036 button.colab-df-convert');\n",
              "        buttonEl.style.display =\n",
              "          google.colab.kernel.accessAllowed ? 'block' : 'none';\n",
              "\n",
              "        async function convertToInteractive(key) {\n",
              "          const element = document.querySelector('#df-a5487163-c22c-4050-a09b-54252800c036');\n",
              "          const dataTable =\n",
              "            await google.colab.kernel.invokeFunction('convertToInteractive',\n",
              "                                                     [key], {});\n",
              "          if (!dataTable) return;\n",
              "\n",
              "          const docLinkHtml = 'Like what you see? Visit the ' +\n",
              "            '<a target=\"_blank\" href=https://colab.research.google.com/notebooks/data_table.ipynb>data table notebook</a>'\n",
              "            + ' to learn more about interactive tables.';\n",
              "          element.innerHTML = '';\n",
              "          dataTable['output_type'] = 'display_data';\n",
              "          await google.colab.output.renderOutput(dataTable, element);\n",
              "          const docLink = document.createElement('div');\n",
              "          docLink.innerHTML = docLinkHtml;\n",
              "          element.appendChild(docLink);\n",
              "        }\n",
              "      </script>\n",
              "    </div>\n",
              "  </div>\n",
              "  "
            ]
          },
          "metadata": {},
          "execution_count": 6
        }
      ]
    },
    {
      "cell_type": "code",
      "source": [
        "# EX 3-8 part A\n",
        "print(\"For the sample given in exercise 3-8, the average is\", DF3_8['Hours'].mean(), \"and the standard deviation is\", DF3_8['Hours'].std())"
      ],
      "metadata": {
        "colab": {
          "base_uri": "https://localhost:8080/"
        },
        "id": "rA68u3Cz09U9",
        "outputId": "fd005c03-c345-4046-eed6-cd3267b2aaea"
      },
      "execution_count": null,
      "outputs": [
        {
          "output_type": "stream",
          "name": "stdout",
          "text": [
            "For the sample given in exercise 3-8, the average is 130.26829268292684 and the standard deviation is 9.000067750422499\n"
          ]
        }
      ]
    },
    {
      "cell_type": "code",
      "source": [
        "# EX 3-8 part B\n",
        "sns.set(font_scale=1.4)\n",
        "DF3_8['Hours'].plot(kind='hist', figsize=(10, 10));\n",
        "plt.xlabel(\"Time to Failure (Hours)\", labelpad=14)\n",
        "plt.ylabel(\"Number of Trials\", labelpad=14)\n",
        "plt.title(\"Electronic Component Test\", y=1.015, fontsize=22);"
      ],
      "metadata": {
        "id": "4g9T6cW22j7W",
        "colab": {
          "base_uri": "https://localhost:8080/",
          "height": 661
        },
        "outputId": "916a6891-3550-443a-d286-c856931a360e"
      },
      "execution_count": null,
      "outputs": [
        {
          "output_type": "display_data",
          "data": {
            "text/plain": [
              "<Figure size 720x720 with 1 Axes>"
            ],
            "image/png": "[encoded data removed]"
          },
          "metadata": {}
        }
      ]
    },
    {
      "cell_type": "code",
      "source": [
        "# EX 3-8 part C\n",
        "DF3_8.plot.barh(title = 'Electronic Component Test: Time to Failure')"
      ],
      "metadata": {
        "colab": {
          "base_uri": "https://localhost:8080/",
          "height": 310
        },
        "id": "elwFSlLq2kDC",
        "outputId": "a8af7be4-9063-4410-aeca-b2df73fd7fd5"
      },
      "execution_count": null,
      "outputs": [
        {
          "output_type": "execute_result",
          "data": {
            "text/plain": [
              "<matplotlib.axes._subplots.AxesSubplot at 0x7fdfd7c194d0>"
            ]
          },
          "metadata": {},
          "execution_count": 9
        },
        {
          "output_type": "display_data",
          "data": {
            "text/plain": [
              "<Figure size 432x288 with 1 Axes>"
            ],
            "image/png": "[encoded data removed]"
          },
          "metadata": {}
        }
      ]
    },
    {
      "cell_type": "code",
      "source": [
        "# EX 3-8 part D\n",
        "print(\"For the sample given in exercise 3-8, the lower quartile is\", DF3_8['Hours'].quantile(.25), \"and the upper quartile is\", DF3_8['Hours'].quantile(.75))"
      ],
      "metadata": {
        "colab": {
          "base_uri": "https://localhost:8080/"
        },
        "id": "jOvNtJkN12V_",
        "outputId": "83b33083-c1be-460c-ea96-56d919200b98"
      },
      "execution_count": null,
      "outputs": [
        {
          "output_type": "stream",
          "name": "stdout",
          "text": [
            "For the sample given in exercise 3-8, the lower quartile is 124.0 and the upper quartile is 136.0\n"
          ]
        }
      ]
    },
    {
      "cell_type": "markdown",
      "source": [
        "(10 points) Discuss the differences between SS and CL according to your experience on Exercise 3.8.\n",
        "\n",
        "**Answer:** In my experience, it is overkill to use google collab for tiny datasets like the one given in exercise 3-2. However, exercise 3-8 provides a significantly larger dataset to analyze. Performing exercise 3-8 in excel is a tedious activity that requires you to select a lot of cells (or know their locations). \n",
        "\n",
        "When using google collab (or python in general) the size of the dataset does not necessarily matter. The process for analyzing a tiny dataset and a massive dataset are practically the same. The only exception is that you can verify a tiny dataset is clean simply by looking at it. To verify that a massive dataset is clean and usable, you must first check for null values and and extremes that may skew your analysis.\n",
        "\n",
        "It is much quicker to complete exercise 3-8 in collab (python) than in excel simply because it requires less button presses and mouse clicks."
      ],
      "metadata": {
        "id": "LnctEIoMwhY2"
      }
    }
  ],
  "metadata": {
    "colab": {
      "provenance": [],
      "collapsed_sections": []
    },
    "kernelspec": {
      "display_name": "Python 3",
      "name": "python3"
    },
    "language_info": {
      "name": "python"
    }
  },
  "nbformat": 4,
  "nbformat_minor": 0
}