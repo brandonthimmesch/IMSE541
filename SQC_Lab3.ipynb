{
  "nbformat": 4,
  "nbformat_minor": 0,
  "metadata": {
    "colab": {
      "provenance": [],
      "collapsed_sections": [],
      "authorship_tag": "ABX9TyNLAsbiCNUWyWXydt3/5qEo",
      "include_colab_link": true
    },
    "kernelspec": {
      "name": "python3",
      "display_name": "Python 3"
    },
    "language_info": {
      "name": "python"
    }
  },
  "cells": [
    {
      "cell_type": "markdown",
      "metadata": {
        "id": "view-in-github",
        "colab_type": "text"
      },
      "source": [
        "<a href=\"https://colab.research.google.com/github/brandonthimmesch/IMSE541/blob/main/SQC_Lab3.ipynb\" target=\"_parent\"><img src=\"https://colab.research.google.com/assets/colab-badge.svg\" alt=\"Open In Colab\"/></a>"
      ]
    },
    {
      "cell_type": "markdown",
      "source": [
        "Brandon Thimmesch\n",
        "\n",
        "IMSE 541 - Lab 3\n",
        "\n",
        "23 September 2022"
      ],
      "metadata": {
        "id": "ULq70Gk4jeoM"
      }
    },
    {
      "cell_type": "code",
      "execution_count": 31,
      "metadata": {
        "id": "XbFCgkWn0I95"
      },
      "outputs": [],
      "source": [
        "# importing libraries\n",
        "import math\n",
        "import pandas as pd\n",
        "import numpy as np\n",
        "\n",
        "import scipy.stats as stats\n",
        "from scipy.stats import t\n",
        "from scipy.stats import norm\n",
        "\n",
        "import statistics\n",
        "import statsmodels.api as sm\n",
        "from statsmodels.formula.api import ols\n",
        "\n",
        "import matplotlib.pyplot as plt\n",
        "import seaborn as sns"
      ]
    },
    {
      "cell_type": "code",
      "source": [
        "# mounting google drive\n",
        "from google.colab import drive\n",
        "drive.mount('/content/drive')"
      ],
      "metadata": {
        "id": "NO-WDtev0Qza",
        "colab": {
          "base_uri": "https://localhost:8080/",
          "height": 0
        },
        "outputId": "b1c5efa2-90ac-47cf-e046-3e945f32461a"
      },
      "execution_count": 2,
      "outputs": [
        {
          "output_type": "stream",
          "name": "stdout",
          "text": [
            "Mounted at /content/drive\n"
          ]
        }
      ]
    },
    {
      "cell_type": "markdown",
      "source": [
        "# Ex 4.35\n",
        "An article in Solid State Technology (May 1987)\n",
        "describes an experiment to determine the effect of\n",
        "flow rate on etch uniformity on a silicon wafer\n",
        "used in integrated-circuit manufacturing. Three flow\n",
        "rates are tested, and the resulting uniformity (in per\u0002cent) is observed for six test units at each flow rate.\n",
        "The data are shown in Table 4E.4.\n",
        "(a) Does flow rate affect etch uniformity?\n",
        "Answer this question by using an analysis of\n",
        "variance with alpha = 0.05\n",
        "(b) Construct a box plot of the etch uniformity data.\n",
        "Use this plot, together with the analysis of variance results, to determine which gas flow rate\n",
        "would be best in terms of etch uniformity (a\n",
        "small percentage is best).\n",
        "(c) Plot the residuals versus predicted flow.\n",
        "Interpret this plot.\n",
        "(d) Does the normality assumption seem reasonable in this problem?"
      ],
      "metadata": {
        "id": "YMMWehox52ei"
      }
    },
    {
      "cell_type": "code",
      "source": [
        "# Ex 4.35 - reading in data\n",
        "data435 = pd.read_csv('drive/My Drive/Colab Notebooks/SQC/SQC_Lab3_Data_4.35.csv', sep=',', na_values=\".\")\n",
        "data435.head()"
      ],
      "metadata": {
        "colab": {
          "base_uri": "https://localhost:8080/",
          "height": 206
        },
        "id": "uQ_ydN2bGSlG",
        "outputId": "239c0055-823f-4df1-f1b2-8fd17960380b"
      },
      "execution_count": 3,
      "outputs": [
        {
          "output_type": "execute_result",
          "data": {
            "text/plain": [
              "   Observation  Flow  Uniform\n",
              "0            1   125      2.7\n",
              "1            2   125      2.6\n",
              "2            3   125      4.6\n",
              "3            4   125      3.2\n",
              "4            5   125      3.0"
            ],
            "text/html": [
              "\n",
              "  <div id=\"df-746f4d6e-557b-405c-8e53-910547ac1eaf\">\n",
              "    <div class=\"colab-df-container\">\n",
              "      <div>\n",
              "<style scoped>\n",
              "    .dataframe tbody tr th:only-of-type {\n",
              "        vertical-align: middle;\n",
              "    }\n",
              "\n",
              "    .dataframe tbody tr th {\n",
              "        vertical-align: top;\n",
              "    }\n",
              "\n",
              "    .dataframe thead th {\n",
              "        text-align: right;\n",
              "    }\n",
              "</style>\n",
              "<table border=\"1\" class=\"dataframe\">\n",
              "  <thead>\n",
              "    <tr style=\"text-align: right;\">\n",
              "      <th></th>\n",
              "      <th>Observation</th>\n",
              "      <th>Flow</th>\n",
              "      <th>Uniform</th>\n",
              "    </tr>\n",
              "  </thead>\n",
              "  <tbody>\n",
              "    <tr>\n",
              "      <th>0</th>\n",
              "      <td>1</td>\n",
              "      <td>125</td>\n",
              "      <td>2.7</td>\n",
              "    </tr>\n",
              "    <tr>\n",
              "      <th>1</th>\n",
              "      <td>2</td>\n",
              "      <td>125</td>\n",
              "      <td>2.6</td>\n",
              "    </tr>\n",
              "    <tr>\n",
              "      <th>2</th>\n",
              "      <td>3</td>\n",
              "      <td>125</td>\n",
              "      <td>4.6</td>\n",
              "    </tr>\n",
              "    <tr>\n",
              "      <th>3</th>\n",
              "      <td>4</td>\n",
              "      <td>125</td>\n",
              "      <td>3.2</td>\n",
              "    </tr>\n",
              "    <tr>\n",
              "      <th>4</th>\n",
              "      <td>5</td>\n",
              "      <td>125</td>\n",
              "      <td>3.0</td>\n",
              "    </tr>\n",
              "  </tbody>\n",
              "</table>\n",
              "</div>\n",
              "      <button class=\"colab-df-convert\" onclick=\"convertToInteractive('df-746f4d6e-557b-405c-8e53-910547ac1eaf')\"\n",
              "              title=\"Convert this dataframe to an interactive table.\"\n",
              "              style=\"display:none;\">\n",
              "        \n",
              "  <svg xmlns=\"http://www.w3.org/2000/svg\" height=\"24px\"viewBox=\"0 0 24 24\"\n",
              "       width=\"24px\">\n",
              "    <path d=\"M0 0h24v24H0V0z\" fill=\"none\"/>\n",
              "    <path d=\"M18.56 5.44l.94 2.06.94-2.06 2.06-.94-2.06-.94-.94-2.06-.94 2.06-2.06.94zm-11 1L8.5 8.5l.94-2.06 2.06-.94-2.06-.94L8.5 2.5l-.94 2.06-2.06.94zm10 10l.94 2.06.94-2.06 2.06-.94-2.06-.94-.94-2.06-.94 2.06-2.06.94z\"/><path d=\"M17.41 7.96l-1.37-1.37c-.4-.4-.92-.59-1.43-.59-.52 0-1.04.2-1.43.59L10.3 9.45l-7.72 7.72c-.78.78-.78 2.05 0 2.83L4 21.41c.39.39.9.59 1.41.59.51 0 1.02-.2 1.41-.59l7.78-7.78 2.81-2.81c.8-.78.8-2.07 0-2.86zM5.41 20L4 18.59l7.72-7.72 1.47 1.35L5.41 20z\"/>\n",
              "  </svg>\n",
              "      </button>\n",
              "      \n",
              "  <style>\n",
              "    .colab-df-container {\n",
              "      display:flex;\n",
              "      flex-wrap:wrap;\n",
              "      gap: 12px;\n",
              "    }\n",
              "\n",
              "    .colab-df-convert {\n",
              "      background-color: #E8F0FE;\n",
              "      border: none;\n",
              "      border-radius: 50%;\n",
              "      cursor: pointer;\n",
              "      display: none;\n",
              "      fill: #1967D2;\n",
              "      height: 32px;\n",
              "      padding: 0 0 0 0;\n",
              "      width: 32px;\n",
              "    }\n",
              "\n",
              "    .colab-df-convert:hover {\n",
              "      background-color: #E2EBFA;\n",
              "      box-shadow: 0px 1px 2px rgba(60, 64, 67, 0.3), 0px 1px 3px 1px rgba(60, 64, 67, 0.15);\n",
              "      fill: #174EA6;\n",
              "    }\n",
              "\n",
              "    [theme=dark] .colab-df-convert {\n",
              "      background-color: #3B4455;\n",
              "      fill: #D2E3FC;\n",
              "    }\n",
              "\n",
              "    [theme=dark] .colab-df-convert:hover {\n",
              "      background-color: #434B5C;\n",
              "      box-shadow: 0px 1px 3px 1px rgba(0, 0, 0, 0.15);\n",
              "      filter: drop-shadow(0px 1px 2px rgba(0, 0, 0, 0.3));\n",
              "      fill: #FFFFFF;\n",
              "    }\n",
              "  </style>\n",
              "\n",
              "      <script>\n",
              "        const buttonEl =\n",
              "          document.querySelector('#df-746f4d6e-557b-405c-8e53-910547ac1eaf button.colab-df-convert');\n",
              "        buttonEl.style.display =\n",
              "          google.colab.kernel.accessAllowed ? 'block' : 'none';\n",
              "\n",
              "        async function convertToInteractive(key) {\n",
              "          const element = document.querySelector('#df-746f4d6e-557b-405c-8e53-910547ac1eaf');\n",
              "          const dataTable =\n",
              "            await google.colab.kernel.invokeFunction('convertToInteractive',\n",
              "                                                     [key], {});\n",
              "          if (!dataTable) return;\n",
              "\n",
              "          const docLinkHtml = 'Like what you see? Visit the ' +\n",
              "            '<a target=\"_blank\" href=https://colab.research.google.com/notebooks/data_table.ipynb>data table notebook</a>'\n",
              "            + ' to learn more about interactive tables.';\n",
              "          element.innerHTML = '';\n",
              "          dataTable['output_type'] = 'display_data';\n",
              "          await google.colab.output.renderOutput(dataTable, element);\n",
              "          const docLink = document.createElement('div');\n",
              "          docLink.innerHTML = docLinkHtml;\n",
              "          element.appendChild(docLink);\n",
              "        }\n",
              "      </script>\n",
              "    </div>\n",
              "  </div>\n",
              "  "
            ]
          },
          "metadata": {},
          "execution_count": 3
        }
      ]
    },
    {
      "cell_type": "code",
      "source": [
        "# creating dataframe for flow rate = 125 SCCM\n",
        "SCCM125 = data435['Uniform'][data435['Flow'] == 125]\n",
        "\n",
        "# calculating mean etch uniformity (%) for flow rate = 125 SCCM\n",
        "mean125 = statistics.mean(SCCM125)"
      ],
      "metadata": {
        "id": "mnwy-YIxz5TO"
      },
      "execution_count": 10,
      "outputs": []
    },
    {
      "cell_type": "code",
      "source": [
        "# creating dataframe for flow rate = 160 SCCM\n",
        "SCCM160 = data435['Uniform'][data435['Flow'] == 160]\n",
        "\n",
        "# calculating mean etch uniformity (%) for flow rate = 160 SCCM\n",
        "mean160 = statistics.mean(SCCM160)"
      ],
      "metadata": {
        "id": "TatMKYKfz5V9"
      },
      "execution_count": 11,
      "outputs": []
    },
    {
      "cell_type": "code",
      "source": [
        "# creating dataframe for flow rate = 200 SCCM\n",
        "SCCM200 = data435['Uniform'][data435['Flow'] == 200]\n",
        "\n",
        "# calculating mean etch uniformity (%) for flow rate = 200 SCCM\n",
        "mean200 = statistics.mean(SCCM200)"
      ],
      "metadata": {
        "id": "gFAh6Dlbz5YW"
      },
      "execution_count": 12,
      "outputs": []
    },
    {
      "cell_type": "code",
      "source": [
        "# storing means in a list\n",
        "mean435 = (mean125, mean160, mean200)"
      ],
      "metadata": {
        "id": "uOSXUu4gcM0T"
      },
      "execution_count": 58,
      "outputs": []
    },
    {
      "cell_type": "code",
      "source": [
        "# Ex 4.35 (a)\n",
        "# one way anova\n",
        "stats.f_oneway(data435['Uniform'][data435['Flow'] == 125],\n",
        "               data435['Uniform'][data435['Flow'] == 160],\n",
        "               data435['Uniform'][data435['Flow'] == 200])"
      ],
      "metadata": {
        "colab": {
          "base_uri": "https://localhost:8080/",
          "height": 0
        },
        "id": "qh8ObgQ7XiUt",
        "outputId": "7dc3e5c5-66d6-4e6a-e497-375a26730a54"
      },
      "execution_count": 4,
      "outputs": [
        {
          "output_type": "execute_result",
          "data": {
            "text/plain": [
              "F_onewayResult(statistic=3.5856269113149857, pvalue=0.05336512592803552)"
            ]
          },
          "metadata": {},
          "execution_count": 4
        }
      ]
    },
    {
      "cell_type": "code",
      "source": [
        "# Ex 4.35 (a)\n",
        "# creating regression model for Ex 4.35\n",
        "model_435a = ols('Uniform ~ C(Flow)', data = data435).fit()\n",
        "\n",
        "# anova table for Ex 4.35\n",
        "aov_table = sm.stats.anova_lm(model_435a,typ = 2)\n",
        "aov_table"
      ],
      "metadata": {
        "colab": {
          "base_uri": "https://localhost:8080/",
          "height": 112
        },
        "id": "a-Xroalhr2H4",
        "outputId": "bc2931a9-6917-4249-a4a2-77a75080ac97"
      },
      "execution_count": 15,
      "outputs": [
        {
          "output_type": "execute_result",
          "data": {
            "text/plain": [
              "            sum_sq    df         F    PR(>F)\n",
              "C(Flow)   3.647778   2.0  3.585627  0.053365\n",
              "Residual  7.630000  15.0       NaN       NaN"
            ],
            "text/html": [
              "\n",
              "  <div id=\"df-500de7a5-c098-4590-a744-772f13377a89\">\n",
              "    <div class=\"colab-df-container\">\n",
              "      <div>\n",
              "<style scoped>\n",
              "    .dataframe tbody tr th:only-of-type {\n",
              "        vertical-align: middle;\n",
              "    }\n",
              "\n",
              "    .dataframe tbody tr th {\n",
              "        vertical-align: top;\n",
              "    }\n",
              "\n",
              "    .dataframe thead th {\n",
              "        text-align: right;\n",
              "    }\n",
              "</style>\n",
              "<table border=\"1\" class=\"dataframe\">\n",
              "  <thead>\n",
              "    <tr style=\"text-align: right;\">\n",
              "      <th></th>\n",
              "      <th>sum_sq</th>\n",
              "      <th>df</th>\n",
              "      <th>F</th>\n",
              "      <th>PR(&gt;F)</th>\n",
              "    </tr>\n",
              "  </thead>\n",
              "  <tbody>\n",
              "    <tr>\n",
              "      <th>C(Flow)</th>\n",
              "      <td>3.647778</td>\n",
              "      <td>2.0</td>\n",
              "      <td>3.585627</td>\n",
              "      <td>0.053365</td>\n",
              "    </tr>\n",
              "    <tr>\n",
              "      <th>Residual</th>\n",
              "      <td>7.630000</td>\n",
              "      <td>15.0</td>\n",
              "      <td>NaN</td>\n",
              "      <td>NaN</td>\n",
              "    </tr>\n",
              "  </tbody>\n",
              "</table>\n",
              "</div>\n",
              "      <button class=\"colab-df-convert\" onclick=\"convertToInteractive('df-500de7a5-c098-4590-a744-772f13377a89')\"\n",
              "              title=\"Convert this dataframe to an interactive table.\"\n",
              "              style=\"display:none;\">\n",
              "        \n",
              "  <svg xmlns=\"http://www.w3.org/2000/svg\" height=\"24px\"viewBox=\"0 0 24 24\"\n",
              "       width=\"24px\">\n",
              "    <path d=\"M0 0h24v24H0V0z\" fill=\"none\"/>\n",
              "    <path d=\"M18.56 5.44l.94 2.06.94-2.06 2.06-.94-2.06-.94-.94-2.06-.94 2.06-2.06.94zm-11 1L8.5 8.5l.94-2.06 2.06-.94-2.06-.94L8.5 2.5l-.94 2.06-2.06.94zm10 10l.94 2.06.94-2.06 2.06-.94-2.06-.94-.94-2.06-.94 2.06-2.06.94z\"/><path d=\"M17.41 7.96l-1.37-1.37c-.4-.4-.92-.59-1.43-.59-.52 0-1.04.2-1.43.59L10.3 9.45l-7.72 7.72c-.78.78-.78 2.05 0 2.83L4 21.41c.39.39.9.59 1.41.59.51 0 1.02-.2 1.41-.59l7.78-7.78 2.81-2.81c.8-.78.8-2.07 0-2.86zM5.41 20L4 18.59l7.72-7.72 1.47 1.35L5.41 20z\"/>\n",
              "  </svg>\n",
              "      </button>\n",
              "      \n",
              "  <style>\n",
              "    .colab-df-container {\n",
              "      display:flex;\n",
              "      flex-wrap:wrap;\n",
              "      gap: 12px;\n",
              "    }\n",
              "\n",
              "    .colab-df-convert {\n",
              "      background-color: #E8F0FE;\n",
              "      border: none;\n",
              "      border-radius: 50%;\n",
              "      cursor: pointer;\n",
              "      display: none;\n",
              "      fill: #1967D2;\n",
              "      height: 32px;\n",
              "      padding: 0 0 0 0;\n",
              "      width: 32px;\n",
              "    }\n",
              "\n",
              "    .colab-df-convert:hover {\n",
              "      background-color: #E2EBFA;\n",
              "      box-shadow: 0px 1px 2px rgba(60, 64, 67, 0.3), 0px 1px 3px 1px rgba(60, 64, 67, 0.15);\n",
              "      fill: #174EA6;\n",
              "    }\n",
              "\n",
              "    [theme=dark] .colab-df-convert {\n",
              "      background-color: #3B4455;\n",
              "      fill: #D2E3FC;\n",
              "    }\n",
              "\n",
              "    [theme=dark] .colab-df-convert:hover {\n",
              "      background-color: #434B5C;\n",
              "      box-shadow: 0px 1px 3px 1px rgba(0, 0, 0, 0.15);\n",
              "      filter: drop-shadow(0px 1px 2px rgba(0, 0, 0, 0.3));\n",
              "      fill: #FFFFFF;\n",
              "    }\n",
              "  </style>\n",
              "\n",
              "      <script>\n",
              "        const buttonEl =\n",
              "          document.querySelector('#df-500de7a5-c098-4590-a744-772f13377a89 button.colab-df-convert');\n",
              "        buttonEl.style.display =\n",
              "          google.colab.kernel.accessAllowed ? 'block' : 'none';\n",
              "\n",
              "        async function convertToInteractive(key) {\n",
              "          const element = document.querySelector('#df-500de7a5-c098-4590-a744-772f13377a89');\n",
              "          const dataTable =\n",
              "            await google.colab.kernel.invokeFunction('convertToInteractive',\n",
              "                                                     [key], {});\n",
              "          if (!dataTable) return;\n",
              "\n",
              "          const docLinkHtml = 'Like what you see? Visit the ' +\n",
              "            '<a target=\"_blank\" href=https://colab.research.google.com/notebooks/data_table.ipynb>data table notebook</a>'\n",
              "            + ' to learn more about interactive tables.';\n",
              "          element.innerHTML = '';\n",
              "          dataTable['output_type'] = 'display_data';\n",
              "          await google.colab.output.renderOutput(dataTable, element);\n",
              "          const docLink = document.createElement('div');\n",
              "          docLink.innerHTML = docLinkHtml;\n",
              "          element.appendChild(docLink);\n",
              "        }\n",
              "      </script>\n",
              "    </div>\n",
              "  </div>\n",
              "  "
            ]
          },
          "metadata": {},
          "execution_count": 15
        }
      ]
    },
    {
      "cell_type": "code",
      "source": [
        "# function for adding mean squared error to anova table\n",
        "def anova_table(aov):\n",
        "    aov['mean_sq'] = aov[:]['sum_sq']/aov[:]['df']\n",
        "\n",
        "    cols = ['sum_sq', 'df', 'mean_sq', 'F', 'PR(>F)']\n",
        "    aov = aov[cols]\n",
        "    return aov\n",
        "\n",
        "anova_table(aov_table)"
      ],
      "metadata": {
        "colab": {
          "base_uri": "https://localhost:8080/",
          "height": 112
        },
        "id": "8yWWbMRm7twI",
        "outputId": "7245089b-3720-43c5-ad53-d70c214d97d0"
      },
      "execution_count": 8,
      "outputs": [
        {
          "output_type": "execute_result",
          "data": {
            "text/plain": [
              "            sum_sq    df   mean_sq         F    PR(>F)\n",
              "C(Flow)   3.647778   2.0  1.823889  3.585627  0.053365\n",
              "Residual  7.630000  15.0  0.508667       NaN       NaN"
            ],
            "text/html": [
              "\n",
              "  <div id=\"df-6eb7f96e-8e22-4634-bb06-c1bd136b1c54\">\n",
              "    <div class=\"colab-df-container\">\n",
              "      <div>\n",
              "<style scoped>\n",
              "    .dataframe tbody tr th:only-of-type {\n",
              "        vertical-align: middle;\n",
              "    }\n",
              "\n",
              "    .dataframe tbody tr th {\n",
              "        vertical-align: top;\n",
              "    }\n",
              "\n",
              "    .dataframe thead th {\n",
              "        text-align: right;\n",
              "    }\n",
              "</style>\n",
              "<table border=\"1\" class=\"dataframe\">\n",
              "  <thead>\n",
              "    <tr style=\"text-align: right;\">\n",
              "      <th></th>\n",
              "      <th>sum_sq</th>\n",
              "      <th>df</th>\n",
              "      <th>mean_sq</th>\n",
              "      <th>F</th>\n",
              "      <th>PR(&gt;F)</th>\n",
              "    </tr>\n",
              "  </thead>\n",
              "  <tbody>\n",
              "    <tr>\n",
              "      <th>C(Flow)</th>\n",
              "      <td>3.647778</td>\n",
              "      <td>2.0</td>\n",
              "      <td>1.823889</td>\n",
              "      <td>3.585627</td>\n",
              "      <td>0.053365</td>\n",
              "    </tr>\n",
              "    <tr>\n",
              "      <th>Residual</th>\n",
              "      <td>7.630000</td>\n",
              "      <td>15.0</td>\n",
              "      <td>0.508667</td>\n",
              "      <td>NaN</td>\n",
              "      <td>NaN</td>\n",
              "    </tr>\n",
              "  </tbody>\n",
              "</table>\n",
              "</div>\n",
              "      <button class=\"colab-df-convert\" onclick=\"convertToInteractive('df-6eb7f96e-8e22-4634-bb06-c1bd136b1c54')\"\n",
              "              title=\"Convert this dataframe to an interactive table.\"\n",
              "              style=\"display:none;\">\n",
              "        \n",
              "  <svg xmlns=\"http://www.w3.org/2000/svg\" height=\"24px\"viewBox=\"0 0 24 24\"\n",
              "       width=\"24px\">\n",
              "    <path d=\"M0 0h24v24H0V0z\" fill=\"none\"/>\n",
              "    <path d=\"M18.56 5.44l.94 2.06.94-2.06 2.06-.94-2.06-.94-.94-2.06-.94 2.06-2.06.94zm-11 1L8.5 8.5l.94-2.06 2.06-.94-2.06-.94L8.5 2.5l-.94 2.06-2.06.94zm10 10l.94 2.06.94-2.06 2.06-.94-2.06-.94-.94-2.06-.94 2.06-2.06.94z\"/><path d=\"M17.41 7.96l-1.37-1.37c-.4-.4-.92-.59-1.43-.59-.52 0-1.04.2-1.43.59L10.3 9.45l-7.72 7.72c-.78.78-.78 2.05 0 2.83L4 21.41c.39.39.9.59 1.41.59.51 0 1.02-.2 1.41-.59l7.78-7.78 2.81-2.81c.8-.78.8-2.07 0-2.86zM5.41 20L4 18.59l7.72-7.72 1.47 1.35L5.41 20z\"/>\n",
              "  </svg>\n",
              "      </button>\n",
              "      \n",
              "  <style>\n",
              "    .colab-df-container {\n",
              "      display:flex;\n",
              "      flex-wrap:wrap;\n",
              "      gap: 12px;\n",
              "    }\n",
              "\n",
              "    .colab-df-convert {\n",
              "      background-color: #E8F0FE;\n",
              "      border: none;\n",
              "      border-radius: 50%;\n",
              "      cursor: pointer;\n",
              "      display: none;\n",
              "      fill: #1967D2;\n",
              "      height: 32px;\n",
              "      padding: 0 0 0 0;\n",
              "      width: 32px;\n",
              "    }\n",
              "\n",
              "    .colab-df-convert:hover {\n",
              "      background-color: #E2EBFA;\n",
              "      box-shadow: 0px 1px 2px rgba(60, 64, 67, 0.3), 0px 1px 3px 1px rgba(60, 64, 67, 0.15);\n",
              "      fill: #174EA6;\n",
              "    }\n",
              "\n",
              "    [theme=dark] .colab-df-convert {\n",
              "      background-color: #3B4455;\n",
              "      fill: #D2E3FC;\n",
              "    }\n",
              "\n",
              "    [theme=dark] .colab-df-convert:hover {\n",
              "      background-color: #434B5C;\n",
              "      box-shadow: 0px 1px 3px 1px rgba(0, 0, 0, 0.15);\n",
              "      filter: drop-shadow(0px 1px 2px rgba(0, 0, 0, 0.3));\n",
              "      fill: #FFFFFF;\n",
              "    }\n",
              "  </style>\n",
              "\n",
              "      <script>\n",
              "        const buttonEl =\n",
              "          document.querySelector('#df-6eb7f96e-8e22-4634-bb06-c1bd136b1c54 button.colab-df-convert');\n",
              "        buttonEl.style.display =\n",
              "          google.colab.kernel.accessAllowed ? 'block' : 'none';\n",
              "\n",
              "        async function convertToInteractive(key) {\n",
              "          const element = document.querySelector('#df-6eb7f96e-8e22-4634-bb06-c1bd136b1c54');\n",
              "          const dataTable =\n",
              "            await google.colab.kernel.invokeFunction('convertToInteractive',\n",
              "                                                     [key], {});\n",
              "          if (!dataTable) return;\n",
              "\n",
              "          const docLinkHtml = 'Like what you see? Visit the ' +\n",
              "            '<a target=\"_blank\" href=https://colab.research.google.com/notebooks/data_table.ipynb>data table notebook</a>'\n",
              "            + ' to learn more about interactive tables.';\n",
              "          element.innerHTML = '';\n",
              "          dataTable['output_type'] = 'display_data';\n",
              "          await google.colab.output.renderOutput(dataTable, element);\n",
              "          const docLink = document.createElement('div');\n",
              "          docLink.innerHTML = docLinkHtml;\n",
              "          element.appendChild(docLink);\n",
              "        }\n",
              "      </script>\n",
              "    </div>\n",
              "  </div>\n",
              "  "
            ]
          },
          "metadata": {},
          "execution_count": 8
        }
      ]
    },
    {
      "cell_type": "code",
      "source": [
        "# Ex 4.35 (a)\n",
        "# printing regression model for Ex 4.35\n",
        "print(model_435a.summary())"
      ],
      "metadata": {
        "colab": {
          "base_uri": "https://localhost:8080/",
          "height": 0
        },
        "id": "ycrKvpwqslGz",
        "outputId": "bc736a3b-9cc9-40f9-90ca-0768e1b7572f"
      },
      "execution_count": 9,
      "outputs": [
        {
          "output_type": "stream",
          "name": "stdout",
          "text": [
            "                            OLS Regression Results                            \n",
            "==============================================================================\n",
            "Dep. Variable:                Uniform   R-squared:                       0.323\n",
            "Model:                            OLS   Adj. R-squared:                  0.233\n",
            "Method:                 Least Squares   F-statistic:                     3.586\n",
            "Date:                Fri, 23 Sep 2022   Prob (F-statistic):             0.0534\n",
            "Time:                        02:50:35   Log-Likelihood:                -17.816\n",
            "No. Observations:                  18   AIC:                             41.63\n",
            "Df Residuals:                      15   BIC:                             44.30\n",
            "Df Model:                           2                                         \n",
            "Covariance Type:            nonrobust                                         \n",
            "==================================================================================\n",
            "                     coef    std err          t      P>|t|      [0.025      0.975]\n",
            "----------------------------------------------------------------------------------\n",
            "Intercept          3.3167      0.291     11.391      0.000       2.696       3.937\n",
            "C(Flow)[T.160]     1.1000      0.412      2.671      0.017       0.222       1.978\n",
            "C(Flow)[T.200]     0.6167      0.412      1.498      0.155      -0.261       1.494\n",
            "==============================================================================\n",
            "Omnibus:                        1.003   Durbin-Watson:                   1.768\n",
            "Prob(Omnibus):                  0.605   Jarque-Bera (JB):                0.917\n",
            "Skew:                           0.382   Prob(JB):                        0.632\n",
            "Kurtosis:                       2.199   Cond. No.                         3.73\n",
            "==============================================================================\n",
            "\n",
            "Notes:\n",
            "[1] Standard Errors assume that the covariance matrix of the errors is correctly specified.\n"
          ]
        },
        {
          "output_type": "stream",
          "name": "stderr",
          "text": [
            "/usr/local/lib/python3.7/dist-packages/scipy/stats/stats.py:1542: UserWarning: kurtosistest only valid for n>=20 ... continuing anyway, n=18\n",
            "  \"anyway, n=%i\" % int(n))\n"
          ]
        }
      ]
    },
    {
      "cell_type": "markdown",
      "source": [
        "Ex 4.35 (a) - Since the P-value shown above in the summary is equal to 0.0534, which is greater than alpha, 0.05, we can reject the hypothesis that flow rate affects uniformity. \n",
        "\n"
      ],
      "metadata": {
        "id": "lnHGD1EDu0UT"
      }
    },
    {
      "cell_type": "code",
      "source": [
        "# Ex 4.35(b)\n",
        "# box plots by factor levels (125, 160, and 200 SCCM) for Ex 4.35\n",
        "fig = plt.figure(figsize= (10, 10))\n",
        "ax = fig.add_subplot(111)\n",
        "\n",
        "ax.set_title(\"Box Plot of Percent Uniformity by Flow Rate\", fontsize= 20)\n",
        "ax.set\n",
        "\n",
        "data435b = [data435['Uniform'][data435['Flow'] == 125],\n",
        "               data435['Uniform'][data435['Flow'] == 160],\n",
        "               data435['Uniform'][data435['Flow'] == 200]]\n",
        "\n",
        "ax.boxplot(data435b,\n",
        "           labels= ['125 SCCM', '160 SCCM', '200 SCCM'],\n",
        "           showmeans= True)\n",
        "\n",
        "plt.xlabel(\"Flow Rate\")\n",
        "plt.ylabel(\"Percent Uniformity\")\n",
        "\n",
        "plt.show()"
      ],
      "metadata": {
        "id": "h7DsXG136H6L",
        "colab": {
          "base_uri": "https://localhost:8080/",
          "height": 627
        },
        "outputId": "f686325d-60ec-48bd-e7f6-5318877e94b6"
      },
      "execution_count": 6,
      "outputs": [
        {
          "output_type": "display_data",
          "data": {
            "text/plain": [
              "<Figure size 720x720 with 1 Axes>"
            ],
            "image/png": "[encoded data removed]"
          },
          "metadata": {
            "needs_background": "light"
          }
        }
      ]
    },
    {
      "cell_type": "markdown",
      "source": [
        "Ex 4.35(b) - Since smaller mean etch uniformity (%) is attractive, 125 SCCM is the optimal gas flow rate when compared to 160 and 200 SCCM."
      ],
      "metadata": {
        "id": "cyz6dRmOQVkr"
      }
    },
    {
      "cell_type": "code",
      "source": [
        "# Ex 4.35(c)\n",
        "# prediction for all observations in Ex 4.35\n",
        "predict435c = model_435a.predict()\n",
        "predict435c"
      ],
      "metadata": {
        "id": "arOmib2r6H83",
        "colab": {
          "base_uri": "https://localhost:8080/",
          "height": 0
        },
        "outputId": "fe6c7d28-e997-4859-e644-daae5572bbad"
      },
      "execution_count": 20,
      "outputs": [
        {
          "output_type": "execute_result",
          "data": {
            "text/plain": [
              "array([3.31666667, 3.31666667, 3.31666667, 3.31666667, 3.31666667,\n",
              "       3.31666667, 4.41666667, 4.41666667, 4.41666667, 4.41666667,\n",
              "       4.41666667, 4.41666667, 3.93333333, 3.93333333, 3.93333333,\n",
              "       3.93333333, 3.93333333, 3.93333333])"
            ]
          },
          "metadata": {},
          "execution_count": 20
        }
      ]
    },
    {
      "cell_type": "code",
      "source": [
        "# Ex 4.35(c)\n",
        "# Ex 4.35 model observation residuals\n",
        "residuals435c = model_435a.resid\n",
        "residuals435c"
      ],
      "metadata": {
        "colab": {
          "base_uri": "https://localhost:8080/",
          "height": 0
        },
        "id": "IDQmDSDDSURg",
        "outputId": "f7c0280b-6dc8-4493-ffc4-61ca6d0bddab"
      },
      "execution_count": 23,
      "outputs": [
        {
          "output_type": "execute_result",
          "data": {
            "text/plain": [
              "0    -0.616667\n",
              "1    -0.716667\n",
              "2     1.283333\n",
              "3    -0.116667\n",
              "4    -0.316667\n",
              "5     0.483333\n",
              "6     0.183333\n",
              "7     0.483333\n",
              "8     0.583333\n",
              "9    -0.216667\n",
              "10   -0.816667\n",
              "11   -0.216667\n",
              "12    0.666667\n",
              "13   -1.033333\n",
              "14   -0.533333\n",
              "15   -0.433333\n",
              "16    0.166667\n",
              "17    1.166667\n",
              "dtype: float64"
            ]
          },
          "metadata": {},
          "execution_count": 23
        }
      ]
    },
    {
      "cell_type": "code",
      "source": [
        "# Ex 4.35(c)\n",
        "# plot of residuals versus predicted flow\n",
        "plt.scatter(predict435c,residuals435c)\n",
        "plt.axhline(y=0, color='k', linestyle='-')\n",
        "plt.show()"
      ],
      "metadata": {
        "colab": {
          "base_uri": "https://localhost:8080/",
          "height": 265
        },
        "id": "HP5J2NCVSRld",
        "outputId": "c7d4d54a-4e18-4749-caf6-12d250aab8ed"
      },
      "execution_count": 27,
      "outputs": [
        {
          "output_type": "display_data",
          "data": {
            "text/plain": [
              "<Figure size 432x288 with 1 Axes>"
            ],
            "image/png": "[encoded data removed]"
          },
          "metadata": {
            "needs_background": "light"
          }
        }
      ]
    },
    {
      "cell_type": "markdown",
      "source": [
        "Ex 4.35(c) - The residual versus predicted flow plot shows that 125, 160, and 200 SCCM have similar variances."
      ],
      "metadata": {
        "id": "PJOmYHWHT_1T"
      }
    },
    {
      "cell_type": "code",
      "source": [
        "# Ex 4.35(d)\n",
        "# Normality assumption check\n",
        "\n",
        "fig = plt.figure(figsize= (10, 10))\n",
        "ax = fig.add_subplot(111)\n",
        "\n",
        "normality_plot, stat = stats.probplot(residuals435c, plot= plt, rvalue= True)\n",
        "ax.set_title(\"Probability plot of model's residuals\", fontsize= 20)\n",
        "ax.set\n",
        "\n",
        "plt.show()"
      ],
      "metadata": {
        "id": "txI-lxOD6H_p",
        "colab": {
          "base_uri": "https://localhost:8080/",
          "height": 627
        },
        "outputId": "2369c163-e008-4def-f169-dc3f65c1c3ff"
      },
      "execution_count": 28,
      "outputs": [
        {
          "output_type": "display_data",
          "data": {
            "text/plain": [
              "<Figure size 720x720 with 1 Axes>"
            ],
            "image/png": "[encoded data removed]"
          },
          "metadata": {
            "needs_background": "light"
          }
        }
      ]
    },
    {
      "cell_type": "markdown",
      "source": [
        "Ex 4.35(d): Since the model's residuals lie along the red line, we are safe to assume that the model's residuals and observed etch uniformity follow a normal distribution."
      ],
      "metadata": {
        "id": "jxnvdWhKUk1b"
      }
    },
    {
      "cell_type": "markdown",
      "source": [
        "# Ex 4.36\n",
        "Compare the mean etch uniformity values at each of\n",
        "the flow rates from Exercise 4.33 with a scaled\n",
        "t distribution. Does this analysis indicate that there\n",
        "are differences in mean etch uniformity at the differ\u0002ent flow rates? Which flows produce different\n",
        "results?"
      ],
      "metadata": {
        "id": "d9Lc8dcd56Yp"
      }
    },
    {
      "cell_type": "code",
      "source": [
        "# Ex 4.36\n",
        "# calculating scale\n",
        "Residual_MSE = 0.508667\n",
        "n = 6\n",
        "scale = math.sqrt(Residual_MSE/n)\n",
        "print(\"The scale factor for our model is equal to\", scale)"
      ],
      "metadata": {
        "id": "ulDFmtng8JQG",
        "colab": {
          "base_uri": "https://localhost:8080/",
          "height": 0
        },
        "outputId": "fd5d15d3-bc7d-4d9f-d184-723bd1b16201"
      },
      "execution_count": 84,
      "outputs": [
        {
          "output_type": "stream",
          "name": "stdout",
          "text": [
            "The scale factor for our model is equal to 0.291166332760732\n"
          ]
        }
      ]
    },
    {
      "cell_type": "code",
      "source": [
        "# Ex 4.36\n",
        "# plotting distribution of observations\n",
        "plot436 = sns.kdeplot(data = data435['Uniform'], x = (mean125, mean160, mean200))\n",
        "\n",
        "# labeling x axis\n",
        "plt.xlabel('Mean Etch Uniformity (%)')\n",
        "\n",
        "# plotting vertical lines to signify mean etch uniformity for 125, 160, and 200 SCCM\n",
        "plt.axvline(x = mean125, color = 'b', label = '125 SCCM')\n",
        "plt.axvline(x = mean160, color = 'k', label = '160 SCCM')\n",
        "plt.axvline(x = mean200, color = 'r', label = '200 SCCM')\n",
        "\n",
        "# limiting x-axis\n",
        "plt.xlim([2.5, 5.5])\n",
        "\n",
        "# creating legend\n",
        "plt.legend(bbox_to_anchor = (1, 1), loc = 'upper left')\n",
        "\n",
        "plt.show()"
      ],
      "metadata": {
        "colab": {
          "base_uri": "https://localhost:8080/",
          "height": 280
        },
        "id": "lUEkjrO4VvFO",
        "outputId": "afdb53ce-96bd-4726-fd09-855678daffc2"
      },
      "execution_count": 77,
      "outputs": [
        {
          "output_type": "display_data",
          "data": {
            "text/plain": [
              "<Figure size 432x288 with 1 Axes>"
            ],
            "image/png": "[encoded data removed]"
          },
          "metadata": {
            "needs_background": "light"
          }
        }
      ]
    },
    {
      "cell_type": "code",
      "source": [
        "# printing means for 125, 160, and 200 SCCM\n",
        "print(mean435)"
      ],
      "metadata": {
        "colab": {
          "base_uri": "https://localhost:8080/",
          "height": 0
        },
        "id": "T-EjDq1IeyiK",
        "outputId": "3b8b1a77-e14f-4833-d425-38247de4849e"
      },
      "execution_count": 86,
      "outputs": [
        {
          "output_type": "stream",
          "name": "stdout",
          "text": [
            "(3.3166666666666664, 4.416666666666667, 3.933333333333333)\n"
          ]
        }
      ]
    },
    {
      "cell_type": "markdown",
      "source": [
        "Ex 4.36 - With mean etch uniformity for flow rate being: 3.32% for 125 SCCM, 4.42% for 160 SCCM, and 3.93% for 200 SCCM, it is apparent that all three flow rates produce similar results. However, since we want to minimize % mean etch uniformity, a flow rate equal to 125 SCCM produces the highest quality results. In turn, a flow rate of 160 SCCM produces unappealing results.\n",
        "\n",
        "If we shifted the distribution left (since lower % mean etch uniformity is prefferred) and centered the distribution on the mean etch uniformity produced by a flow rate of 125 SCCM, the product of a 160 SCCM flow rate would fall close to the edge of the upper tail and 200 SCCM would lie within a few standards deviations."
      ],
      "metadata": {
        "id": "9Ta60w75ef1Z"
      }
    },
    {
      "cell_type": "markdown",
      "source": [
        "# Ex 4.53\n",
        "Find the missing values from the Minitab output\n"
      ],
      "metadata": {
        "id": "FUB2vcDy56wY"
      }
    },
    {
      "cell_type": "code",
      "source": [
        "# Ex 4.53\n",
        "# data provided\n",
        "x_bar = 31.4\n",
        "mew_naught = 30\n",
        "SE_mean = 0.336\n",
        "\n",
        "# calculating z score\n",
        "Z = (x_bar - mew_naught)/SE_mean\n",
        "\n",
        "# calculating p-value\n",
        "P = 2 * stats.norm.sf(abs(Z))\n",
        "\n",
        "print(\"The missing Z score is\", Z, \"and the missing p-value is\", P)"
      ],
      "metadata": {
        "id": "AViMxY-l5MCm",
        "colab": {
          "base_uri": "https://localhost:8080/",
          "height": 0
        },
        "outputId": "9189a602-90ec-48c6-c528-19dd3410400a"
      },
      "execution_count": 92,
      "outputs": [
        {
          "output_type": "stream",
          "name": "stdout",
          "text": [
            "The missing Z score is 4.1666666666666625 and the missing p-value is 3.09085937645925e-05\n"
          ]
        }
      ]
    },
    {
      "cell_type": "markdown",
      "source": [
        "# Ex 4.47\n",
        "The brake horsepower developed by an automobile\n",
        "engine on a dynamometer is thought to be a function\n",
        "of the engine speed in revolutions per minute (rpm),\n",
        "the road octane number of the fuel, and the engine\n",
        "compression. An experiment is run in the laboratory\n",
        "and the data are drawn in Table 4E.10:\n",
        "(a) Fit a multiple regression model to these data.\n",
        "(b) Test for significance of regression. What conclusions can you draw?\n",
        "(c) Based on t-tests, do you need all three regressor\n",
        "variables in the model?"
      ],
      "metadata": {
        "id": "QUaM3kbm56md"
      }
    },
    {
      "cell_type": "code",
      "source": [
        "# Ex 4.47 - reading in data\n",
        "data447 = pd.read_csv('drive/My Drive/Colab Notebooks/SQC/SQC_Lab3_Data_4.47.csv', sep=',', na_values=\".\")\n",
        "data447.head()"
      ],
      "metadata": {
        "id": "jd5lB_9U5PdE",
        "colab": {
          "base_uri": "https://localhost:8080/",
          "height": 206
        },
        "outputId": "fcd8a31e-e119-4021-ee1c-a106b62d1a75"
      },
      "execution_count": 87,
      "outputs": [
        {
          "output_type": "execute_result",
          "data": {
            "text/plain": [
              "   Brake Horsepower   RPM  Road Octane Number  Compression\n",
              "0               225  2000                  90          100\n",
              "1               212  1800                  94           95\n",
              "2               229  2400                  88          110\n",
              "3               222  1900                  91           96\n",
              "4               219  1600                  86          100"
            ],
            "text/html": [
              "\n",
              "  <div id=\"df-601ba403-e71f-4954-ab32-bdeca447739b\">\n",
              "    <div class=\"colab-df-container\">\n",
              "      <div>\n",
              "<style scoped>\n",
              "    .dataframe tbody tr th:only-of-type {\n",
              "        vertical-align: middle;\n",
              "    }\n",
              "\n",
              "    .dataframe tbody tr th {\n",
              "        vertical-align: top;\n",
              "    }\n",
              "\n",
              "    .dataframe thead th {\n",
              "        text-align: right;\n",
              "    }\n",
              "</style>\n",
              "<table border=\"1\" class=\"dataframe\">\n",
              "  <thead>\n",
              "    <tr style=\"text-align: right;\">\n",
              "      <th></th>\n",
              "      <th>Brake Horsepower</th>\n",
              "      <th>RPM</th>\n",
              "      <th>Road Octane Number</th>\n",
              "      <th>Compression</th>\n",
              "    </tr>\n",
              "  </thead>\n",
              "  <tbody>\n",
              "    <tr>\n",
              "      <th>0</th>\n",
              "      <td>225</td>\n",
              "      <td>2000</td>\n",
              "      <td>90</td>\n",
              "      <td>100</td>\n",
              "    </tr>\n",
              "    <tr>\n",
              "      <th>1</th>\n",
              "      <td>212</td>\n",
              "      <td>1800</td>\n",
              "      <td>94</td>\n",
              "      <td>95</td>\n",
              "    </tr>\n",
              "    <tr>\n",
              "      <th>2</th>\n",
              "      <td>229</td>\n",
              "      <td>2400</td>\n",
              "      <td>88</td>\n",
              "      <td>110</td>\n",
              "    </tr>\n",
              "    <tr>\n",
              "      <th>3</th>\n",
              "      <td>222</td>\n",
              "      <td>1900</td>\n",
              "      <td>91</td>\n",
              "      <td>96</td>\n",
              "    </tr>\n",
              "    <tr>\n",
              "      <th>4</th>\n",
              "      <td>219</td>\n",
              "      <td>1600</td>\n",
              "      <td>86</td>\n",
              "      <td>100</td>\n",
              "    </tr>\n",
              "  </tbody>\n",
              "</table>\n",
              "</div>\n",
              "      <button class=\"colab-df-convert\" onclick=\"convertToInteractive('df-601ba403-e71f-4954-ab32-bdeca447739b')\"\n",
              "              title=\"Convert this dataframe to an interactive table.\"\n",
              "              style=\"display:none;\">\n",
              "        \n",
              "  <svg xmlns=\"http://www.w3.org/2000/svg\" height=\"24px\"viewBox=\"0 0 24 24\"\n",
              "       width=\"24px\">\n",
              "    <path d=\"M0 0h24v24H0V0z\" fill=\"none\"/>\n",
              "    <path d=\"M18.56 5.44l.94 2.06.94-2.06 2.06-.94-2.06-.94-.94-2.06-.94 2.06-2.06.94zm-11 1L8.5 8.5l.94-2.06 2.06-.94-2.06-.94L8.5 2.5l-.94 2.06-2.06.94zm10 10l.94 2.06.94-2.06 2.06-.94-2.06-.94-.94-2.06-.94 2.06-2.06.94z\"/><path d=\"M17.41 7.96l-1.37-1.37c-.4-.4-.92-.59-1.43-.59-.52 0-1.04.2-1.43.59L10.3 9.45l-7.72 7.72c-.78.78-.78 2.05 0 2.83L4 21.41c.39.39.9.59 1.41.59.51 0 1.02-.2 1.41-.59l7.78-7.78 2.81-2.81c.8-.78.8-2.07 0-2.86zM5.41 20L4 18.59l7.72-7.72 1.47 1.35L5.41 20z\"/>\n",
              "  </svg>\n",
              "      </button>\n",
              "      \n",
              "  <style>\n",
              "    .colab-df-container {\n",
              "      display:flex;\n",
              "      flex-wrap:wrap;\n",
              "      gap: 12px;\n",
              "    }\n",
              "\n",
              "    .colab-df-convert {\n",
              "      background-color: #E8F0FE;\n",
              "      border: none;\n",
              "      border-radius: 50%;\n",
              "      cursor: pointer;\n",
              "      display: none;\n",
              "      fill: #1967D2;\n",
              "      height: 32px;\n",
              "      padding: 0 0 0 0;\n",
              "      width: 32px;\n",
              "    }\n",
              "\n",
              "    .colab-df-convert:hover {\n",
              "      background-color: #E2EBFA;\n",
              "      box-shadow: 0px 1px 2px rgba(60, 64, 67, 0.3), 0px 1px 3px 1px rgba(60, 64, 67, 0.15);\n",
              "      fill: #174EA6;\n",
              "    }\n",
              "\n",
              "    [theme=dark] .colab-df-convert {\n",
              "      background-color: #3B4455;\n",
              "      fill: #D2E3FC;\n",
              "    }\n",
              "\n",
              "    [theme=dark] .colab-df-convert:hover {\n",
              "      background-color: #434B5C;\n",
              "      box-shadow: 0px 1px 3px 1px rgba(0, 0, 0, 0.15);\n",
              "      filter: drop-shadow(0px 1px 2px rgba(0, 0, 0, 0.3));\n",
              "      fill: #FFFFFF;\n",
              "    }\n",
              "  </style>\n",
              "\n",
              "      <script>\n",
              "        const buttonEl =\n",
              "          document.querySelector('#df-601ba403-e71f-4954-ab32-bdeca447739b button.colab-df-convert');\n",
              "        buttonEl.style.display =\n",
              "          google.colab.kernel.accessAllowed ? 'block' : 'none';\n",
              "\n",
              "        async function convertToInteractive(key) {\n",
              "          const element = document.querySelector('#df-601ba403-e71f-4954-ab32-bdeca447739b');\n",
              "          const dataTable =\n",
              "            await google.colab.kernel.invokeFunction('convertToInteractive',\n",
              "                                                     [key], {});\n",
              "          if (!dataTable) return;\n",
              "\n",
              "          const docLinkHtml = 'Like what you see? Visit the ' +\n",
              "            '<a target=\"_blank\" href=https://colab.research.google.com/notebooks/data_table.ipynb>data table notebook</a>'\n",
              "            + ' to learn more about interactive tables.';\n",
              "          element.innerHTML = '';\n",
              "          dataTable['output_type'] = 'display_data';\n",
              "          await google.colab.output.renderOutput(dataTable, element);\n",
              "          const docLink = document.createElement('div');\n",
              "          docLink.innerHTML = docLinkHtml;\n",
              "          element.appendChild(docLink);\n",
              "        }\n",
              "      </script>\n",
              "    </div>\n",
              "  </div>\n",
              "  "
            ]
          },
          "metadata": {},
          "execution_count": 87
        }
      ]
    },
    {
      "cell_type": "code",
      "source": [
        "# Ex 4.47 (a)\n",
        "# fitting multiple factor regression model for Ex 4.47\n",
        "x447 = data447[['RPM','Road Octane Number','Compression']]\n",
        "y447 = data447['Brake Horsepower']\n",
        "\n",
        "x447CONST = sm.add_constant(x447)\n",
        " \n",
        "model_447a = sm.OLS(y447, x447CONST).fit()\n",
        "predictions = model_447a.predict(x447CONST) \n",
        " \n",
        "print_model_447a = model_447a.summary()\n",
        "print(print_model_447a)"
      ],
      "metadata": {
        "colab": {
          "base_uri": "https://localhost:8080/",
          "height": 0
        },
        "id": "VaIZdt4vos9p",
        "outputId": "200ce550-1c6a-4b49-f155-10e895ae83a8"
      },
      "execution_count": 89,
      "outputs": [
        {
          "output_type": "stream",
          "name": "stdout",
          "text": [
            "                            OLS Regression Results                            \n",
            "==============================================================================\n",
            "Dep. Variable:       Brake Horsepower   R-squared:                       0.807\n",
            "Model:                            OLS   Adj. R-squared:                  0.734\n",
            "Method:                 Least Squares   F-statistic:                     11.12\n",
            "Date:                Fri, 23 Sep 2022   Prob (F-statistic):            0.00317\n",
            "Time:                        04:03:52   Log-Likelihood:                -40.708\n",
            "No. Observations:                  12   AIC:                             89.42\n",
            "Df Residuals:                       8   BIC:                             91.36\n",
            "Df Model:                           3                                         \n",
            "Covariance Type:            nonrobust                                         \n",
            "======================================================================================\n",
            "                         coef    std err          t      P>|t|      [0.025      0.975]\n",
            "--------------------------------------------------------------------------------------\n",
            "const               -266.0312     92.674     -2.871      0.021    -479.737     -52.325\n",
            "RPM                    0.0107      0.004      2.390      0.044       0.000       0.021\n",
            "Road Octane Number     3.1348      0.844      3.712      0.006       1.188       5.082\n",
            "Compression            1.8674      0.535      3.494      0.008       0.635       3.100\n",
            "==============================================================================\n",
            "Omnibus:                        0.392   Durbin-Watson:                   1.043\n",
            "Prob(Omnibus):                  0.822   Jarque-Bera (JB):                0.230\n",
            "Skew:                          -0.282   Prob(JB):                        0.891\n",
            "Kurtosis:                       2.625   Cond. No.                     9.03e+04\n",
            "==============================================================================\n",
            "\n",
            "Notes:\n",
            "[1] Standard Errors assume that the covariance matrix of the errors is correctly specified.\n",
            "[2] The condition number is large, 9.03e+04. This might indicate that there are\n",
            "strong multicollinearity or other numerical problems.\n"
          ]
        },
        {
          "output_type": "stream",
          "name": "stderr",
          "text": [
            "/usr/local/lib/python3.7/dist-packages/statsmodels/tsa/tsatools.py:142: FutureWarning: In a future version of pandas all arguments of concat except for the argument 'objs' will be keyword-only\n",
            "  x = pd.concat(x[::order], 1)\n",
            "/usr/local/lib/python3.7/dist-packages/scipy/stats/stats.py:1542: UserWarning: kurtosistest only valid for n>=20 ... continuing anyway, n=12\n",
            "  \"anyway, n=%i\" % int(n))\n"
          ]
        }
      ]
    },
    {
      "cell_type": "code",
      "source": [
        "# Ex 4.47 (b)\n",
        "# Residual analysis on Road Octane Number\n",
        "\n",
        "# H0: B1 = B2 = B3 = 0\n",
        "# HA: Bj does not equal 0 for at least one j\n",
        "\n",
        "fig_447a = plt.figure(figsize=(14, 8))\n",
        "fig_447a = sm.graphics.plot_regress_exog(model_447a,'Road Octane Number',fig=fig_447a)"
      ],
      "metadata": {
        "colab": {
          "base_uri": "https://localhost:8080/",
          "height": 585
        },
        "id": "BzAOzWf1ngLz",
        "outputId": "08dfb152-9756-4de8-9350-ec9e0b0a5cc1"
      },
      "execution_count": null,
      "outputs": [
        {
          "output_type": "display_data",
          "data": {
            "text/plain": [
              "<Figure size 1008x576 with 4 Axes>"
            ],
            "image/png": "[encoded data removed]"
          },
          "metadata": {
            "needs_background": "light"
          }
        }
      ]
    },
    {
      "cell_type": "markdown",
      "source": [
        "Ex 4.47 (b) - P values (found in column P>|t|) for RPM, Road Octane Number, and Compression are all less than 0.05 which means that these variables are statistically significant. \n",
        "\n",
        "Since Road Octane Number has the greatest coefficient, equal to 3.1348, Road Octane Number has the greatest weight in a function of brake horsepower. \n",
        "\n",
        "In order to reject the null hypothesis (H0: B1 = B2 = B3 = 0), the linear regression model result must yield a relatively high F-statistic. Since the F-statistic is equal to 11.12, which is relatively high, we have more evidence for rejecting the null hypothesis since high F-statistic values correlate to a low p-value. There is enough evidence to support the alternative hypothesis (HA: Bj does not equal 0 for at least one j), which is self-evident since the model output coefficients for RPM, Road Octane Number, and Compression are all nonzero."
      ],
      "metadata": {
        "id": "OMGPYesqoGOk"
      }
    },
    {
      "cell_type": "markdown",
      "source": [
        "Ex 4.47 (c) - The P-value for RPM is equal to 0.044. The P-value for Road Octane Number is equal to 0.006. The P-value for RPM is equal to 0.008. Since all three regressor variables P-values are less than 0.05, all three regressor variables are statistically significant and necessary to include in the model."
      ],
      "metadata": {
        "id": "XowlKD7JmWCS"
      }
    }
  ]
}