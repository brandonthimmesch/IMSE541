{
  "nbformat": 4,
  "nbformat_minor": 0,
  "metadata": {
    "colab": {
      "provenance": [],
      "collapsed_sections": [],
      "authorship_tag": "ABX9TyPkCvWXtAdTVB7wO4aC+6CD",
      "include_colab_link": true
    },
    "kernelspec": {
      "name": "python3",
      "display_name": "Python 3"
    },
    "language_info": {
      "name": "python"
    }
  },
  "cells": [
    {
      "cell_type": "markdown",
      "metadata": {
        "id": "view-in-github",
        "colab_type": "text"
      },
      "source": [
        "<a href=\"https://colab.research.google.com/github/brandonthimmesch/IMSE541/blob/main/SQC_Lab6.ipynb\" target=\"_parent\"><img src=\"https://colab.research.google.com/assets/colab-badge.svg\" alt=\"Open In Colab\"/></a>"
      ]
    },
    {
      "cell_type": "markdown",
      "source": [
        "Brandon Thimmesch\n",
        "IMSE 541 - Lab 6\n",
        "12 October 2022"
      ],
      "metadata": {
        "id": "VkluTzsO-qBH"
      }
    },
    {
      "cell_type": "code",
      "execution_count": 135,
      "metadata": {
        "id": "oePOdofB-Hda"
      },
      "outputs": [],
      "source": [
        "# importing libraries\n",
        "import math\n",
        "import random\n",
        "import scipy\n",
        "import statistics\n",
        "import numpy as np\n",
        "import scipy.stats\n",
        "from scipy import stats\n",
        "import pandas as pd\n",
        "import matplotlib.pyplot as plt\n",
        "from matplotlib import cm\n",
        "from matplotlib.ticker import LinearLocator\n",
        "import plotly.graph_objects as go\n",
        "import statsmodels.api as sm\n",
        "from statsmodels.formula.api import ols\n",
        "import statsmodels.stats.multicomp as mc\n",
        "from sklearn.linear_model import LinearRegression\n",
        "from sklearn.preprocessing import PolynomialFeatures"
      ]
    },
    {
      "cell_type": "code",
      "source": [
        "# mounting google drive\n",
        "from google.colab import drive\n",
        "drive.mount('/content/drive')"
      ],
      "metadata": {
        "id": "vZG0TMgH-80g",
        "colab": {
          "base_uri": "https://localhost:8080/"
        },
        "outputId": "5265801b-3b76-4ecb-ef6b-405c49e5deac"
      },
      "execution_count": 136,
      "outputs": [
        {
          "output_type": "stream",
          "name": "stdout",
          "text": [
            "Drive already mounted at /content/drive; to attempt to forcibly remount, call drive.mount(\"/content/drive\", force_remount=True).\n"
          ]
        }
      ]
    },
    {
      "cell_type": "markdown",
      "source": [
        "# Ex 13.19\n",
        "A nickel–titanium alloy is used to make components\n",
        "for jet turbine aircraft engines. Cracking is a potentially serious problem in the final part because it can\n",
        "lead to nonrecoverable failure. A test is run at the parts\n",
        "producer to determine the effect of four factors on\n",
        "cracks. The four factors are pouring temperature (A),\n",
        "titanium content (B), heat treatment method (C), and\n",
        "amount of grain refiner used (D). Two replicates of\n",
        "a 24 design are run, and the length of crack (in mm\n",
        "× 10−2\n",
        ") induced in a sample coupon subjected to a\n",
        "standard test is measured. The data are shown in\n",
        "Table 13E.6.\n",
        "\n",
        "(a) Estimate the factor effects. Which factor effects\n",
        "appear to be large?\n",
        "\n",
        "(b) Conduct an analysis of variance. Do any of the\n",
        "factors affect cracking? Use a = 0.05.\n",
        "\n",
        "(c) Write down a regression model that can be used\n",
        "to predict crack length as a function of the significant main effects and interactions you have\n",
        "identified in part (b).\n",
        "\n",
        "(d) Analyze the residuals from this experiment.\n",
        "\n",
        "(e) Is there an indication that any of the factors affect\n",
        "the variability in cracking?\n",
        "\n",
        "(f) What recommendations would you make regarding process operations? Use interaction and/or\n",
        "main effect plots to assist in drawing conclusions."
      ],
      "metadata": {
        "id": "sOok245X_Rvh"
      }
    },
    {
      "cell_type": "code",
      "source": [
        "# reading in data\n",
        "data = pd.read_csv('drive/My Drive/Colab Notebooks/SQC/SQC_Lab6_Data.csv', sep=',', na_values=\".\")\n",
        "data.head()"
      ],
      "metadata": {
        "colab": {
          "base_uri": "https://localhost:8080/",
          "height": 206
        },
        "id": "FN43UXrZEmRx",
        "outputId": "a11bd829-c7d1-421c-f38c-8f5c95de3dea"
      },
      "execution_count": 137,
      "outputs": [
        {
          "output_type": "execute_result",
          "data": {
            "text/plain": [
              "   a  b  c  d  result\n",
              "0 -1 -1 -1 -1   7.037\n",
              "1  1 -1 -1 -1  14.707\n",
              "2 -1  1 -1 -1  11.635\n",
              "3  1  1 -1 -1  17.273\n",
              "4 -1 -1  1 -1  10.403"
            ],
            "text/html": [
              "\n",
              "  <div id=\"df-d007ccfa-7ba0-4ef7-bc12-5f65a809c2cc\">\n",
              "    <div class=\"colab-df-container\">\n",
              "      <div>\n",
              "<style scoped>\n",
              "    .dataframe tbody tr th:only-of-type {\n",
              "        vertical-align: middle;\n",
              "    }\n",
              "\n",
              "    .dataframe tbody tr th {\n",
              "        vertical-align: top;\n",
              "    }\n",
              "\n",
              "    .dataframe thead th {\n",
              "        text-align: right;\n",
              "    }\n",
              "</style>\n",
              "<table border=\"1\" class=\"dataframe\">\n",
              "  <thead>\n",
              "    <tr style=\"text-align: right;\">\n",
              "      <th></th>\n",
              "      <th>a</th>\n",
              "      <th>b</th>\n",
              "      <th>c</th>\n",
              "      <th>d</th>\n",
              "      <th>result</th>\n",
              "    </tr>\n",
              "  </thead>\n",
              "  <tbody>\n",
              "    <tr>\n",
              "      <th>0</th>\n",
              "      <td>-1</td>\n",
              "      <td>-1</td>\n",
              "      <td>-1</td>\n",
              "      <td>-1</td>\n",
              "      <td>7.037</td>\n",
              "    </tr>\n",
              "    <tr>\n",
              "      <th>1</th>\n",
              "      <td>1</td>\n",
              "      <td>-1</td>\n",
              "      <td>-1</td>\n",
              "      <td>-1</td>\n",
              "      <td>14.707</td>\n",
              "    </tr>\n",
              "    <tr>\n",
              "      <th>2</th>\n",
              "      <td>-1</td>\n",
              "      <td>1</td>\n",
              "      <td>-1</td>\n",
              "      <td>-1</td>\n",
              "      <td>11.635</td>\n",
              "    </tr>\n",
              "    <tr>\n",
              "      <th>3</th>\n",
              "      <td>1</td>\n",
              "      <td>1</td>\n",
              "      <td>-1</td>\n",
              "      <td>-1</td>\n",
              "      <td>17.273</td>\n",
              "    </tr>\n",
              "    <tr>\n",
              "      <th>4</th>\n",
              "      <td>-1</td>\n",
              "      <td>-1</td>\n",
              "      <td>1</td>\n",
              "      <td>-1</td>\n",
              "      <td>10.403</td>\n",
              "    </tr>\n",
              "  </tbody>\n",
              "</table>\n",
              "</div>\n",
              "      <button class=\"colab-df-convert\" onclick=\"convertToInteractive('df-d007ccfa-7ba0-4ef7-bc12-5f65a809c2cc')\"\n",
              "              title=\"Convert this dataframe to an interactive table.\"\n",
              "              style=\"display:none;\">\n",
              "        \n",
              "  <svg xmlns=\"http://www.w3.org/2000/svg\" height=\"24px\"viewBox=\"0 0 24 24\"\n",
              "       width=\"24px\">\n",
              "    <path d=\"M0 0h24v24H0V0z\" fill=\"none\"/>\n",
              "    <path d=\"M18.56 5.44l.94 2.06.94-2.06 2.06-.94-2.06-.94-.94-2.06-.94 2.06-2.06.94zm-11 1L8.5 8.5l.94-2.06 2.06-.94-2.06-.94L8.5 2.5l-.94 2.06-2.06.94zm10 10l.94 2.06.94-2.06 2.06-.94-2.06-.94-.94-2.06-.94 2.06-2.06.94z\"/><path d=\"M17.41 7.96l-1.37-1.37c-.4-.4-.92-.59-1.43-.59-.52 0-1.04.2-1.43.59L10.3 9.45l-7.72 7.72c-.78.78-.78 2.05 0 2.83L4 21.41c.39.39.9.59 1.41.59.51 0 1.02-.2 1.41-.59l7.78-7.78 2.81-2.81c.8-.78.8-2.07 0-2.86zM5.41 20L4 18.59l7.72-7.72 1.47 1.35L5.41 20z\"/>\n",
              "  </svg>\n",
              "      </button>\n",
              "      \n",
              "  <style>\n",
              "    .colab-df-container {\n",
              "      display:flex;\n",
              "      flex-wrap:wrap;\n",
              "      gap: 12px;\n",
              "    }\n",
              "\n",
              "    .colab-df-convert {\n",
              "      background-color: #E8F0FE;\n",
              "      border: none;\n",
              "      border-radius: 50%;\n",
              "      cursor: pointer;\n",
              "      display: none;\n",
              "      fill: #1967D2;\n",
              "      height: 32px;\n",
              "      padding: 0 0 0 0;\n",
              "      width: 32px;\n",
              "    }\n",
              "\n",
              "    .colab-df-convert:hover {\n",
              "      background-color: #E2EBFA;\n",
              "      box-shadow: 0px 1px 2px rgba(60, 64, 67, 0.3), 0px 1px 3px 1px rgba(60, 64, 67, 0.15);\n",
              "      fill: #174EA6;\n",
              "    }\n",
              "\n",
              "    [theme=dark] .colab-df-convert {\n",
              "      background-color: #3B4455;\n",
              "      fill: #D2E3FC;\n",
              "    }\n",
              "\n",
              "    [theme=dark] .colab-df-convert:hover {\n",
              "      background-color: #434B5C;\n",
              "      box-shadow: 0px 1px 3px 1px rgba(0, 0, 0, 0.15);\n",
              "      filter: drop-shadow(0px 1px 2px rgba(0, 0, 0, 0.3));\n",
              "      fill: #FFFFFF;\n",
              "    }\n",
              "  </style>\n",
              "\n",
              "      <script>\n",
              "        const buttonEl =\n",
              "          document.querySelector('#df-d007ccfa-7ba0-4ef7-bc12-5f65a809c2cc button.colab-df-convert');\n",
              "        buttonEl.style.display =\n",
              "          google.colab.kernel.accessAllowed ? 'block' : 'none';\n",
              "\n",
              "        async function convertToInteractive(key) {\n",
              "          const element = document.querySelector('#df-d007ccfa-7ba0-4ef7-bc12-5f65a809c2cc');\n",
              "          const dataTable =\n",
              "            await google.colab.kernel.invokeFunction('convertToInteractive',\n",
              "                                                     [key], {});\n",
              "          if (!dataTable) return;\n",
              "\n",
              "          const docLinkHtml = 'Like what you see? Visit the ' +\n",
              "            '<a target=\"_blank\" href=https://colab.research.google.com/notebooks/data_table.ipynb>data table notebook</a>'\n",
              "            + ' to learn more about interactive tables.';\n",
              "          element.innerHTML = '';\n",
              "          dataTable['output_type'] = 'display_data';\n",
              "          await google.colab.output.renderOutput(dataTable, element);\n",
              "          const docLink = document.createElement('div');\n",
              "          docLink.innerHTML = docLinkHtml;\n",
              "          element.appendChild(docLink);\n",
              "        }\n",
              "      </script>\n",
              "    </div>\n",
              "  </div>\n",
              "  "
            ]
          },
          "metadata": {},
          "execution_count": 137
        }
      ]
    },
    {
      "cell_type": "code",
      "source": [
        "X=data[['a', 'b', 'c','d']]\n",
        "X.head()"
      ],
      "metadata": {
        "colab": {
          "base_uri": "https://localhost:8080/",
          "height": 206
        },
        "id": "hCkwVpmlF4nO",
        "outputId": "d06f8826-cbd4-4b0a-95d3-ae418bef5635"
      },
      "execution_count": 138,
      "outputs": [
        {
          "output_type": "execute_result",
          "data": {
            "text/plain": [
              "   a  b  c  d\n",
              "0 -1 -1 -1 -1\n",
              "1  1 -1 -1 -1\n",
              "2 -1  1 -1 -1\n",
              "3  1  1 -1 -1\n",
              "4 -1 -1  1 -1"
            ],
            "text/html": [
              "\n",
              "  <div id=\"df-60d16d8b-d090-49f8-990c-08f65ea8f15d\">\n",
              "    <div class=\"colab-df-container\">\n",
              "      <div>\n",
              "<style scoped>\n",
              "    .dataframe tbody tr th:only-of-type {\n",
              "        vertical-align: middle;\n",
              "    }\n",
              "\n",
              "    .dataframe tbody tr th {\n",
              "        vertical-align: top;\n",
              "    }\n",
              "\n",
              "    .dataframe thead th {\n",
              "        text-align: right;\n",
              "    }\n",
              "</style>\n",
              "<table border=\"1\" class=\"dataframe\">\n",
              "  <thead>\n",
              "    <tr style=\"text-align: right;\">\n",
              "      <th></th>\n",
              "      <th>a</th>\n",
              "      <th>b</th>\n",
              "      <th>c</th>\n",
              "      <th>d</th>\n",
              "    </tr>\n",
              "  </thead>\n",
              "  <tbody>\n",
              "    <tr>\n",
              "      <th>0</th>\n",
              "      <td>-1</td>\n",
              "      <td>-1</td>\n",
              "      <td>-1</td>\n",
              "      <td>-1</td>\n",
              "    </tr>\n",
              "    <tr>\n",
              "      <th>1</th>\n",
              "      <td>1</td>\n",
              "      <td>-1</td>\n",
              "      <td>-1</td>\n",
              "      <td>-1</td>\n",
              "    </tr>\n",
              "    <tr>\n",
              "      <th>2</th>\n",
              "      <td>-1</td>\n",
              "      <td>1</td>\n",
              "      <td>-1</td>\n",
              "      <td>-1</td>\n",
              "    </tr>\n",
              "    <tr>\n",
              "      <th>3</th>\n",
              "      <td>1</td>\n",
              "      <td>1</td>\n",
              "      <td>-1</td>\n",
              "      <td>-1</td>\n",
              "    </tr>\n",
              "    <tr>\n",
              "      <th>4</th>\n",
              "      <td>-1</td>\n",
              "      <td>-1</td>\n",
              "      <td>1</td>\n",
              "      <td>-1</td>\n",
              "    </tr>\n",
              "  </tbody>\n",
              "</table>\n",
              "</div>\n",
              "      <button class=\"colab-df-convert\" onclick=\"convertToInteractive('df-60d16d8b-d090-49f8-990c-08f65ea8f15d')\"\n",
              "              title=\"Convert this dataframe to an interactive table.\"\n",
              "              style=\"display:none;\">\n",
              "        \n",
              "  <svg xmlns=\"http://www.w3.org/2000/svg\" height=\"24px\"viewBox=\"0 0 24 24\"\n",
              "       width=\"24px\">\n",
              "    <path d=\"M0 0h24v24H0V0z\" fill=\"none\"/>\n",
              "    <path d=\"M18.56 5.44l.94 2.06.94-2.06 2.06-.94-2.06-.94-.94-2.06-.94 2.06-2.06.94zm-11 1L8.5 8.5l.94-2.06 2.06-.94-2.06-.94L8.5 2.5l-.94 2.06-2.06.94zm10 10l.94 2.06.94-2.06 2.06-.94-2.06-.94-.94-2.06-.94 2.06-2.06.94z\"/><path d=\"M17.41 7.96l-1.37-1.37c-.4-.4-.92-.59-1.43-.59-.52 0-1.04.2-1.43.59L10.3 9.45l-7.72 7.72c-.78.78-.78 2.05 0 2.83L4 21.41c.39.39.9.59 1.41.59.51 0 1.02-.2 1.41-.59l7.78-7.78 2.81-2.81c.8-.78.8-2.07 0-2.86zM5.41 20L4 18.59l7.72-7.72 1.47 1.35L5.41 20z\"/>\n",
              "  </svg>\n",
              "      </button>\n",
              "      \n",
              "  <style>\n",
              "    .colab-df-container {\n",
              "      display:flex;\n",
              "      flex-wrap:wrap;\n",
              "      gap: 12px;\n",
              "    }\n",
              "\n",
              "    .colab-df-convert {\n",
              "      background-color: #E8F0FE;\n",
              "      border: none;\n",
              "      border-radius: 50%;\n",
              "      cursor: pointer;\n",
              "      display: none;\n",
              "      fill: #1967D2;\n",
              "      height: 32px;\n",
              "      padding: 0 0 0 0;\n",
              "      width: 32px;\n",
              "    }\n",
              "\n",
              "    .colab-df-convert:hover {\n",
              "      background-color: #E2EBFA;\n",
              "      box-shadow: 0px 1px 2px rgba(60, 64, 67, 0.3), 0px 1px 3px 1px rgba(60, 64, 67, 0.15);\n",
              "      fill: #174EA6;\n",
              "    }\n",
              "\n",
              "    [theme=dark] .colab-df-convert {\n",
              "      background-color: #3B4455;\n",
              "      fill: #D2E3FC;\n",
              "    }\n",
              "\n",
              "    [theme=dark] .colab-df-convert:hover {\n",
              "      background-color: #434B5C;\n",
              "      box-shadow: 0px 1px 3px 1px rgba(0, 0, 0, 0.15);\n",
              "      filter: drop-shadow(0px 1px 2px rgba(0, 0, 0, 0.3));\n",
              "      fill: #FFFFFF;\n",
              "    }\n",
              "  </style>\n",
              "\n",
              "      <script>\n",
              "        const buttonEl =\n",
              "          document.querySelector('#df-60d16d8b-d090-49f8-990c-08f65ea8f15d button.colab-df-convert');\n",
              "        buttonEl.style.display =\n",
              "          google.colab.kernel.accessAllowed ? 'block' : 'none';\n",
              "\n",
              "        async function convertToInteractive(key) {\n",
              "          const element = document.querySelector('#df-60d16d8b-d090-49f8-990c-08f65ea8f15d');\n",
              "          const dataTable =\n",
              "            await google.colab.kernel.invokeFunction('convertToInteractive',\n",
              "                                                     [key], {});\n",
              "          if (!dataTable) return;\n",
              "\n",
              "          const docLinkHtml = 'Like what you see? Visit the ' +\n",
              "            '<a target=\"_blank\" href=https://colab.research.google.com/notebooks/data_table.ipynb>data table notebook</a>'\n",
              "            + ' to learn more about interactive tables.';\n",
              "          element.innerHTML = '';\n",
              "          dataTable['output_type'] = 'display_data';\n",
              "          await google.colab.output.renderOutput(dataTable, element);\n",
              "          const docLink = document.createElement('div');\n",
              "          docLink.innerHTML = docLinkHtml;\n",
              "          element.appendChild(docLink);\n",
              "        }\n",
              "      </script>\n",
              "    </div>\n",
              "  </div>\n",
              "  "
            ]
          },
          "metadata": {},
          "execution_count": 138
        }
      ]
    },
    {
      "cell_type": "code",
      "source": [
        "# convert input columns into a polynomial matrix with intercept column \n",
        "# computation is done in numpy and convert it into Panda dataframe\n",
        "xx=X.to_numpy()\n",
        "poly= PolynomialFeatures(degree=4, interaction_only=True)\n",
        "xxpd=pd.DataFrame(poly.fit_transform(xx), columns=['I', 'a', 'b', 'c','ab', 'ac', 'bc', 'abc','d','ad','bd','abd','cd','acd','bcd','abcd']) #if interaction_only=False, then 1, a, b, a^2, ab, b^2\n",
        "xxpd.head()"
      ],
      "metadata": {
        "colab": {
          "base_uri": "https://localhost:8080/",
          "height": 206
        },
        "id": "RVJEmMUAG1pp",
        "outputId": "7da4a284-6d07-4e50-e539-49268015822c"
      },
      "execution_count": 139,
      "outputs": [
        {
          "output_type": "execute_result",
          "data": {
            "text/plain": [
              "     I    a    b    c   ab   ac   bc  abc    d   ad   bd  abd   cd  acd  bcd  \\\n",
              "0  1.0 -1.0 -1.0 -1.0 -1.0  1.0  1.0  1.0  1.0  1.0  1.0 -1.0 -1.0 -1.0 -1.0   \n",
              "1  1.0  1.0 -1.0 -1.0 -1.0 -1.0 -1.0 -1.0  1.0  1.0  1.0  1.0  1.0  1.0 -1.0   \n",
              "2  1.0 -1.0  1.0 -1.0 -1.0 -1.0  1.0  1.0 -1.0 -1.0  1.0  1.0  1.0 -1.0  1.0   \n",
              "3  1.0  1.0  1.0 -1.0 -1.0  1.0 -1.0 -1.0 -1.0 -1.0  1.0 -1.0 -1.0  1.0  1.0   \n",
              "4  1.0 -1.0 -1.0  1.0 -1.0  1.0 -1.0  1.0 -1.0  1.0 -1.0  1.0 -1.0  1.0  1.0   \n",
              "\n",
              "   abcd  \n",
              "0   1.0  \n",
              "1  -1.0  \n",
              "2  -1.0  \n",
              "3   1.0  \n",
              "4  -1.0  "
            ],
            "text/html": [
              "\n",
              "  <div id=\"df-966a054c-e12e-4da5-8bf9-89d4db317b9a\">\n",
              "    <div class=\"colab-df-container\">\n",
              "      <div>\n",
              "<style scoped>\n",
              "    .dataframe tbody tr th:only-of-type {\n",
              "        vertical-align: middle;\n",
              "    }\n",
              "\n",
              "    .dataframe tbody tr th {\n",
              "        vertical-align: top;\n",
              "    }\n",
              "\n",
              "    .dataframe thead th {\n",
              "        text-align: right;\n",
              "    }\n",
              "</style>\n",
              "<table border=\"1\" class=\"dataframe\">\n",
              "  <thead>\n",
              "    <tr style=\"text-align: right;\">\n",
              "      <th></th>\n",
              "      <th>I</th>\n",
              "      <th>a</th>\n",
              "      <th>b</th>\n",
              "      <th>c</th>\n",
              "      <th>ab</th>\n",
              "      <th>ac</th>\n",
              "      <th>bc</th>\n",
              "      <th>abc</th>\n",
              "      <th>d</th>\n",
              "      <th>ad</th>\n",
              "      <th>bd</th>\n",
              "      <th>abd</th>\n",
              "      <th>cd</th>\n",
              "      <th>acd</th>\n",
              "      <th>bcd</th>\n",
              "      <th>abcd</th>\n",
              "    </tr>\n",
              "  </thead>\n",
              "  <tbody>\n",
              "    <tr>\n",
              "      <th>0</th>\n",
              "      <td>1.0</td>\n",
              "      <td>-1.0</td>\n",
              "      <td>-1.0</td>\n",
              "      <td>-1.0</td>\n",
              "      <td>-1.0</td>\n",
              "      <td>1.0</td>\n",
              "      <td>1.0</td>\n",
              "      <td>1.0</td>\n",
              "      <td>1.0</td>\n",
              "      <td>1.0</td>\n",
              "      <td>1.0</td>\n",
              "      <td>-1.0</td>\n",
              "      <td>-1.0</td>\n",
              "      <td>-1.0</td>\n",
              "      <td>-1.0</td>\n",
              "      <td>1.0</td>\n",
              "    </tr>\n",
              "    <tr>\n",
              "      <th>1</th>\n",
              "      <td>1.0</td>\n",
              "      <td>1.0</td>\n",
              "      <td>-1.0</td>\n",
              "      <td>-1.0</td>\n",
              "      <td>-1.0</td>\n",
              "      <td>-1.0</td>\n",
              "      <td>-1.0</td>\n",
              "      <td>-1.0</td>\n",
              "      <td>1.0</td>\n",
              "      <td>1.0</td>\n",
              "      <td>1.0</td>\n",
              "      <td>1.0</td>\n",
              "      <td>1.0</td>\n",
              "      <td>1.0</td>\n",
              "      <td>-1.0</td>\n",
              "      <td>-1.0</td>\n",
              "    </tr>\n",
              "    <tr>\n",
              "      <th>2</th>\n",
              "      <td>1.0</td>\n",
              "      <td>-1.0</td>\n",
              "      <td>1.0</td>\n",
              "      <td>-1.0</td>\n",
              "      <td>-1.0</td>\n",
              "      <td>-1.0</td>\n",
              "      <td>1.0</td>\n",
              "      <td>1.0</td>\n",
              "      <td>-1.0</td>\n",
              "      <td>-1.0</td>\n",
              "      <td>1.0</td>\n",
              "      <td>1.0</td>\n",
              "      <td>1.0</td>\n",
              "      <td>-1.0</td>\n",
              "      <td>1.0</td>\n",
              "      <td>-1.0</td>\n",
              "    </tr>\n",
              "    <tr>\n",
              "      <th>3</th>\n",
              "      <td>1.0</td>\n",
              "      <td>1.0</td>\n",
              "      <td>1.0</td>\n",
              "      <td>-1.0</td>\n",
              "      <td>-1.0</td>\n",
              "      <td>1.0</td>\n",
              "      <td>-1.0</td>\n",
              "      <td>-1.0</td>\n",
              "      <td>-1.0</td>\n",
              "      <td>-1.0</td>\n",
              "      <td>1.0</td>\n",
              "      <td>-1.0</td>\n",
              "      <td>-1.0</td>\n",
              "      <td>1.0</td>\n",
              "      <td>1.0</td>\n",
              "      <td>1.0</td>\n",
              "    </tr>\n",
              "    <tr>\n",
              "      <th>4</th>\n",
              "      <td>1.0</td>\n",
              "      <td>-1.0</td>\n",
              "      <td>-1.0</td>\n",
              "      <td>1.0</td>\n",
              "      <td>-1.0</td>\n",
              "      <td>1.0</td>\n",
              "      <td>-1.0</td>\n",
              "      <td>1.0</td>\n",
              "      <td>-1.0</td>\n",
              "      <td>1.0</td>\n",
              "      <td>-1.0</td>\n",
              "      <td>1.0</td>\n",
              "      <td>-1.0</td>\n",
              "      <td>1.0</td>\n",
              "      <td>1.0</td>\n",
              "      <td>-1.0</td>\n",
              "    </tr>\n",
              "  </tbody>\n",
              "</table>\n",
              "</div>\n",
              "      <button class=\"colab-df-convert\" onclick=\"convertToInteractive('df-966a054c-e12e-4da5-8bf9-89d4db317b9a')\"\n",
              "              title=\"Convert this dataframe to an interactive table.\"\n",
              "              style=\"display:none;\">\n",
              "        \n",
              "  <svg xmlns=\"http://www.w3.org/2000/svg\" height=\"24px\"viewBox=\"0 0 24 24\"\n",
              "       width=\"24px\">\n",
              "    <path d=\"M0 0h24v24H0V0z\" fill=\"none\"/>\n",
              "    <path d=\"M18.56 5.44l.94 2.06.94-2.06 2.06-.94-2.06-.94-.94-2.06-.94 2.06-2.06.94zm-11 1L8.5 8.5l.94-2.06 2.06-.94-2.06-.94L8.5 2.5l-.94 2.06-2.06.94zm10 10l.94 2.06.94-2.06 2.06-.94-2.06-.94-.94-2.06-.94 2.06-2.06.94z\"/><path d=\"M17.41 7.96l-1.37-1.37c-.4-.4-.92-.59-1.43-.59-.52 0-1.04.2-1.43.59L10.3 9.45l-7.72 7.72c-.78.78-.78 2.05 0 2.83L4 21.41c.39.39.9.59 1.41.59.51 0 1.02-.2 1.41-.59l7.78-7.78 2.81-2.81c.8-.78.8-2.07 0-2.86zM5.41 20L4 18.59l7.72-7.72 1.47 1.35L5.41 20z\"/>\n",
              "  </svg>\n",
              "      </button>\n",
              "      \n",
              "  <style>\n",
              "    .colab-df-container {\n",
              "      display:flex;\n",
              "      flex-wrap:wrap;\n",
              "      gap: 12px;\n",
              "    }\n",
              "\n",
              "    .colab-df-convert {\n",
              "      background-color: #E8F0FE;\n",
              "      border: none;\n",
              "      border-radius: 50%;\n",
              "      cursor: pointer;\n",
              "      display: none;\n",
              "      fill: #1967D2;\n",
              "      height: 32px;\n",
              "      padding: 0 0 0 0;\n",
              "      width: 32px;\n",
              "    }\n",
              "\n",
              "    .colab-df-convert:hover {\n",
              "      background-color: #E2EBFA;\n",
              "      box-shadow: 0px 1px 2px rgba(60, 64, 67, 0.3), 0px 1px 3px 1px rgba(60, 64, 67, 0.15);\n",
              "      fill: #174EA6;\n",
              "    }\n",
              "\n",
              "    [theme=dark] .colab-df-convert {\n",
              "      background-color: #3B4455;\n",
              "      fill: #D2E3FC;\n",
              "    }\n",
              "\n",
              "    [theme=dark] .colab-df-convert:hover {\n",
              "      background-color: #434B5C;\n",
              "      box-shadow: 0px 1px 3px 1px rgba(0, 0, 0, 0.15);\n",
              "      filter: drop-shadow(0px 1px 2px rgba(0, 0, 0, 0.3));\n",
              "      fill: #FFFFFF;\n",
              "    }\n",
              "  </style>\n",
              "\n",
              "      <script>\n",
              "        const buttonEl =\n",
              "          document.querySelector('#df-966a054c-e12e-4da5-8bf9-89d4db317b9a button.colab-df-convert');\n",
              "        buttonEl.style.display =\n",
              "          google.colab.kernel.accessAllowed ? 'block' : 'none';\n",
              "\n",
              "        async function convertToInteractive(key) {\n",
              "          const element = document.querySelector('#df-966a054c-e12e-4da5-8bf9-89d4db317b9a');\n",
              "          const dataTable =\n",
              "            await google.colab.kernel.invokeFunction('convertToInteractive',\n",
              "                                                     [key], {});\n",
              "          if (!dataTable) return;\n",
              "\n",
              "          const docLinkHtml = 'Like what you see? Visit the ' +\n",
              "            '<a target=\"_blank\" href=https://colab.research.google.com/notebooks/data_table.ipynb>data table notebook</a>'\n",
              "            + ' to learn more about interactive tables.';\n",
              "          element.innerHTML = '';\n",
              "          dataTable['output_type'] = 'display_data';\n",
              "          await google.colab.output.renderOutput(dataTable, element);\n",
              "          const docLink = document.createElement('div');\n",
              "          docLink.innerHTML = docLinkHtml;\n",
              "          element.appendChild(docLink);\n",
              "        }\n",
              "      </script>\n",
              "    </div>\n",
              "  </div>\n",
              "  "
            ]
          },
          "metadata": {},
          "execution_count": 139
        }
      ]
    },
    {
      "cell_type": "code",
      "source": [
        "# reduced model using main effect and two-way interactions \n",
        "# predicted response using skleran LinearRegression fit\n",
        "\n",
        "X=xxpd[['a', 'b', 'c','d','ab', 'ac', 'bc','ad','bd','cd']]\n",
        "Y=data[['result']]\n",
        "regr=LinearRegression()\n",
        "regr.fit(X,Y)\n",
        "Yhat=regr.predict(X)\n",
        "Yhat"
      ],
      "metadata": {
        "colab": {
          "base_uri": "https://localhost:8080/"
        },
        "id": "pYHLOtQHMJxz",
        "outputId": "44c8ee93-614c-4037-f004-40a2205c9123"
      },
      "execution_count": 140,
      "outputs": [
        {
          "output_type": "execute_result",
          "data": {
            "text/plain": [
              "array([[ 8.2573125],\n",
              "       [13.4478125],\n",
              "       [10.2538125],\n",
              "       [19.1165625],\n",
              "       [ 8.6496875],\n",
              "       [ 5.8246875],\n",
              "       [10.8381875],\n",
              "       [11.6854375],\n",
              "       [10.3426875],\n",
              "       [15.3371875],\n",
              "       [12.2376875],\n",
              "       [21.2964375],\n",
              "       [10.5813125],\n",
              "       [ 7.5603125],\n",
              "       [12.6683125],\n",
              "       [13.7115625],\n",
              "       [ 8.2573125],\n",
              "       [13.4478125],\n",
              "       [10.2538125],\n",
              "       [19.1165625],\n",
              "       [ 8.6496875],\n",
              "       [ 5.8246875],\n",
              "       [10.8381875],\n",
              "       [11.6854375],\n",
              "       [10.3426875],\n",
              "       [15.3371875],\n",
              "       [12.2376875],\n",
              "       [21.2964375],\n",
              "       [10.5813125],\n",
              "       [ 7.5603125],\n",
              "       [12.6683125],\n",
              "       [13.7115625]])"
            ]
          },
          "metadata": {},
          "execution_count": 140
        }
      ]
    },
    {
      "cell_type": "markdown",
      "source": [
        "# Ex 13.19 (a)"
      ],
      "metadata": {
        "id": "x62L0mSqNaYH"
      }
    },
    {
      "cell_type": "code",
      "source": [
        "# use statsmodels for OLS fitting and t statistics\n",
        "# in this case, X is xxpd with the first column I\n",
        "X=xxpd[['I','a', 'b', 'c','d','ab', 'ac', 'bc','ad','bd','cd']]\n",
        "model = sm.OLS(Y, X)\n",
        "res=model.fit()\n",
        "print(res.summary())"
      ],
      "metadata": {
        "id": "ezlpwxqr_Gbo",
        "colab": {
          "base_uri": "https://localhost:8080/"
        },
        "outputId": "34639a14-3239-479d-bbca-031784313e09"
      },
      "execution_count": 141,
      "outputs": [
        {
          "output_type": "stream",
          "name": "stdout",
          "text": [
            "                            OLS Regression Results                            \n",
            "==============================================================================\n",
            "Dep. Variable:                 result   R-squared:                       0.860\n",
            "Model:                            OLS   Adj. R-squared:                  0.793\n",
            "Method:                 Least Squares   F-statistic:                     12.90\n",
            "Date:                Thu, 13 Oct 2022   Prob (F-statistic):           7.35e-07\n",
            "Time:                        23:00:31   Log-Likelihood:                -60.089\n",
            "No. Observations:                  32   AIC:                             142.2\n",
            "Df Residuals:                      21   BIC:                             158.3\n",
            "Df Model:                          10                                         \n",
            "Covariance Type:            nonrobust                                         \n",
            "==============================================================================\n",
            "                 coef    std err          t      P>|t|      [0.025      0.975]\n",
            "------------------------------------------------------------------------------\n",
            "I             11.9881      0.345     34.721      0.000      11.270      12.706\n",
            "a              1.5094      0.345      4.372      0.000       0.791       2.227\n",
            "b              1.9879      0.345      5.758      0.000       1.270       2.706\n",
            "c             -1.7981      0.345     -5.208      0.000      -2.516      -1.080\n",
            "d              0.0480      0.345      0.139      0.891      -0.670       0.766\n",
            "ab             0.9789      0.345      2.835      0.010       0.261       1.697\n",
            "ac             0.9671      0.345      2.801      0.011       0.249       1.685\n",
            "bc            -2.0039      0.345     -5.804      0.000      -2.722      -1.286\n",
            "ad             0.0236      0.345      0.068      0.946      -0.694       0.742\n",
            "bd            -0.0384      0.345     -0.111      0.912      -0.756       0.680\n",
            "cd             0.0490      0.345      0.142      0.888      -0.669       0.767\n",
            "==============================================================================\n",
            "Omnibus:                      189.515   Durbin-Watson:                   2.906\n",
            "Prob(Omnibus):                  0.000   Jarque-Bera (JB):                4.985\n",
            "Skew:                           0.008   Prob(JB):                       0.0827\n",
            "Kurtosis:                       1.066   Cond. No.                         1.00\n",
            "==============================================================================\n",
            "\n",
            "Notes:\n",
            "[1] Standard Errors assume that the covariance matrix of the errors is correctly specified.\n"
          ]
        }
      ]
    },
    {
      "cell_type": "markdown",
      "source": [
        "Factors a (pouring temperature), b (titanium content), c (heat treatment method), and the two way interaction ab, ac, and bc yield relatively large coefficient magnitudes in the above regression results. Additionally, factors a, b, c, and the two way interactions ab, ac, and bc all yield P-values less than 0.05 indicating that they have a significant impact on results (crack length).\n",
        "\n",
        "Since factor c and the two factor interactions bc and bd have negative coefficients, the production company should wish to maximize these factors. In this scenario, negative coefficients are attractive as they'll contribute to reducing crack length."
      ],
      "metadata": {
        "id": "IYh1uFGoTQ4L"
      }
    },
    {
      "cell_type": "markdown",
      "source": [
        "# Ex 13.19 (b)"
      ],
      "metadata": {
        "id": "2yg74sS7VuIf"
      }
    },
    {
      "cell_type": "code",
      "source": [
        "# two way anova table\n",
        "model = ols('result ~ C(a) + C(b) + C(c) + C(d) + C(a):C(b) + C(a):C(c) + C(a):C(d) + C(b):C(c) + C(b):C(d) + C(c):C(d)', data=data).fit()\n",
        "aov_table = sm.stats.anova_lm(model, typ=2)\n",
        "aov_table"
      ],
      "metadata": {
        "colab": {
          "base_uri": "https://localhost:8080/",
          "height": 394
        },
        "id": "N2mpxYJtVscm",
        "outputId": "64e75afc-14f7-48f9-b977-6985c3c12f34"
      },
      "execution_count": 142,
      "outputs": [
        {
          "output_type": "execute_result",
          "data": {
            "text/plain": [
              "               sum_sq    df          F    PR(>F)\n",
              "C(a)        72.908850   1.0  19.104827  0.000268\n",
              "C(b)       126.460656   1.0  33.137389  0.000010\n",
              "C(c)       103.464113   1.0  27.111440  0.000037\n",
              "C(d)        30.662280   1.0   8.034656  0.009929\n",
              "C(a):C(b)   29.926716   1.0   7.841911  0.010721\n",
              "C(a):C(c)  128.496480   1.0  33.670850  0.000009\n",
              "C(a):C(d)    0.046818   1.0   0.012268  0.912857\n",
              "C(b):C(c)    0.073728   1.0   0.019319  0.890779\n",
              "C(b):C(d)    0.017861   1.0   0.004680  0.946105\n",
              "C(c):C(d)    0.047278   1.0   0.012389  0.912432\n",
              "Residual    80.141311  21.0        NaN       NaN"
            ],
            "text/html": [
              "\n",
              "  <div id=\"df-f54db8e2-11be-49fa-a992-cf14e698b568\">\n",
              "    <div class=\"colab-df-container\">\n",
              "      <div>\n",
              "<style scoped>\n",
              "    .dataframe tbody tr th:only-of-type {\n",
              "        vertical-align: middle;\n",
              "    }\n",
              "\n",
              "    .dataframe tbody tr th {\n",
              "        vertical-align: top;\n",
              "    }\n",
              "\n",
              "    .dataframe thead th {\n",
              "        text-align: right;\n",
              "    }\n",
              "</style>\n",
              "<table border=\"1\" class=\"dataframe\">\n",
              "  <thead>\n",
              "    <tr style=\"text-align: right;\">\n",
              "      <th></th>\n",
              "      <th>sum_sq</th>\n",
              "      <th>df</th>\n",
              "      <th>F</th>\n",
              "      <th>PR(&gt;F)</th>\n",
              "    </tr>\n",
              "  </thead>\n",
              "  <tbody>\n",
              "    <tr>\n",
              "      <th>C(a)</th>\n",
              "      <td>72.908850</td>\n",
              "      <td>1.0</td>\n",
              "      <td>19.104827</td>\n",
              "      <td>0.000268</td>\n",
              "    </tr>\n",
              "    <tr>\n",
              "      <th>C(b)</th>\n",
              "      <td>126.460656</td>\n",
              "      <td>1.0</td>\n",
              "      <td>33.137389</td>\n",
              "      <td>0.000010</td>\n",
              "    </tr>\n",
              "    <tr>\n",
              "      <th>C(c)</th>\n",
              "      <td>103.464113</td>\n",
              "      <td>1.0</td>\n",
              "      <td>27.111440</td>\n",
              "      <td>0.000037</td>\n",
              "    </tr>\n",
              "    <tr>\n",
              "      <th>C(d)</th>\n",
              "      <td>30.662280</td>\n",
              "      <td>1.0</td>\n",
              "      <td>8.034656</td>\n",
              "      <td>0.009929</td>\n",
              "    </tr>\n",
              "    <tr>\n",
              "      <th>C(a):C(b)</th>\n",
              "      <td>29.926716</td>\n",
              "      <td>1.0</td>\n",
              "      <td>7.841911</td>\n",
              "      <td>0.010721</td>\n",
              "    </tr>\n",
              "    <tr>\n",
              "      <th>C(a):C(c)</th>\n",
              "      <td>128.496480</td>\n",
              "      <td>1.0</td>\n",
              "      <td>33.670850</td>\n",
              "      <td>0.000009</td>\n",
              "    </tr>\n",
              "    <tr>\n",
              "      <th>C(a):C(d)</th>\n",
              "      <td>0.046818</td>\n",
              "      <td>1.0</td>\n",
              "      <td>0.012268</td>\n",
              "      <td>0.912857</td>\n",
              "    </tr>\n",
              "    <tr>\n",
              "      <th>C(b):C(c)</th>\n",
              "      <td>0.073728</td>\n",
              "      <td>1.0</td>\n",
              "      <td>0.019319</td>\n",
              "      <td>0.890779</td>\n",
              "    </tr>\n",
              "    <tr>\n",
              "      <th>C(b):C(d)</th>\n",
              "      <td>0.017861</td>\n",
              "      <td>1.0</td>\n",
              "      <td>0.004680</td>\n",
              "      <td>0.946105</td>\n",
              "    </tr>\n",
              "    <tr>\n",
              "      <th>C(c):C(d)</th>\n",
              "      <td>0.047278</td>\n",
              "      <td>1.0</td>\n",
              "      <td>0.012389</td>\n",
              "      <td>0.912432</td>\n",
              "    </tr>\n",
              "    <tr>\n",
              "      <th>Residual</th>\n",
              "      <td>80.141311</td>\n",
              "      <td>21.0</td>\n",
              "      <td>NaN</td>\n",
              "      <td>NaN</td>\n",
              "    </tr>\n",
              "  </tbody>\n",
              "</table>\n",
              "</div>\n",
              "      <button class=\"colab-df-convert\" onclick=\"convertToInteractive('df-f54db8e2-11be-49fa-a992-cf14e698b568')\"\n",
              "              title=\"Convert this dataframe to an interactive table.\"\n",
              "              style=\"display:none;\">\n",
              "        \n",
              "  <svg xmlns=\"http://www.w3.org/2000/svg\" height=\"24px\"viewBox=\"0 0 24 24\"\n",
              "       width=\"24px\">\n",
              "    <path d=\"M0 0h24v24H0V0z\" fill=\"none\"/>\n",
              "    <path d=\"M18.56 5.44l.94 2.06.94-2.06 2.06-.94-2.06-.94-.94-2.06-.94 2.06-2.06.94zm-11 1L8.5 8.5l.94-2.06 2.06-.94-2.06-.94L8.5 2.5l-.94 2.06-2.06.94zm10 10l.94 2.06.94-2.06 2.06-.94-2.06-.94-.94-2.06-.94 2.06-2.06.94z\"/><path d=\"M17.41 7.96l-1.37-1.37c-.4-.4-.92-.59-1.43-.59-.52 0-1.04.2-1.43.59L10.3 9.45l-7.72 7.72c-.78.78-.78 2.05 0 2.83L4 21.41c.39.39.9.59 1.41.59.51 0 1.02-.2 1.41-.59l7.78-7.78 2.81-2.81c.8-.78.8-2.07 0-2.86zM5.41 20L4 18.59l7.72-7.72 1.47 1.35L5.41 20z\"/>\n",
              "  </svg>\n",
              "      </button>\n",
              "      \n",
              "  <style>\n",
              "    .colab-df-container {\n",
              "      display:flex;\n",
              "      flex-wrap:wrap;\n",
              "      gap: 12px;\n",
              "    }\n",
              "\n",
              "    .colab-df-convert {\n",
              "      background-color: #E8F0FE;\n",
              "      border: none;\n",
              "      border-radius: 50%;\n",
              "      cursor: pointer;\n",
              "      display: none;\n",
              "      fill: #1967D2;\n",
              "      height: 32px;\n",
              "      padding: 0 0 0 0;\n",
              "      width: 32px;\n",
              "    }\n",
              "\n",
              "    .colab-df-convert:hover {\n",
              "      background-color: #E2EBFA;\n",
              "      box-shadow: 0px 1px 2px rgba(60, 64, 67, 0.3), 0px 1px 3px 1px rgba(60, 64, 67, 0.15);\n",
              "      fill: #174EA6;\n",
              "    }\n",
              "\n",
              "    [theme=dark] .colab-df-convert {\n",
              "      background-color: #3B4455;\n",
              "      fill: #D2E3FC;\n",
              "    }\n",
              "\n",
              "    [theme=dark] .colab-df-convert:hover {\n",
              "      background-color: #434B5C;\n",
              "      box-shadow: 0px 1px 3px 1px rgba(0, 0, 0, 0.15);\n",
              "      filter: drop-shadow(0px 1px 2px rgba(0, 0, 0, 0.3));\n",
              "      fill: #FFFFFF;\n",
              "    }\n",
              "  </style>\n",
              "\n",
              "      <script>\n",
              "        const buttonEl =\n",
              "          document.querySelector('#df-f54db8e2-11be-49fa-a992-cf14e698b568 button.colab-df-convert');\n",
              "        buttonEl.style.display =\n",
              "          google.colab.kernel.accessAllowed ? 'block' : 'none';\n",
              "\n",
              "        async function convertToInteractive(key) {\n",
              "          const element = document.querySelector('#df-f54db8e2-11be-49fa-a992-cf14e698b568');\n",
              "          const dataTable =\n",
              "            await google.colab.kernel.invokeFunction('convertToInteractive',\n",
              "                                                     [key], {});\n",
              "          if (!dataTable) return;\n",
              "\n",
              "          const docLinkHtml = 'Like what you see? Visit the ' +\n",
              "            '<a target=\"_blank\" href=https://colab.research.google.com/notebooks/data_table.ipynb>data table notebook</a>'\n",
              "            + ' to learn more about interactive tables.';\n",
              "          element.innerHTML = '';\n",
              "          dataTable['output_type'] = 'display_data';\n",
              "          await google.colab.output.renderOutput(dataTable, element);\n",
              "          const docLink = document.createElement('div');\n",
              "          docLink.innerHTML = docLinkHtml;\n",
              "          element.appendChild(docLink);\n",
              "        }\n",
              "      </script>\n",
              "    </div>\n",
              "  </div>\n",
              "  "
            ]
          },
          "metadata": {},
          "execution_count": 142
        }
      ]
    },
    {
      "cell_type": "markdown",
      "source": [
        "Looking at the above anova table, factors a, b, c, and d as well as the two way interactions ab and ac yield P-values less than 0.05 suggesting that they directly affect cracking.\n",
        "\n",
        "Only the two way interactions ad, bc, bd, and cd yield P-values greater than 0.05 meaning that their effect on resulting crack length is inconclusive."
      ],
      "metadata": {
        "id": "CUxdLU1gWoK5"
      }
    },
    {
      "cell_type": "markdown",
      "source": [
        "# Ex 13.19 (c)"
      ],
      "metadata": {
        "id": "6DHhw7EzWp1K"
      }
    },
    {
      "cell_type": "code",
      "source": [
        "# reduced model 2 with factors a, b, c, and d as well as the two way interactions ab and ac\n",
        "X2=xxpd[['I','a', 'b', 'c','d','ab', 'ac']]\n",
        "Y2=data[['result']]\n",
        "Y2=Y2.to_numpy()\n",
        "model2 = sm.OLS(Y2, X2)\n",
        "res2=model2.fit()\n",
        "print(res2.summary())"
      ],
      "metadata": {
        "colab": {
          "base_uri": "https://localhost:8080/"
        },
        "id": "mx-tOLPBWtxy",
        "outputId": "468c395c-d695-4af2-cb88-eab3d08f7c00"
      },
      "execution_count": 143,
      "outputs": [
        {
          "output_type": "stream",
          "name": "stdout",
          "text": [
            "                            OLS Regression Results                            \n",
            "==============================================================================\n",
            "Dep. Variable:                      y   R-squared:                       0.635\n",
            "Model:                            OLS   Adj. R-squared:                  0.548\n",
            "Method:                 Least Squares   F-statistic:                     7.255\n",
            "Date:                Thu, 13 Oct 2022   Prob (F-statistic):           0.000144\n",
            "Time:                        23:00:31   Log-Likelihood:                -75.412\n",
            "No. Observations:                  32   AIC:                             164.8\n",
            "Df Residuals:                      25   BIC:                             175.1\n",
            "Df Model:                           6                                         \n",
            "Covariance Type:            nonrobust                                         \n",
            "==============================================================================\n",
            "                 coef    std err          t      P>|t|      [0.025      0.975]\n",
            "------------------------------------------------------------------------------\n",
            "I             11.9881      0.511     23.468      0.000      10.936      13.040\n",
            "a              1.5094      0.511      2.955      0.007       0.457       2.561\n",
            "b              1.9879      0.511      3.892      0.001       0.936       3.040\n",
            "c             -1.7981      0.511     -3.520      0.002      -2.850      -0.746\n",
            "d              0.0480      0.511      0.094      0.926      -1.004       1.100\n",
            "ab             0.9789      0.511      1.916      0.067      -0.073       2.031\n",
            "ac             0.9671      0.511      1.893      0.070      -0.085       2.019\n",
            "==============================================================================\n",
            "Omnibus:                        3.255   Durbin-Watson:                   2.961\n",
            "Prob(Omnibus):                  0.196   Jarque-Bera (JB):                1.455\n",
            "Skew:                          -0.002   Prob(JB):                        0.483\n",
            "Kurtosis:                       1.955   Cond. No.                         1.00\n",
            "==============================================================================\n",
            "\n",
            "Notes:\n",
            "[1] Standard Errors assume that the covariance matrix of the errors is correctly specified.\n"
          ]
        }
      ]
    },
    {
      "cell_type": "markdown",
      "source": [
        "# Ex 13.19 (d)"
      ],
      "metadata": {
        "id": "dzl9UxOkmDr5"
      }
    },
    {
      "cell_type": "code",
      "source": [
        "# reduced model 2 residuals\n",
        "res2.resid"
      ],
      "metadata": {
        "id": "Kmqwhkbxj3W3",
        "colab": {
          "base_uri": "https://localhost:8080/"
        },
        "outputId": "012e6fac-747a-4726-b111-df73d71020f1"
      },
      "execution_count": 144,
      "outputs": [
        {
          "output_type": "execute_result",
          "data": {
            "text/plain": [
              "0    -3.28800\n",
              "1     3.29725\n",
              "2    -0.63575\n",
              "3     0.04925\n",
              "4     3.77025\n",
              "5    -3.34950\n",
              "6     0.58950\n",
              "7    -0.28350\n",
              "8    -3.72175\n",
              "9     3.49950\n",
              "10   -0.35250\n",
              "11    0.64250\n",
              "12    3.25550\n",
              "13   -3.55025\n",
              "14    0.46175\n",
              "15   -0.02825\n",
              "16   -3.94900\n",
              "17    3.80925\n",
              "18   -0.18175\n",
              "19    0.59125\n",
              "20    3.51825\n",
              "21   -3.61950\n",
              "22    0.48250\n",
              "23   -0.80050\n",
              "24   -3.33175\n",
              "25    3.68450\n",
              "26   -0.57050\n",
              "27    0.45750\n",
              "28    3.74650\n",
              "29   -3.77125\n",
              "30    0.20675\n",
              "31   -0.62825\n",
              "dtype: float64"
            ]
          },
          "metadata": {},
          "execution_count": 144
        }
      ]
    },
    {
      "cell_type": "code",
      "source": [
        "# Residual Analysis of the reduced model 2\n",
        "# normal check\n",
        "\n",
        "fig = plt.figure(figsize= (10, 10))\n",
        "ax = fig.add_subplot(111)\n",
        "\n",
        "normality_plot, stat = stats.probplot(res2.resid, plot= plt, rvalue= True)\n",
        "ax.set_title(\"Probability plot of model residuals\", fontsize= 20)\n",
        "ax.set\n",
        "\n",
        "plt.show()"
      ],
      "metadata": {
        "colab": {
          "base_uri": "https://localhost:8080/",
          "height": 627
        },
        "id": "lcS6jOSqvmIs",
        "outputId": "9c5439e1-caa0-4786-d398-dc438e852c2a"
      },
      "execution_count": 145,
      "outputs": [
        {
          "output_type": "display_data",
          "data": {
            "text/plain": [
              "<Figure size 720x720 with 1 Axes>"
            ],
            "image/png": "[encoded data removed]"
          },
          "metadata": {
            "needs_background": "light"
          }
        }
      ]
    },
    {
      "cell_type": "markdown",
      "source": [
        "The above probability plot shows that the residuals for reduced model 2 do not follow a normal distribution. As a result, any inferences made with confidence that assume normality cannot be made with certainty. "
      ],
      "metadata": {
        "id": "udUROFzMx7wI"
      }
    },
    {
      "cell_type": "markdown",
      "source": [
        "# Ex 13.19 (e)"
      ],
      "metadata": {
        "id": "U6j5tVyHx73o"
      }
    },
    {
      "cell_type": "code",
      "source": [
        "# Box plots by factor A\n",
        "# If the IRQ=75% quartitle - 25% quartile are very different, then question the constant variance assumption\n",
        "# If the F test p value is very small, we reject H0 and can use this box plot to identify the best factor level\n",
        "\n",
        "fig = plt.figure(figsize= (10, 10))\n",
        "ax = fig.add_subplot(111)\n",
        "\n",
        "ax.set_title(\"Box Plot of Cracking by Factor A \", fontsize= 20)\n",
        "ax.set\n",
        "\n",
        "boxdata= [data['result'][data['a'] == -1],\n",
        "             data['result'][data['a'] == 1]]\n",
        "\n",
        "\n",
        "ax.boxplot(boxdata,\n",
        "           labels= ['A = low', 'A = high'],\n",
        "           showmeans= True)\n",
        "\n",
        "plt.xlabel(\"A - Pouring Temperature\")\n",
        "plt.ylabel(\"Cracking Result\")\n",
        "\n",
        "plt.show()"
      ],
      "metadata": {
        "colab": {
          "base_uri": "https://localhost:8080/",
          "height": 627
        },
        "id": "7aNGnfV5xdpS",
        "outputId": "fdd4f09c-ba71-434b-b1ac-993c68177a2a"
      },
      "execution_count": 146,
      "outputs": [
        {
          "output_type": "display_data",
          "data": {
            "text/plain": [
              "<Figure size 720x720 with 1 Axes>"
            ],
            "image/png": "[encoded data removed]"
          },
          "metadata": {
            "needs_background": "light"
          }
        }
      ]
    },
    {
      "cell_type": "markdown",
      "source": [
        "The box plot above shows that higher pouring temperatures result in greater variability in crack length as well as longer crack lengths on average."
      ],
      "metadata": {
        "id": "6sBMZ5smzcbO"
      }
    },
    {
      "cell_type": "code",
      "source": [
        "# Box plots by factor B\n",
        "# If the IRQ=75% quartitle - 25% quartile are very different, then question the constant variance assumption\n",
        "# If the F test p value is very small, we reject H0 and can use this box plot to identify the best factor level\n",
        "\n",
        "fig = plt.figure(figsize= (10, 10))\n",
        "ax = fig.add_subplot(111)\n",
        "\n",
        "ax.set_title(\"Box Plot of Cracking by Factor B \", fontsize= 20)\n",
        "ax.set\n",
        "\n",
        "boxdata= [data['result'][data['b'] == -1],\n",
        "             data['result'][data['b'] == 1]]\n",
        "\n",
        "\n",
        "ax.boxplot(boxdata,\n",
        "           labels= ['B = low', 'B = high'],\n",
        "           showmeans= True)\n",
        "\n",
        "plt.xlabel(\"B - Titanium Content\")\n",
        "plt.ylabel(\"Cracking Result\")\n",
        "\n",
        "plt.show()"
      ],
      "metadata": {
        "colab": {
          "base_uri": "https://localhost:8080/",
          "height": 627
        },
        "id": "Z3wJYmbTyLph",
        "outputId": "b03e422e-92fb-4d92-c725-51304bc62418"
      },
      "execution_count": 147,
      "outputs": [
        {
          "output_type": "display_data",
          "data": {
            "text/plain": [
              "<Figure size 720x720 with 1 Axes>"
            ],
            "image/png": "[encoded data removed]"
          },
          "metadata": {
            "needs_background": "light"
          }
        }
      ]
    },
    {
      "cell_type": "markdown",
      "source": [
        "The box plot above shows that higher levels of titanium content result in longer average crack lengths. However, lower levels of titanium content yield greater variability in crack length."
      ],
      "metadata": {
        "id": "xihY-XBxzoph"
      }
    },
    {
      "cell_type": "code",
      "source": [
        "# Box plots by factor C\n",
        "# If the IRQ=75% quartitle - 25% quartile are very different, then question the constant variance assumption\n",
        "# If the F test p value is very small, we reject H0 and can use this box plot to identify the best factor level\n",
        "\n",
        "fig = plt.figure(figsize= (10, 10))\n",
        "ax = fig.add_subplot(111)\n",
        "\n",
        "ax.set_title(\"Box Plot of Cracking by Factor C \", fontsize= 20)\n",
        "ax.set\n",
        "\n",
        "boxdata= [data['result'][data['c'] == -1],\n",
        "             data['result'][data['c'] == 1]]\n",
        "\n",
        "\n",
        "ax.boxplot(boxdata,\n",
        "           labels= ['C = low', 'C = high'],\n",
        "           showmeans= True)\n",
        "\n",
        "plt.xlabel(\"C - Heat Treatment Method\")\n",
        "plt.ylabel(\"Cracking Result\")\n",
        "\n",
        "plt.show()"
      ],
      "metadata": {
        "colab": {
          "base_uri": "https://localhost:8080/",
          "height": 627
        },
        "id": "3RD5DztAyLrn",
        "outputId": "6990b423-f590-4e15-f111-6aed1b4ab4d4"
      },
      "execution_count": 148,
      "outputs": [
        {
          "output_type": "display_data",
          "data": {
            "text/plain": [
              "<Figure size 720x720 with 1 Axes>"
            ],
            "image/png": "[encoded data removed]"
          },
          "metadata": {
            "needs_background": "light"
          }
        }
      ]
    },
    {
      "cell_type": "markdown",
      "source": [
        "The box plot above shows that the heat treatment method categorized as low results in greater variability and longer average crack lengths. "
      ],
      "metadata": {
        "id": "js95--vq12KC"
      }
    },
    {
      "cell_type": "code",
      "source": [
        "# Box plots by factor D\n",
        "# If the IRQ=75% quartitle - 25% quartile are very different, then question the constant variance assumption\n",
        "# If the F test p value is very small, we reject H0 and can use this box plot to identify the best factor level\n",
        "\n",
        "fig = plt.figure(figsize= (10, 10))\n",
        "ax = fig.add_subplot(111)\n",
        "\n",
        "ax.set_title(\"Box Plot of Cracking by Factor D \", fontsize= 20)\n",
        "ax.set\n",
        "\n",
        "boxdata= [data['result'][data['d'] == -1],\n",
        "             data['result'][data['d'] == 1]]\n",
        "\n",
        "\n",
        "ax.boxplot(boxdata,\n",
        "           labels= ['D = low', 'D = high'],\n",
        "           showmeans= True)\n",
        "\n",
        "plt.xlabel(\"D - Amount of Grain Refiner Used\")\n",
        "plt.ylabel(\"Cracking Result\")\n",
        "\n",
        "plt.show()"
      ],
      "metadata": {
        "colab": {
          "base_uri": "https://localhost:8080/",
          "height": 627
        },
        "id": "R1drEtJpyL5o",
        "outputId": "c9d3a311-64af-4d68-a7a3-5148e76a53e5"
      },
      "execution_count": 149,
      "outputs": [
        {
          "output_type": "display_data",
          "data": {
            "text/plain": [
              "<Figure size 720x720 with 1 Axes>"
            ],
            "image/png": "[encoded data removed]"
          },
          "metadata": {
            "needs_background": "light"
          }
        }
      ]
    },
    {
      "cell_type": "markdown",
      "source": [
        "The box plot above shows that using higher amounts of grain refiner results in greater crack length variability and longer crack lengths on average."
      ],
      "metadata": {
        "id": "-lTLYk_g1-8J"
      }
    },
    {
      "cell_type": "markdown",
      "source": [
        "# Ex 13.19 (f)"
      ],
      "metadata": {
        "id": "jbdXleIb5mWa"
      }
    },
    {
      "cell_type": "code",
      "source": [
        "# 3 D plot of model factors a and b\n",
        "# Z axis is the predicted observation Yhat\n",
        "\n",
        "fig, ax = plt.subplots(subplot_kw={\"projection\": \"3d\"})\n",
        "\n",
        "x1=data['a']\n",
        "x2=data['b']\n",
        "x1, x2 = np.meshgrid(x1, x2)\n",
        "\n",
        "# Plot the surface.\n",
        "surf = ax.plot_surface(x1, x2, Yhat, cmap=cm.coolwarm,\n",
        "                       linewidth=0, antialiased=False)\n",
        "\n",
        "# Add a color bar which maps values to colors.\n",
        "fig.colorbar(surf, shrink=0.5, aspect=5)\n",
        "\n",
        "plt.show()"
      ],
      "metadata": {
        "colab": {
          "base_uri": "https://localhost:8080/",
          "height": 248
        },
        "id": "gl2Api2cJ3t2",
        "outputId": "b52e94ae-c479-44f6-8e6a-41597f5f6cc6"
      },
      "execution_count": 150,
      "outputs": [
        {
          "output_type": "display_data",
          "data": {
            "text/plain": [
              "<Figure size 432x288 with 2 Axes>"
            ],
            "image/png": "[encoded data removed]"
          },
          "metadata": {
            "needs_background": "light"
          }
        }
      ]
    },
    {
      "cell_type": "code",
      "source": [
        "# 3 D plot of model factors a and c\n",
        "# Z axis is the predicted observation Yhat\n",
        "\n",
        "fig, ax = plt.subplots(subplot_kw={\"projection\": \"3d\"})\n",
        "\n",
        "x1=data['a']\n",
        "x2=data['c']\n",
        "x1, x2 = np.meshgrid(x1, x2)\n",
        "\n",
        "# Plot the surface.\n",
        "surf = ax.plot_surface(x1, x2, Yhat, cmap=cm.coolwarm,\n",
        "                       linewidth=0, antialiased=False)\n",
        "\n",
        "# Add a color bar which maps values to colors.\n",
        "fig.colorbar(surf, shrink=0.5, aspect=5)\n",
        "\n",
        "plt.show()"
      ],
      "metadata": {
        "colab": {
          "base_uri": "https://localhost:8080/",
          "height": 248
        },
        "id": "S-g2KA2AKEgs",
        "outputId": "b797ed0f-f90f-419c-dd1e-a792508f10ea"
      },
      "execution_count": 151,
      "outputs": [
        {
          "output_type": "display_data",
          "data": {
            "text/plain": [
              "<Figure size 432x288 with 2 Axes>"
            ],
            "image/png": "[encoded data removed]"
          },
          "metadata": {
            "needs_background": "light"
          }
        }
      ]
    },
    {
      "cell_type": "code",
      "source": [
        "# 3 D plot of model factors a and d\n",
        "# Z axis is the predicted observation Yhat\n",
        "\n",
        "fig, ax = plt.subplots(subplot_kw={\"projection\": \"3d\"})\n",
        "\n",
        "x1=data['a']\n",
        "x2=data['d']\n",
        "x1, x2 = np.meshgrid(x1, x2)\n",
        "\n",
        "# Plot the surface.\n",
        "surf = ax.plot_surface(x1, x2, Yhat, cmap=cm.coolwarm,\n",
        "                       linewidth=0, antialiased=False)\n",
        "\n",
        "# Add a color bar which maps values to colors.\n",
        "fig.colorbar(surf, shrink=0.5, aspect=5)\n",
        "\n",
        "plt.show()"
      ],
      "metadata": {
        "colab": {
          "base_uri": "https://localhost:8080/",
          "height": 248
        },
        "id": "bPpCu_fRHXCB",
        "outputId": "7e9f97f1-e2ad-4f45-e6ad-0f9fc8b6f63e"
      },
      "execution_count": 152,
      "outputs": [
        {
          "output_type": "display_data",
          "data": {
            "text/plain": [
              "<Figure size 432x288 with 2 Axes>"
            ],
            "image/png": "[encoded data removed]"
          },
          "metadata": {
            "needs_background": "light"
          }
        }
      ]
    },
    {
      "cell_type": "code",
      "source": [
        "# 3 D plot of model factors b and c\n",
        "# Z axis is the predicted observation Yhat\n",
        "\n",
        "fig, ax = plt.subplots(subplot_kw={\"projection\": \"3d\"})\n",
        "\n",
        "x1=data['b']\n",
        "x2=data['c']\n",
        "x1, x2 = np.meshgrid(x1, x2)\n",
        "\n",
        "# Plot the surface.\n",
        "surf = ax.plot_surface(x1, x2, Yhat, cmap=cm.coolwarm,\n",
        "                       linewidth=0, antialiased=False)\n",
        "\n",
        "# Add a color bar which maps values to colors.\n",
        "fig.colorbar(surf, shrink=0.5, aspect=5)\n",
        "\n",
        "plt.show()"
      ],
      "metadata": {
        "colab": {
          "base_uri": "https://localhost:8080/",
          "height": 248
        },
        "id": "KME-2wnNKbbD",
        "outputId": "a65a7cf7-5d39-4bce-bd8a-63a7cd7d7015"
      },
      "execution_count": 153,
      "outputs": [
        {
          "output_type": "display_data",
          "data": {
            "text/plain": [
              "<Figure size 432x288 with 2 Axes>"
            ],
            "image/png": "[encoded data removed]"
          },
          "metadata": {
            "needs_background": "light"
          }
        }
      ]
    },
    {
      "cell_type": "code",
      "source": [
        "# 3 D plot of model factors b and d\n",
        "# Z axis is the predicted observation Yhat\n",
        "\n",
        "fig, ax = plt.subplots(subplot_kw={\"projection\": \"3d\"})\n",
        "\n",
        "x1=data['b']\n",
        "x2=data['d']\n",
        "x1, x2 = np.meshgrid(x1, x2)\n",
        "\n",
        "# Plot the surface.\n",
        "surf = ax.plot_surface(x1, x2, Yhat, cmap=cm.coolwarm,\n",
        "                       linewidth=0, antialiased=False)\n",
        "\n",
        "# Add a color bar which maps values to colors.\n",
        "fig.colorbar(surf, shrink=0.5, aspect=5)\n",
        "\n",
        "plt.show()"
      ],
      "metadata": {
        "colab": {
          "base_uri": "https://localhost:8080/",
          "height": 248
        },
        "id": "UkEzTF2_KmwZ",
        "outputId": "337d895c-12bf-4a0e-aee7-4388f4546061"
      },
      "execution_count": 154,
      "outputs": [
        {
          "output_type": "display_data",
          "data": {
            "text/plain": [
              "<Figure size 432x288 with 2 Axes>"
            ],
            "image/png": "[encoded data removed]"
          },
          "metadata": {
            "needs_background": "light"
          }
        }
      ]
    },
    {
      "cell_type": "code",
      "source": [
        "# 3 D plot of model factors c and d\n",
        "# Z axis is the predicted observation Yhat\n",
        "\n",
        "fig, ax = plt.subplots(subplot_kw={\"projection\": \"3d\"})\n",
        "\n",
        "x1=data['c']\n",
        "x2=data['d']\n",
        "x1, x2 = np.meshgrid(x1, x2)\n",
        "\n",
        "# Plot the surface.\n",
        "surf = ax.plot_surface(x1, x2, Yhat, cmap=cm.coolwarm,\n",
        "                       linewidth=0, antialiased=False)\n",
        "\n",
        "# Add a color bar which maps values to colors.\n",
        "fig.colorbar(surf, shrink=0.5, aspect=5)\n",
        "\n",
        "plt.show()"
      ],
      "metadata": {
        "colab": {
          "base_uri": "https://localhost:8080/",
          "height": 248
        },
        "id": "OlVoMvilKbda",
        "outputId": "282b521c-15df-4b94-9515-af50e56f2557"
      },
      "execution_count": 155,
      "outputs": [
        {
          "output_type": "display_data",
          "data": {
            "text/plain": [
              "<Figure size 432x288 with 2 Axes>"
            ],
            "image/png": "[encoded data removed]"
          },
          "metadata": {
            "needs_background": "light"
          }
        }
      ]
    },
    {
      "cell_type": "code",
      "source": [
        "# 3 D plot of model factor a\n",
        "# Z axis is the predicted observation Yhat\n",
        "\n",
        "fig, ax = plt.subplots(subplot_kw={\"projection\": \"3d\"})\n",
        "\n",
        "x1=data['a']\n",
        "x2=data['a']\n",
        "x1, x2 = np.meshgrid(x1, x2)\n",
        "\n",
        "# Plot the surface.\n",
        "surf = ax.plot_surface(x1, x2, Yhat, cmap=cm.coolwarm,\n",
        "                       linewidth=0, antialiased=False)\n",
        "\n",
        "# Add a color bar which maps values to colors.\n",
        "fig.colorbar(surf, shrink=0.5, aspect=5)\n",
        "\n",
        "plt.show()"
      ],
      "metadata": {
        "colab": {
          "base_uri": "https://localhost:8080/",
          "height": 248
        },
        "id": "hEtuN9HHN9ES",
        "outputId": "56be60f2-20d0-4fb3-f6ac-aa0331eef8fe"
      },
      "execution_count": 156,
      "outputs": [
        {
          "output_type": "display_data",
          "data": {
            "text/plain": [
              "<Figure size 432x288 with 2 Axes>"
            ],
            "image/png": "[encoded data removed]"
          },
          "metadata": {
            "needs_background": "light"
          }
        }
      ]
    },
    {
      "cell_type": "code",
      "source": [
        "# 3 D plot of model factor b\n",
        "# Z axis is the predicted observation Yhat\n",
        "\n",
        "fig, ax = plt.subplots(subplot_kw={\"projection\": \"3d\"})\n",
        "\n",
        "x1=data['b']\n",
        "x2=data['b']\n",
        "x1, x2 = np.meshgrid(x1, x2)\n",
        "\n",
        "# Plot the surface.\n",
        "surf = ax.plot_surface(x1, x2, Yhat, cmap=cm.coolwarm,\n",
        "                       linewidth=0, antialiased=False)\n",
        "\n",
        "# Add a color bar which maps values to colors.\n",
        "fig.colorbar(surf, shrink=0.5, aspect=5)\n",
        "\n",
        "plt.show()"
      ],
      "metadata": {
        "colab": {
          "base_uri": "https://localhost:8080/",
          "height": 248
        },
        "id": "Rj619M1ZN9MJ",
        "outputId": "defa3bca-3c9a-4828-a036-2daf5e6a4b75"
      },
      "execution_count": 157,
      "outputs": [
        {
          "output_type": "display_data",
          "data": {
            "text/plain": [
              "<Figure size 432x288 with 2 Axes>"
            ],
            "image/png": "[encoded data removed]"
          },
          "metadata": {
            "needs_background": "light"
          }
        }
      ]
    },
    {
      "cell_type": "code",
      "source": [
        "# 3 D plot of model factor c\n",
        "# Z axis is the predicted observation Yhat\n",
        "\n",
        "fig, ax = plt.subplots(subplot_kw={\"projection\": \"3d\"})\n",
        "\n",
        "x1=data['c']\n",
        "x2=data['c']\n",
        "x1, x2 = np.meshgrid(x1, x2)\n",
        "\n",
        "# Plot the surface.\n",
        "surf = ax.plot_surface(x1, x2, Yhat, cmap=cm.coolwarm,\n",
        "                       linewidth=0, antialiased=False)\n",
        "\n",
        "# Add a color bar which maps values to colors.\n",
        "fig.colorbar(surf, shrink=0.5, aspect=5)\n",
        "\n",
        "plt.show()"
      ],
      "metadata": {
        "colab": {
          "base_uri": "https://localhost:8080/",
          "height": 248
        },
        "id": "i2kchmvfN9Qo",
        "outputId": "47c2ff9d-d49a-4e93-cc9e-c198c7536dd5"
      },
      "execution_count": 158,
      "outputs": [
        {
          "output_type": "display_data",
          "data": {
            "text/plain": [
              "<Figure size 432x288 with 2 Axes>"
            ],
            "image/png": "[encoded data removed]"
          },
          "metadata": {
            "needs_background": "light"
          }
        }
      ]
    },
    {
      "cell_type": "code",
      "source": [
        "# 3 D plot of model factor d\n",
        "# Z axis is the predicted observation Yhat\n",
        "\n",
        "fig, ax = plt.subplots(subplot_kw={\"projection\": \"3d\"})\n",
        "\n",
        "x1=data['d']\n",
        "x2=data['d']\n",
        "x1, x2 = np.meshgrid(x1, x2)\n",
        "\n",
        "# Plot the surface.\n",
        "surf = ax.plot_surface(x1, x2, Yhat, cmap=cm.coolwarm,\n",
        "                       linewidth=0, antialiased=False)\n",
        "\n",
        "# Add a color bar which maps values to colors.\n",
        "fig.colorbar(surf, shrink=0.5, aspect=5)\n",
        "\n",
        "plt.show()"
      ],
      "metadata": {
        "colab": {
          "base_uri": "https://localhost:8080/",
          "height": 248
        },
        "id": "H9k689C6N9WJ",
        "outputId": "5562ce51-2084-4acf-e5b6-a9e9336c8fbc"
      },
      "execution_count": 159,
      "outputs": [
        {
          "output_type": "display_data",
          "data": {
            "text/plain": [
              "<Figure size 432x288 with 2 Axes>"
            ],
            "image/png": "[encoded data removed]"
          },
          "metadata": {
            "needs_background": "light"
          }
        }
      ]
    },
    {
      "cell_type": "markdown",
      "source": [
        "As shown above in contour plots, larger crack lengths occur when higher levels of factors a, b, and d are used and when lower levels of factor c are used.\n",
        "\n",
        "I recommend using lower levels of factors a (pouring temperature), b (titanium content), and d(amount of grain refiner used) as well as higher levels of factor c(heat treatment method). By following these recommendations, the production company can expect to reduce process variability and crack length. "
      ],
      "metadata": {
        "id": "T51175qr2MtJ"
      }
    },
    {
      "cell_type": "markdown",
      "source": [
        "# Ex 13.20\n",
        "One of the variables in the experiment described in Exercise 13.19,\n",
        "heat treatment method (C), is a categorical variable.\n",
        "Assume that the remaining factors are continuous.\n",
        "\n",
        "(a) Write two regression models for predicting crack\n",
        "length, one for each level of the heat treatment\n",
        "method variable. What differences, if any, do you\n",
        "notice in these two equations?\n",
        "\n",
        "(b) Generate appropriate response surface contour\n",
        "plots for the two regression models in part (a).\n",
        "\n",
        "(c) What set of conditions would you recommend\n",
        "for the factors A, B, and D if you use heat treatment method C = +?\n",
        "\n",
        "(d) Repeat part (c), assuming that you wish to use\n",
        "heat treatment method C = −."
      ],
      "metadata": {
        "id": "NxDzq0Jp_i0V"
      }
    },
    {
      "cell_type": "code",
      "source": [
        "# creating dataframe containing values where c is equal to 1\n",
        "C_plus = xxpd[['I', 'a', 'b', 'c','ab', 'ac', 'bc', 'abc','d','ad','bd','abd','cd','acd','bcd','abcd']][xxpd['c'] == 1]\n",
        "C_plus['result'] = data['result'][data['c'] == 1]\n",
        "C_plus.tail()"
      ],
      "metadata": {
        "colab": {
          "base_uri": "https://localhost:8080/",
          "height": 206
        },
        "id": "QSmDb25wT9bY",
        "outputId": "cf2ebd40-3c31-4c7a-c576-0877ad4f7245"
      },
      "execution_count": 160,
      "outputs": [
        {
          "output_type": "execute_result",
          "data": {
            "text/plain": [
              "      I    a    b    c   ab   ac   bc  abc    d   ad   bd  abd   cd  acd  bcd  \\\n",
              "23  1.0  1.0  1.0  1.0 -1.0  1.0  1.0 -1.0  1.0 -1.0 -1.0  1.0 -1.0 -1.0 -1.0   \n",
              "28  1.0 -1.0 -1.0  1.0  1.0  1.0 -1.0 -1.0 -1.0 -1.0  1.0  1.0  1.0 -1.0 -1.0   \n",
              "29  1.0  1.0 -1.0  1.0  1.0 -1.0  1.0  1.0 -1.0 -1.0  1.0 -1.0 -1.0  1.0 -1.0   \n",
              "30  1.0 -1.0  1.0  1.0  1.0 -1.0 -1.0 -1.0  1.0  1.0  1.0 -1.0 -1.0 -1.0  1.0   \n",
              "31  1.0  1.0  1.0  1.0  1.0  1.0  1.0  1.0  1.0  1.0  1.0  1.0  1.0  1.0  1.0   \n",
              "\n",
              "    abcd  result  \n",
              "23  -1.0  12.923  \n",
              "28   1.0  12.337  \n",
              "29  -1.0   5.904  \n",
              "30  -1.0  10.935  \n",
              "31   1.0  15.053  "
            ],
            "text/html": [
              "\n",
              "  <div id=\"df-3dc05ac0-5ac5-4521-9cdd-46777d023cfe\">\n",
              "    <div class=\"colab-df-container\">\n",
              "      <div>\n",
              "<style scoped>\n",
              "    .dataframe tbody tr th:only-of-type {\n",
              "        vertical-align: middle;\n",
              "    }\n",
              "\n",
              "    .dataframe tbody tr th {\n",
              "        vertical-align: top;\n",
              "    }\n",
              "\n",
              "    .dataframe thead th {\n",
              "        text-align: right;\n",
              "    }\n",
              "</style>\n",
              "<table border=\"1\" class=\"dataframe\">\n",
              "  <thead>\n",
              "    <tr style=\"text-align: right;\">\n",
              "      <th></th>\n",
              "      <th>I</th>\n",
              "      <th>a</th>\n",
              "      <th>b</th>\n",
              "      <th>c</th>\n",
              "      <th>ab</th>\n",
              "      <th>ac</th>\n",
              "      <th>bc</th>\n",
              "      <th>abc</th>\n",
              "      <th>d</th>\n",
              "      <th>ad</th>\n",
              "      <th>bd</th>\n",
              "      <th>abd</th>\n",
              "      <th>cd</th>\n",
              "      <th>acd</th>\n",
              "      <th>bcd</th>\n",
              "      <th>abcd</th>\n",
              "      <th>result</th>\n",
              "    </tr>\n",
              "  </thead>\n",
              "  <tbody>\n",
              "    <tr>\n",
              "      <th>23</th>\n",
              "      <td>1.0</td>\n",
              "      <td>1.0</td>\n",
              "      <td>1.0</td>\n",
              "      <td>1.0</td>\n",
              "      <td>-1.0</td>\n",
              "      <td>1.0</td>\n",
              "      <td>1.0</td>\n",
              "      <td>-1.0</td>\n",
              "      <td>1.0</td>\n",
              "      <td>-1.0</td>\n",
              "      <td>-1.0</td>\n",
              "      <td>1.0</td>\n",
              "      <td>-1.0</td>\n",
              "      <td>-1.0</td>\n",
              "      <td>-1.0</td>\n",
              "      <td>-1.0</td>\n",
              "      <td>12.923</td>\n",
              "    </tr>\n",
              "    <tr>\n",
              "      <th>28</th>\n",
              "      <td>1.0</td>\n",
              "      <td>-1.0</td>\n",
              "      <td>-1.0</td>\n",
              "      <td>1.0</td>\n",
              "      <td>1.0</td>\n",
              "      <td>1.0</td>\n",
              "      <td>-1.0</td>\n",
              "      <td>-1.0</td>\n",
              "      <td>-1.0</td>\n",
              "      <td>-1.0</td>\n",
              "      <td>1.0</td>\n",
              "      <td>1.0</td>\n",
              "      <td>1.0</td>\n",
              "      <td>-1.0</td>\n",
              "      <td>-1.0</td>\n",
              "      <td>1.0</td>\n",
              "      <td>12.337</td>\n",
              "    </tr>\n",
              "    <tr>\n",
              "      <th>29</th>\n",
              "      <td>1.0</td>\n",
              "      <td>1.0</td>\n",
              "      <td>-1.0</td>\n",
              "      <td>1.0</td>\n",
              "      <td>1.0</td>\n",
              "      <td>-1.0</td>\n",
              "      <td>1.0</td>\n",
              "      <td>1.0</td>\n",
              "      <td>-1.0</td>\n",
              "      <td>-1.0</td>\n",
              "      <td>1.0</td>\n",
              "      <td>-1.0</td>\n",
              "      <td>-1.0</td>\n",
              "      <td>1.0</td>\n",
              "      <td>-1.0</td>\n",
              "      <td>-1.0</td>\n",
              "      <td>5.904</td>\n",
              "    </tr>\n",
              "    <tr>\n",
              "      <th>30</th>\n",
              "      <td>1.0</td>\n",
              "      <td>-1.0</td>\n",
              "      <td>1.0</td>\n",
              "      <td>1.0</td>\n",
              "      <td>1.0</td>\n",
              "      <td>-1.0</td>\n",
              "      <td>-1.0</td>\n",
              "      <td>-1.0</td>\n",
              "      <td>1.0</td>\n",
              "      <td>1.0</td>\n",
              "      <td>1.0</td>\n",
              "      <td>-1.0</td>\n",
              "      <td>-1.0</td>\n",
              "      <td>-1.0</td>\n",
              "      <td>1.0</td>\n",
              "      <td>-1.0</td>\n",
              "      <td>10.935</td>\n",
              "    </tr>\n",
              "    <tr>\n",
              "      <th>31</th>\n",
              "      <td>1.0</td>\n",
              "      <td>1.0</td>\n",
              "      <td>1.0</td>\n",
              "      <td>1.0</td>\n",
              "      <td>1.0</td>\n",
              "      <td>1.0</td>\n",
              "      <td>1.0</td>\n",
              "      <td>1.0</td>\n",
              "      <td>1.0</td>\n",
              "      <td>1.0</td>\n",
              "      <td>1.0</td>\n",
              "      <td>1.0</td>\n",
              "      <td>1.0</td>\n",
              "      <td>1.0</td>\n",
              "      <td>1.0</td>\n",
              "      <td>1.0</td>\n",
              "      <td>15.053</td>\n",
              "    </tr>\n",
              "  </tbody>\n",
              "</table>\n",
              "</div>\n",
              "      <button class=\"colab-df-convert\" onclick=\"convertToInteractive('df-3dc05ac0-5ac5-4521-9cdd-46777d023cfe')\"\n",
              "              title=\"Convert this dataframe to an interactive table.\"\n",
              "              style=\"display:none;\">\n",
              "        \n",
              "  <svg xmlns=\"http://www.w3.org/2000/svg\" height=\"24px\"viewBox=\"0 0 24 24\"\n",
              "       width=\"24px\">\n",
              "    <path d=\"M0 0h24v24H0V0z\" fill=\"none\"/>\n",
              "    <path d=\"M18.56 5.44l.94 2.06.94-2.06 2.06-.94-2.06-.94-.94-2.06-.94 2.06-2.06.94zm-11 1L8.5 8.5l.94-2.06 2.06-.94-2.06-.94L8.5 2.5l-.94 2.06-2.06.94zm10 10l.94 2.06.94-2.06 2.06-.94-2.06-.94-.94-2.06-.94 2.06-2.06.94z\"/><path d=\"M17.41 7.96l-1.37-1.37c-.4-.4-.92-.59-1.43-.59-.52 0-1.04.2-1.43.59L10.3 9.45l-7.72 7.72c-.78.78-.78 2.05 0 2.83L4 21.41c.39.39.9.59 1.41.59.51 0 1.02-.2 1.41-.59l7.78-7.78 2.81-2.81c.8-.78.8-2.07 0-2.86zM5.41 20L4 18.59l7.72-7.72 1.47 1.35L5.41 20z\"/>\n",
              "  </svg>\n",
              "      </button>\n",
              "      \n",
              "  <style>\n",
              "    .colab-df-container {\n",
              "      display:flex;\n",
              "      flex-wrap:wrap;\n",
              "      gap: 12px;\n",
              "    }\n",
              "\n",
              "    .colab-df-convert {\n",
              "      background-color: #E8F0FE;\n",
              "      border: none;\n",
              "      border-radius: 50%;\n",
              "      cursor: pointer;\n",
              "      display: none;\n",
              "      fill: #1967D2;\n",
              "      height: 32px;\n",
              "      padding: 0 0 0 0;\n",
              "      width: 32px;\n",
              "    }\n",
              "\n",
              "    .colab-df-convert:hover {\n",
              "      background-color: #E2EBFA;\n",
              "      box-shadow: 0px 1px 2px rgba(60, 64, 67, 0.3), 0px 1px 3px 1px rgba(60, 64, 67, 0.15);\n",
              "      fill: #174EA6;\n",
              "    }\n",
              "\n",
              "    [theme=dark] .colab-df-convert {\n",
              "      background-color: #3B4455;\n",
              "      fill: #D2E3FC;\n",
              "    }\n",
              "\n",
              "    [theme=dark] .colab-df-convert:hover {\n",
              "      background-color: #434B5C;\n",
              "      box-shadow: 0px 1px 3px 1px rgba(0, 0, 0, 0.15);\n",
              "      filter: drop-shadow(0px 1px 2px rgba(0, 0, 0, 0.3));\n",
              "      fill: #FFFFFF;\n",
              "    }\n",
              "  </style>\n",
              "\n",
              "      <script>\n",
              "        const buttonEl =\n",
              "          document.querySelector('#df-3dc05ac0-5ac5-4521-9cdd-46777d023cfe button.colab-df-convert');\n",
              "        buttonEl.style.display =\n",
              "          google.colab.kernel.accessAllowed ? 'block' : 'none';\n",
              "\n",
              "        async function convertToInteractive(key) {\n",
              "          const element = document.querySelector('#df-3dc05ac0-5ac5-4521-9cdd-46777d023cfe');\n",
              "          const dataTable =\n",
              "            await google.colab.kernel.invokeFunction('convertToInteractive',\n",
              "                                                     [key], {});\n",
              "          if (!dataTable) return;\n",
              "\n",
              "          const docLinkHtml = 'Like what you see? Visit the ' +\n",
              "            '<a target=\"_blank\" href=https://colab.research.google.com/notebooks/data_table.ipynb>data table notebook</a>'\n",
              "            + ' to learn more about interactive tables.';\n",
              "          element.innerHTML = '';\n",
              "          dataTable['output_type'] = 'display_data';\n",
              "          await google.colab.output.renderOutput(dataTable, element);\n",
              "          const docLink = document.createElement('div');\n",
              "          docLink.innerHTML = docLinkHtml;\n",
              "          element.appendChild(docLink);\n",
              "        }\n",
              "      </script>\n",
              "    </div>\n",
              "  </div>\n",
              "  "
            ]
          },
          "metadata": {},
          "execution_count": 160
        }
      ]
    },
    {
      "cell_type": "code",
      "source": [
        "# creating dataframe containing values where c is equal to -1\n",
        "C_minus = xxpd[['I', 'a', 'b', 'c','ab', 'ac', 'bc', 'abc','d','ad','bd','abd','cd','acd','bcd','abcd']][xxpd['c'] == -1]\n",
        "C_minus['result'] = data['result'][data['c'] == -1]\n",
        "C_minus.tail()"
      ],
      "metadata": {
        "colab": {
          "base_uri": "https://localhost:8080/",
          "height": 206
        },
        "id": "6tuklatiRqa8",
        "outputId": "558a9f80-cbc7-48fb-ec3f-55279a99a460"
      },
      "execution_count": 161,
      "outputs": [
        {
          "output_type": "execute_result",
          "data": {
            "text/plain": [
              "      I    a    b    c   ab   ac   bc  abc    d   ad   bd  abd   cd  acd  bcd  \\\n",
              "19  1.0  1.0  1.0 -1.0 -1.0  1.0 -1.0 -1.0 -1.0 -1.0  1.0 -1.0 -1.0  1.0  1.0   \n",
              "24  1.0 -1.0 -1.0 -1.0  1.0  1.0  1.0 -1.0  1.0 -1.0 -1.0 -1.0  1.0  1.0  1.0   \n",
              "25  1.0  1.0 -1.0 -1.0  1.0 -1.0 -1.0  1.0  1.0 -1.0 -1.0  1.0 -1.0 -1.0  1.0   \n",
              "26  1.0 -1.0  1.0 -1.0  1.0 -1.0  1.0 -1.0 -1.0  1.0 -1.0  1.0 -1.0  1.0 -1.0   \n",
              "27  1.0  1.0  1.0 -1.0  1.0  1.0 -1.0  1.0 -1.0  1.0 -1.0 -1.0  1.0 -1.0 -1.0   \n",
              "\n",
              "    abcd  result  \n",
              "19   1.0  17.815  \n",
              "24  -1.0   8.951  \n",
              "25   1.0  17.052  \n",
              "26   1.0  13.658  \n",
              "27  -1.0  19.639  "
            ],
            "text/html": [
              "\n",
              "  <div id=\"df-fcdad86e-62c5-4b34-a618-20fd8cd34810\">\n",
              "    <div class=\"colab-df-container\">\n",
              "      <div>\n",
              "<style scoped>\n",
              "    .dataframe tbody tr th:only-of-type {\n",
              "        vertical-align: middle;\n",
              "    }\n",
              "\n",
              "    .dataframe tbody tr th {\n",
              "        vertical-align: top;\n",
              "    }\n",
              "\n",
              "    .dataframe thead th {\n",
              "        text-align: right;\n",
              "    }\n",
              "</style>\n",
              "<table border=\"1\" class=\"dataframe\">\n",
              "  <thead>\n",
              "    <tr style=\"text-align: right;\">\n",
              "      <th></th>\n",
              "      <th>I</th>\n",
              "      <th>a</th>\n",
              "      <th>b</th>\n",
              "      <th>c</th>\n",
              "      <th>ab</th>\n",
              "      <th>ac</th>\n",
              "      <th>bc</th>\n",
              "      <th>abc</th>\n",
              "      <th>d</th>\n",
              "      <th>ad</th>\n",
              "      <th>bd</th>\n",
              "      <th>abd</th>\n",
              "      <th>cd</th>\n",
              "      <th>acd</th>\n",
              "      <th>bcd</th>\n",
              "      <th>abcd</th>\n",
              "      <th>result</th>\n",
              "    </tr>\n",
              "  </thead>\n",
              "  <tbody>\n",
              "    <tr>\n",
              "      <th>19</th>\n",
              "      <td>1.0</td>\n",
              "      <td>1.0</td>\n",
              "      <td>1.0</td>\n",
              "      <td>-1.0</td>\n",
              "      <td>-1.0</td>\n",
              "      <td>1.0</td>\n",
              "      <td>-1.0</td>\n",
              "      <td>-1.0</td>\n",
              "      <td>-1.0</td>\n",
              "      <td>-1.0</td>\n",
              "      <td>1.0</td>\n",
              "      <td>-1.0</td>\n",
              "      <td>-1.0</td>\n",
              "      <td>1.0</td>\n",
              "      <td>1.0</td>\n",
              "      <td>1.0</td>\n",
              "      <td>17.815</td>\n",
              "    </tr>\n",
              "    <tr>\n",
              "      <th>24</th>\n",
              "      <td>1.0</td>\n",
              "      <td>-1.0</td>\n",
              "      <td>-1.0</td>\n",
              "      <td>-1.0</td>\n",
              "      <td>1.0</td>\n",
              "      <td>1.0</td>\n",
              "      <td>1.0</td>\n",
              "      <td>-1.0</td>\n",
              "      <td>1.0</td>\n",
              "      <td>-1.0</td>\n",
              "      <td>-1.0</td>\n",
              "      <td>-1.0</td>\n",
              "      <td>1.0</td>\n",
              "      <td>1.0</td>\n",
              "      <td>1.0</td>\n",
              "      <td>-1.0</td>\n",
              "      <td>8.951</td>\n",
              "    </tr>\n",
              "    <tr>\n",
              "      <th>25</th>\n",
              "      <td>1.0</td>\n",
              "      <td>1.0</td>\n",
              "      <td>-1.0</td>\n",
              "      <td>-1.0</td>\n",
              "      <td>1.0</td>\n",
              "      <td>-1.0</td>\n",
              "      <td>-1.0</td>\n",
              "      <td>1.0</td>\n",
              "      <td>1.0</td>\n",
              "      <td>-1.0</td>\n",
              "      <td>-1.0</td>\n",
              "      <td>1.0</td>\n",
              "      <td>-1.0</td>\n",
              "      <td>-1.0</td>\n",
              "      <td>1.0</td>\n",
              "      <td>1.0</td>\n",
              "      <td>17.052</td>\n",
              "    </tr>\n",
              "    <tr>\n",
              "      <th>26</th>\n",
              "      <td>1.0</td>\n",
              "      <td>-1.0</td>\n",
              "      <td>1.0</td>\n",
              "      <td>-1.0</td>\n",
              "      <td>1.0</td>\n",
              "      <td>-1.0</td>\n",
              "      <td>1.0</td>\n",
              "      <td>-1.0</td>\n",
              "      <td>-1.0</td>\n",
              "      <td>1.0</td>\n",
              "      <td>-1.0</td>\n",
              "      <td>1.0</td>\n",
              "      <td>-1.0</td>\n",
              "      <td>1.0</td>\n",
              "      <td>-1.0</td>\n",
              "      <td>1.0</td>\n",
              "      <td>13.658</td>\n",
              "    </tr>\n",
              "    <tr>\n",
              "      <th>27</th>\n",
              "      <td>1.0</td>\n",
              "      <td>1.0</td>\n",
              "      <td>1.0</td>\n",
              "      <td>-1.0</td>\n",
              "      <td>1.0</td>\n",
              "      <td>1.0</td>\n",
              "      <td>-1.0</td>\n",
              "      <td>1.0</td>\n",
              "      <td>-1.0</td>\n",
              "      <td>1.0</td>\n",
              "      <td>-1.0</td>\n",
              "      <td>-1.0</td>\n",
              "      <td>1.0</td>\n",
              "      <td>-1.0</td>\n",
              "      <td>-1.0</td>\n",
              "      <td>-1.0</td>\n",
              "      <td>19.639</td>\n",
              "    </tr>\n",
              "  </tbody>\n",
              "</table>\n",
              "</div>\n",
              "      <button class=\"colab-df-convert\" onclick=\"convertToInteractive('df-fcdad86e-62c5-4b34-a618-20fd8cd34810')\"\n",
              "              title=\"Convert this dataframe to an interactive table.\"\n",
              "              style=\"display:none;\">\n",
              "        \n",
              "  <svg xmlns=\"http://www.w3.org/2000/svg\" height=\"24px\"viewBox=\"0 0 24 24\"\n",
              "       width=\"24px\">\n",
              "    <path d=\"M0 0h24v24H0V0z\" fill=\"none\"/>\n",
              "    <path d=\"M18.56 5.44l.94 2.06.94-2.06 2.06-.94-2.06-.94-.94-2.06-.94 2.06-2.06.94zm-11 1L8.5 8.5l.94-2.06 2.06-.94-2.06-.94L8.5 2.5l-.94 2.06-2.06.94zm10 10l.94 2.06.94-2.06 2.06-.94-2.06-.94-.94-2.06-.94 2.06-2.06.94z\"/><path d=\"M17.41 7.96l-1.37-1.37c-.4-.4-.92-.59-1.43-.59-.52 0-1.04.2-1.43.59L10.3 9.45l-7.72 7.72c-.78.78-.78 2.05 0 2.83L4 21.41c.39.39.9.59 1.41.59.51 0 1.02-.2 1.41-.59l7.78-7.78 2.81-2.81c.8-.78.8-2.07 0-2.86zM5.41 20L4 18.59l7.72-7.72 1.47 1.35L5.41 20z\"/>\n",
              "  </svg>\n",
              "      </button>\n",
              "      \n",
              "  <style>\n",
              "    .colab-df-container {\n",
              "      display:flex;\n",
              "      flex-wrap:wrap;\n",
              "      gap: 12px;\n",
              "    }\n",
              "\n",
              "    .colab-df-convert {\n",
              "      background-color: #E8F0FE;\n",
              "      border: none;\n",
              "      border-radius: 50%;\n",
              "      cursor: pointer;\n",
              "      display: none;\n",
              "      fill: #1967D2;\n",
              "      height: 32px;\n",
              "      padding: 0 0 0 0;\n",
              "      width: 32px;\n",
              "    }\n",
              "\n",
              "    .colab-df-convert:hover {\n",
              "      background-color: #E2EBFA;\n",
              "      box-shadow: 0px 1px 2px rgba(60, 64, 67, 0.3), 0px 1px 3px 1px rgba(60, 64, 67, 0.15);\n",
              "      fill: #174EA6;\n",
              "    }\n",
              "\n",
              "    [theme=dark] .colab-df-convert {\n",
              "      background-color: #3B4455;\n",
              "      fill: #D2E3FC;\n",
              "    }\n",
              "\n",
              "    [theme=dark] .colab-df-convert:hover {\n",
              "      background-color: #434B5C;\n",
              "      box-shadow: 0px 1px 3px 1px rgba(0, 0, 0, 0.15);\n",
              "      filter: drop-shadow(0px 1px 2px rgba(0, 0, 0, 0.3));\n",
              "      fill: #FFFFFF;\n",
              "    }\n",
              "  </style>\n",
              "\n",
              "      <script>\n",
              "        const buttonEl =\n",
              "          document.querySelector('#df-fcdad86e-62c5-4b34-a618-20fd8cd34810 button.colab-df-convert');\n",
              "        buttonEl.style.display =\n",
              "          google.colab.kernel.accessAllowed ? 'block' : 'none';\n",
              "\n",
              "        async function convertToInteractive(key) {\n",
              "          const element = document.querySelector('#df-fcdad86e-62c5-4b34-a618-20fd8cd34810');\n",
              "          const dataTable =\n",
              "            await google.colab.kernel.invokeFunction('convertToInteractive',\n",
              "                                                     [key], {});\n",
              "          if (!dataTable) return;\n",
              "\n",
              "          const docLinkHtml = 'Like what you see? Visit the ' +\n",
              "            '<a target=\"_blank\" href=https://colab.research.google.com/notebooks/data_table.ipynb>data table notebook</a>'\n",
              "            + ' to learn more about interactive tables.';\n",
              "          element.innerHTML = '';\n",
              "          dataTable['output_type'] = 'display_data';\n",
              "          await google.colab.output.renderOutput(dataTable, element);\n",
              "          const docLink = document.createElement('div');\n",
              "          docLink.innerHTML = docLinkHtml;\n",
              "          element.appendChild(docLink);\n",
              "        }\n",
              "      </script>\n",
              "    </div>\n",
              "  </div>\n",
              "  "
            ]
          },
          "metadata": {},
          "execution_count": 161
        }
      ]
    },
    {
      "cell_type": "code",
      "source": [
        "# predicted response using skleran LinearRegression fit\n",
        "\n",
        "X3=C_plus[['a', 'b', 'c','d','ab', 'ac', 'bc','ad','bd','cd']]\n",
        "Y3=C_plus[['result']]\n",
        "regr=LinearRegression()\n",
        "regr.fit(X3,Y3)\n",
        "Yhat3=regr.predict(X3)\n",
        "Yhat3"
      ],
      "metadata": {
        "colab": {
          "base_uri": "https://localhost:8080/"
        },
        "id": "5gJcoZ5qccyX",
        "outputId": "05370e33-dc6a-4dbc-d529-a27ccc8e4d80"
      },
      "execution_count": 162,
      "outputs": [
        {
          "output_type": "execute_result",
          "data": {
            "text/plain": [
              "array([[10.2291875],\n",
              "       [ 4.2808125],\n",
              "       [ 9.2586875],\n",
              "       [13.2293125],\n",
              "       [12.1393125],\n",
              "       [ 5.9666875],\n",
              "       [11.1103125],\n",
              "       [15.3051875],\n",
              "       [10.2291875],\n",
              "       [ 4.2808125],\n",
              "       [ 9.2586875],\n",
              "       [13.2293125],\n",
              "       [12.1393125],\n",
              "       [ 5.9666875],\n",
              "       [11.1103125],\n",
              "       [15.3051875]])"
            ]
          },
          "metadata": {},
          "execution_count": 162
        }
      ]
    },
    {
      "cell_type": "code",
      "source": [
        "# predicted response using skleran LinearRegression fit\n",
        "\n",
        "X4=C_minus[['a', 'b', 'c','d','ab', 'ac', 'bc','ad','bd','cd']]\n",
        "Y4=C_minus[['result']]\n",
        "regr=LinearRegression()\n",
        "regr.fit(X4,Y4)\n",
        "Yhat4=regr.predict(X4)\n",
        "Yhat4"
      ],
      "metadata": {
        "colab": {
          "base_uri": "https://localhost:8080/"
        },
        "id": "iiai--j1cdDX",
        "outputId": "02d07506-abd1-40a1-bb18-77f6a43d0f90"
      },
      "execution_count": 163,
      "outputs": [
        {
          "output_type": "execute_result",
          "data": {
            "text/plain": [
              "array([[ 6.6778125],\n",
              "       [14.9916875],\n",
              "       [11.8333125],\n",
              "       [17.5726875],\n",
              "       [ 8.7846875],\n",
              "       [16.9308125],\n",
              "       [13.7956875],\n",
              "       [19.7028125],\n",
              "       [ 6.6778125],\n",
              "       [14.9916875],\n",
              "       [11.8333125],\n",
              "       [17.5726875],\n",
              "       [ 8.7846875],\n",
              "       [16.9308125],\n",
              "       [13.7956875],\n",
              "       [19.7028125]])"
            ]
          },
          "metadata": {},
          "execution_count": 163
        }
      ]
    },
    {
      "cell_type": "markdown",
      "source": [
        "# Ex 13.20 (a)"
      ],
      "metadata": {
        "id": "vcuBQTHLWNZM"
      }
    },
    {
      "cell_type": "code",
      "source": [
        "# use statsmodels for OLS fitting and t statistics\n",
        "# in this case, X is C_plus with the first column I\n",
        "\n",
        "model3 = sm.OLS(Y3, X3)\n",
        "res3=model3.fit()\n",
        "print(res3.summary())"
      ],
      "metadata": {
        "colab": {
          "base_uri": "https://localhost:8080/"
        },
        "id": "K23sDrecRqdq",
        "outputId": "57a377b4-3ddd-4d75-e64e-93d0fe2208f9"
      },
      "execution_count": 164,
      "outputs": [
        {
          "output_type": "stream",
          "name": "stdout",
          "text": [
            "                            OLS Regression Results                            \n",
            "==============================================================================\n",
            "Dep. Variable:                 result   R-squared:                       0.997\n",
            "Model:                            OLS   Adj. R-squared:                  0.995\n",
            "Method:                 Least Squares   F-statistic:                     467.1\n",
            "Date:                Thu, 13 Oct 2022   Prob (F-statistic):           1.06e-10\n",
            "Time:                        23:00:35   Log-Likelihood:                 3.5427\n",
            "No. Observations:                  16   AIC:                             6.915\n",
            "Df Residuals:                       9   BIC:                             12.32\n",
            "Df Model:                           6                                         \n",
            "Covariance Type:            nonrobust                                         \n",
            "==============================================================================\n",
            "                 coef    std err          t      P>|t|      [0.025      0.975]\n",
            "------------------------------------------------------------------------------\n",
            "a             -0.2472      0.032     -7.649      0.000      -0.320      -0.174\n",
            "b              1.0180      0.032     31.498      0.000       0.945       1.091\n",
            "c             10.1899      0.065    157.649      0.000      10.044      10.336\n",
            "d              1.0180      0.032     31.498      0.000       0.945       1.091\n",
            "ab             0.4702      0.032     14.550      0.000       0.397       0.543\n",
            "ac             2.5358      0.065     39.232      0.000       2.390       2.682\n",
            "bc            -0.2472      0.032     -7.649      0.000      -0.320      -0.174\n",
            "ad             0.0414      0.065      0.641      0.537      -0.105       0.188\n",
            "bd             0.4702      0.032     14.550      0.000       0.397       0.543\n",
            "cd             0.0561      0.065      0.867      0.408      -0.090       0.202\n",
            "==============================================================================\n",
            "Omnibus:                        1.560   Durbin-Watson:                   2.012\n",
            "Prob(Omnibus):                  0.458   Jarque-Bera (JB):                0.882\n",
            "Skew:                          -0.100   Prob(JB):                        0.643\n",
            "Kurtosis:                       1.867   Cond. No.                     2.13e+16\n",
            "==============================================================================\n",
            "\n",
            "Notes:\n",
            "[1] Standard Errors assume that the covariance matrix of the errors is correctly specified.\n",
            "[2] The smallest eigenvalue is 7.05e-32. This might indicate that there are\n",
            "strong multicollinearity problems or that the design matrix is singular.\n"
          ]
        },
        {
          "output_type": "stream",
          "name": "stderr",
          "text": [
            "/usr/local/lib/python3.7/dist-packages/scipy/stats/stats.py:1542: UserWarning:\n",
            "\n",
            "kurtosistest only valid for n>=20 ... continuing anyway, n=16\n",
            "\n"
          ]
        }
      ]
    },
    {
      "cell_type": "code",
      "source": [
        "# use statsmodels for OLS fitting and t statistics\n",
        "# in this case, X is C_minus with the first column I\n",
        "\n",
        "model4 = sm.OLS(Y4, X4)\n",
        "res4=model4.fit()\n",
        "print(res4.summary())"
      ],
      "metadata": {
        "colab": {
          "base_uri": "https://localhost:8080/"
        },
        "id": "SBI4Cbw6Rqfs",
        "outputId": "778d29b0-dd44-44b5-ccb1-00f21eb86c39"
      },
      "execution_count": 165,
      "outputs": [
        {
          "output_type": "stream",
          "name": "stdout",
          "text": [
            "                            OLS Regression Results                            \n",
            "==============================================================================\n",
            "Dep. Variable:                 result   R-squared:                       0.997\n",
            "Model:                            OLS   Adj. R-squared:                  0.996\n",
            "Method:                 Least Squares   F-statistic:                     562.7\n",
            "Date:                Thu, 13 Oct 2022   Prob (F-statistic):           4.59e-11\n",
            "Time:                        23:00:35   Log-Likelihood:                 1.8147\n",
            "No. Observations:                  16   AIC:                             10.37\n",
            "Df Residuals:                       9   BIC:                             15.78\n",
            "Df Model:                           6                                         \n",
            "Covariance Type:            nonrobust                                         \n",
            "==============================================================================\n",
            "                 coef    std err          t      P>|t|      [0.025      0.975]\n",
            "------------------------------------------------------------------------------\n",
            "a              1.7567      0.036     48.790      0.000       1.675       1.838\n",
            "b              0.9700      0.036     26.940      0.000       0.889       1.051\n",
            "c            -13.7862      0.072   -191.452      0.000     -13.949     -13.623\n",
            "d             -0.9700      0.036    -26.940      0.000      -1.051      -0.889\n",
            "ab             0.5087      0.036     14.128      0.000       0.427       0.590\n",
            "ac            -0.6017      0.072     -8.356      0.000      -0.765      -0.439\n",
            "bc            -1.7567      0.036    -48.790      0.000      -1.838      -1.675\n",
            "ad             0.0058      0.072      0.081      0.937      -0.157       0.169\n",
            "bd            -0.5087      0.036    -14.128      0.000      -0.590      -0.427\n",
            "cd             0.0419      0.072      0.582      0.575      -0.121       0.205\n",
            "==============================================================================\n",
            "Omnibus:                        4.126   Durbin-Watson:                   1.374\n",
            "Prob(Omnibus):                  0.127   Jarque-Bera (JB):                1.313\n",
            "Skew:                          -0.012   Prob(JB):                        0.519\n",
            "Kurtosis:                       1.597   Cond. No.                     2.13e+16\n",
            "==============================================================================\n",
            "\n",
            "Notes:\n",
            "[1] Standard Errors assume that the covariance matrix of the errors is correctly specified.\n",
            "[2] The smallest eigenvalue is 7.05e-32. This might indicate that there are\n",
            "strong multicollinearity problems or that the design matrix is singular.\n"
          ]
        },
        {
          "output_type": "stream",
          "name": "stderr",
          "text": [
            "/usr/local/lib/python3.7/dist-packages/scipy/stats/stats.py:1542: UserWarning:\n",
            "\n",
            "kurtosistest only valid for n>=20 ... continuing anyway, n=16\n",
            "\n"
          ]
        }
      ]
    },
    {
      "cell_type": "markdown",
      "source": [
        "The main difference between these models is the coefficient of factor C. When looking at the regression equation for the positive values of C, the coefficient of factor C (heat treatment method) is positive meaning that it contributes to the formation of longer cracks. When looking at the equation for the negative values of C, the coefficient is negative meaning that it aids in reducing crack length.\n",
        "\n",
        "Other differences are observed when looking at the coefficient values for other factors. In the regression model for positive values of factor C, the coefficients for factor a and the two factor interaction bc are negative meaning they aid in reducing crack length while all other factors and two factor interactions are positive and increase crack length. In the regression model for negative values of factor C, the coefficient of factors c and d as well as the two factor interactions ac, bc, and bd are negative and reduce crack length while all other coefficients for factors and two factor interactions are positive and contribute to increased crack length."
      ],
      "metadata": {
        "id": "tH6Xv1G_WrCI"
      }
    },
    {
      "cell_type": "markdown",
      "source": [
        "# Ex 13.20 (b)"
      ],
      "metadata": {
        "id": "hCVIuTYufCwo"
      }
    },
    {
      "cell_type": "code",
      "source": [
        "# C_plus\n",
        "# 3 D plot of model factor a and b vs y\n",
        "# Z axis is the predicted observation Yhat3\n",
        "\n",
        "fig, ax = plt.subplots(subplot_kw={\"projection\": \"3d\"})\n",
        "\n",
        "x1=C_plus['a']\n",
        "x2=C_plus['b']\n",
        "x1, x2 = np.meshgrid(x1, x2)\n",
        "\n",
        "# Plot the surface.\n",
        "surf = ax.plot_surface(x1, x2, Yhat3, cmap=cm.coolwarm,\n",
        "                       linewidth=0, antialiased=False)\n",
        "\n",
        "# Add a color bar which maps values to colors.\n",
        "fig.colorbar(surf, shrink=0.5, aspect=5)\n",
        "\n",
        "plt.show()"
      ],
      "metadata": {
        "colab": {
          "base_uri": "https://localhost:8080/",
          "height": 248
        },
        "id": "Lfudu9toZUBa",
        "outputId": "3009414a-5996-4e58-d685-96bde29d9baa"
      },
      "execution_count": 166,
      "outputs": [
        {
          "output_type": "display_data",
          "data": {
            "text/plain": [
              "<Figure size 432x288 with 2 Axes>"
            ],
            "image/png": "[encoded data removed]"
          },
          "metadata": {
            "needs_background": "light"
          }
        }
      ]
    },
    {
      "cell_type": "code",
      "source": [
        "# C_plus\n",
        "# 3 D plot of model factor a and d vs y\n",
        "# Z axis is the predicted observation Yhat3\n",
        "\n",
        "fig, ax = plt.subplots(subplot_kw={\"projection\": \"3d\"})\n",
        "\n",
        "x1=C_plus['a']\n",
        "x2=C_plus['d']\n",
        "x1, x2 = np.meshgrid(x1, x2)\n",
        "\n",
        "# Plot the surface.\n",
        "surf = ax.plot_surface(x1, x2, Yhat3, cmap=cm.coolwarm,\n",
        "                       linewidth=0, antialiased=False)\n",
        "\n",
        "# Add a color bar which maps values to colors.\n",
        "fig.colorbar(surf, shrink=0.5, aspect=5)\n",
        "\n",
        "plt.show()"
      ],
      "metadata": {
        "colab": {
          "base_uri": "https://localhost:8080/",
          "height": 248
        },
        "id": "-W8Uk0jmeCao",
        "outputId": "e4d7099e-faf1-4b7f-cd07-bf0ee261fe3e"
      },
      "execution_count": 167,
      "outputs": [
        {
          "output_type": "display_data",
          "data": {
            "text/plain": [
              "<Figure size 432x288 with 2 Axes>"
            ],
            "image/png": "[encoded data removed]"
          },
          "metadata": {
            "needs_background": "light"
          }
        }
      ]
    },
    {
      "cell_type": "code",
      "source": [
        "# C_plus\n",
        "# 3 D plot of model factor b and d vs y\n",
        "# Z axis is the predicted observation Yhat3\n",
        "\n",
        "fig, ax = plt.subplots(subplot_kw={\"projection\": \"3d\"})\n",
        "\n",
        "x1=C_plus['b']\n",
        "x2=C_plus['d']\n",
        "x1, x2 = np.meshgrid(x1, x2)\n",
        "\n",
        "# Plot the surface.\n",
        "surf = ax.plot_surface(x1, x2, Yhat3, cmap=cm.coolwarm,\n",
        "                       linewidth=0, antialiased=False)\n",
        "\n",
        "# Add a color bar which maps values to colors.\n",
        "fig.colorbar(surf, shrink=0.5, aspect=5)\n",
        "\n",
        "plt.show()"
      ],
      "metadata": {
        "colab": {
          "base_uri": "https://localhost:8080/",
          "height": 248
        },
        "id": "UjY2Acb1fH6O",
        "outputId": "9d9af1bb-053f-4eed-d11f-2d3e0a06f86e"
      },
      "execution_count": 168,
      "outputs": [
        {
          "output_type": "display_data",
          "data": {
            "text/plain": [
              "<Figure size 432x288 with 2 Axes>"
            ],
            "image/png": "[encoded data removed]"
          },
          "metadata": {
            "needs_background": "light"
          }
        }
      ]
    },
    {
      "cell_type": "code",
      "source": [
        "# C_minus\n",
        "# 3 D plot of model factor a and b vs y\n",
        "# Z axis is the predicted observation Yhat4\n",
        "\n",
        "fig, ax = plt.subplots(subplot_kw={\"projection\": \"3d\"})\n",
        "\n",
        "x1=C_minus['a']\n",
        "x2=C_minus['b']\n",
        "x1, x2 = np.meshgrid(x1, x2)\n",
        "\n",
        "# Plot the surface.\n",
        "surf = ax.plot_surface(x1, x2, Yhat4, cmap=cm.coolwarm,\n",
        "                       linewidth=0, antialiased=False)\n",
        "\n",
        "# Add a color bar which maps values to colors.\n",
        "fig.colorbar(surf, shrink=0.5, aspect=5)\n",
        "\n",
        "plt.show()"
      ],
      "metadata": {
        "colab": {
          "base_uri": "https://localhost:8080/",
          "height": 248
        },
        "id": "2xWFP4kGfJBW",
        "outputId": "6babf5ce-c978-4f6c-e74c-2e981df57ea4"
      },
      "execution_count": 169,
      "outputs": [
        {
          "output_type": "display_data",
          "data": {
            "text/plain": [
              "<Figure size 432x288 with 2 Axes>"
            ],
            "image/png": "[encoded data removed]"
          },
          "metadata": {
            "needs_background": "light"
          }
        }
      ]
    },
    {
      "cell_type": "code",
      "source": [
        "# C_minus\n",
        "# 3 D plot of model factor a and d vs y\n",
        "# Z axis is the predicted observation Yhat4\n",
        "\n",
        "fig, ax = plt.subplots(subplot_kw={\"projection\": \"3d\"})\n",
        "\n",
        "x1=C_minus['a']\n",
        "x2=C_minus['d']\n",
        "x1, x2 = np.meshgrid(x1, x2)\n",
        "\n",
        "# Plot the surface.\n",
        "surf = ax.plot_surface(x1, x2, Yhat4, cmap=cm.coolwarm,\n",
        "                       linewidth=0, antialiased=False)\n",
        "\n",
        "# Add a color bar which maps values to colors.\n",
        "fig.colorbar(surf, shrink=0.5, aspect=5)\n",
        "\n",
        "plt.show()"
      ],
      "metadata": {
        "colab": {
          "base_uri": "https://localhost:8080/",
          "height": 248
        },
        "id": "L5t1ZpZ-fJDu",
        "outputId": "ec6dda6e-c200-474d-a96c-8f8b94312f20"
      },
      "execution_count": 170,
      "outputs": [
        {
          "output_type": "display_data",
          "data": {
            "text/plain": [
              "<Figure size 432x288 with 2 Axes>"
            ],
            "image/png": "[encoded data removed]"
          },
          "metadata": {
            "needs_background": "light"
          }
        }
      ]
    },
    {
      "cell_type": "code",
      "source": [
        "# C_minus\n",
        "# 3 D plot of model factor b and d vs y\n",
        "# Z axis is the predicted observation Yhat4\n",
        "\n",
        "fig, ax = plt.subplots(subplot_kw={\"projection\": \"3d\"})\n",
        "\n",
        "x1=C_minus['b']\n",
        "x2=C_minus['d']\n",
        "x1, x2 = np.meshgrid(x1, x2)\n",
        "\n",
        "# Plot the surface.\n",
        "surf = ax.plot_surface(x1, x2, Yhat4, cmap=cm.coolwarm,\n",
        "                       linewidth=0, antialiased=False)\n",
        "\n",
        "# Add a color bar which maps values to colors.\n",
        "fig.colorbar(surf, shrink=0.5, aspect=5)\n",
        "\n",
        "plt.show()"
      ],
      "metadata": {
        "colab": {
          "base_uri": "https://localhost:8080/",
          "height": 248
        },
        "id": "j51c9fHsfJGN",
        "outputId": "0ff433a2-f6e5-47b3-942f-2ca3ba263398"
      },
      "execution_count": 171,
      "outputs": [
        {
          "output_type": "display_data",
          "data": {
            "text/plain": [
              "<Figure size 432x288 with 2 Axes>"
            ],
            "image/png": "[encoded data removed]"
          },
          "metadata": {
            "needs_background": "light"
          }
        }
      ]
    },
    {
      "cell_type": "markdown",
      "source": [
        "# 13.20 (c)"
      ],
      "metadata": {
        "id": "zUL7cpnmgK-b"
      }
    },
    {
      "cell_type": "markdown",
      "source": [
        "When using the heat treatment method categorized by C=+, I recommend using low levels for factors a (pouring temperature), b (titanium content), and d (amount of grain refiner used) to reduce variability and minimize average crack length. "
      ],
      "metadata": {
        "id": "-_3Qs-k9gLMS"
      }
    },
    {
      "cell_type": "markdown",
      "source": [
        "# 13.20 (d)"
      ],
      "metadata": {
        "id": "De4J2g6OgLYK"
      }
    },
    {
      "cell_type": "markdown",
      "source": [
        "When using the heat treatment method categorized by C=-, I recommend using \n",
        "low levels of factors a (pouring temperature) and b (titanium content) as well as high levels of factor d (amount of grain refinder used) to reduce variability and minimize average crack length."
      ],
      "metadata": {
        "id": "dK5_aDzfgLgK"
      }
    }
  ]
}